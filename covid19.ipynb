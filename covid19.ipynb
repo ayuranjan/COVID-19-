{
  "nbformat": 4,
  "nbformat_minor": 0,
  "metadata": {
    "colab": {
      "name": "covid19.ipynb",
      "provenance": [],
      "mount_file_id": "1NcIv2vkF55CgSSUJ1pWOlq3YfZYI01_M",
      "authorship_tag": "ABX9TyMQI9QtVLlEkr3ce6zYXObJ",
      "include_colab_link": true
    },
    "kernelspec": {
      "name": "python3",
      "display_name": "Python 3"
    },
    "accelerator": "GPU"
  },
  "cells": [
    {
      "cell_type": "markdown",
      "metadata": {
        "id": "view-in-github",
        "colab_type": "text"
      },
      "source": [
        "<a href=\"https://colab.research.google.com/github/ayuranjan/COVID-19-/blob/master/covid19.ipynb\" target=\"_parent\"><img src=\"https://colab.research.google.com/assets/colab-badge.svg\" alt=\"Open In Colab\"/></a>"
      ]
    },
    {
      "cell_type": "code",
      "metadata": {
        "id": "G8EXMY3Kcz1H",
        "colab_type": "code",
        "outputId": "0a8d438c-9757-4c14-c6ea-fb67d7529d0c",
        "colab": {
          "base_uri": "https://localhost:8080/",
          "height": 34
        }
      },
      "source": [
        "ls"
      ],
      "execution_count": 0,
      "outputs": [
        {
          "output_type": "stream",
          "text": [
            "\u001b[0m\u001b[01;34mdrive\u001b[0m/  \u001b[01;34msample_data\u001b[0m/\n"
          ],
          "name": "stdout"
        }
      ]
    },
    {
      "cell_type": "code",
      "metadata": {
        "id": "oWLrHGLVc2tg",
        "colab_type": "code",
        "outputId": "f5badfe8-456d-4222-8be3-4d9d2b3b8a69",
        "colab": {
          "base_uri": "https://localhost:8080/",
          "height": 34
        }
      },
      "source": [
        "cd drive"
      ],
      "execution_count": 0,
      "outputs": [
        {
          "output_type": "stream",
          "text": [
            "/content/drive\n"
          ],
          "name": "stdout"
        }
      ]
    },
    {
      "cell_type": "code",
      "metadata": {
        "id": "OJFwvpradAh-",
        "colab_type": "code",
        "outputId": "8201379b-1b48-4d5e-d50b-a559bb6a10a3",
        "colab": {
          "base_uri": "https://localhost:8080/",
          "height": 34
        }
      },
      "source": [
        "ls"
      ],
      "execution_count": 0,
      "outputs": [
        {
          "output_type": "stream",
          "text": [
            "\u001b[0m\u001b[01;34m'My Drive'\u001b[0m/\n"
          ],
          "name": "stdout"
        }
      ]
    },
    {
      "cell_type": "code",
      "metadata": {
        "id": "K1lg1k26dEcs",
        "colab_type": "code",
        "outputId": "8ac4b8d5-e958-4685-98d9-a2584a8349d2",
        "colab": {
          "base_uri": "https://localhost:8080/",
          "height": 34
        }
      },
      "source": [
        "cd /content/drive/My Drive/ayush_ranjan_project"
      ],
      "execution_count": 0,
      "outputs": [
        {
          "output_type": "stream",
          "text": [
            "/content/drive/My Drive/ayush_ranjan_project\n"
          ],
          "name": "stdout"
        }
      ]
    },
    {
      "cell_type": "code",
      "metadata": {
        "id": "TnWHHZBqef4x",
        "colab_type": "code",
        "outputId": "a2c3aa56-7f83-49e5-f83f-3bca7ee66d5f",
        "colab": {
          "base_uri": "https://localhost:8080/",
          "height": 51
        }
      },
      "source": [
        "ls"
      ],
      "execution_count": 0,
      "outputs": [
        {
          "output_type": "stream",
          "text": [
            "ayu.txt.zip  \u001b[0m\u001b[01;34mCovid19\u001b[0m/      CT_NonCOVID.zip  \u001b[01;34mtesty\u001b[0m/\n",
            "\u001b[01;34mChatBot\u001b[0m/     CT_COVID.zip  \u001b[01;34m__MACOSX\u001b[0m/\n"
          ],
          "name": "stdout"
        }
      ]
    },
    {
      "cell_type": "code",
      "metadata": {
        "id": "DOH6IEPLekln",
        "colab_type": "code",
        "outputId": "ecb9e279-bfe5-45cf-eca4-250fc029ca7e",
        "colab": {
          "base_uri": "https://localhost:8080/",
          "height": 1000
        }
      },
      "source": [
        "! unzip CT_COVID.zip -d '/content/drive/My Drive/ayush_ranjan_project/Covid19'"
      ],
      "execution_count": 0,
      "outputs": [
        {
          "output_type": "stream",
          "text": [
            "Archive:  CT_COVID.zip\n",
            "   creating: /content/drive/My Drive/ayush_ranjan_project/Covid19/CT_COVID/\n",
            "  inflating: /content/drive/My Drive/ayush_ranjan_project/Covid19/CT_COVID/2020.03.01.20029769-p21-73_1%1.png  \n",
            "   creating: /content/drive/My Drive/ayush_ranjan_project/Covid19/__MACOSX/\n",
            "   creating: /content/drive/My Drive/ayush_ranjan_project/Covid19/__MACOSX/CT_COVID/\n",
            "  inflating: /content/drive/My Drive/ayush_ranjan_project/Covid19/__MACOSX/CT_COVID/._2020.03.01.20029769-p21-73_1%1.png  \n",
            "  inflating: /content/drive/My Drive/ayush_ranjan_project/Covid19/CT_COVID/Recurrence-of-positive-SARS-CoV-2-RNA-in-C_2020_International-Journal-of-Inf-p1-21%1.png  \n",
            "  inflating: /content/drive/My Drive/ayush_ranjan_project/Covid19/__MACOSX/CT_COVID/._Recurrence-of-positive-SARS-CoV-2-RNA-in-C_2020_International-Journal-of-Inf-p1-21%1.png  \n",
            "  inflating: /content/drive/My Drive/ayush_ranjan_project/Covid19/CT_COVID/2020.03.12.20034686-p17-91-4.png  \n",
            "  inflating: /content/drive/My Drive/ayush_ranjan_project/Covid19/__MACOSX/CT_COVID/._2020.03.12.20034686-p17-91-4.png  \n",
            "  inflating: /content/drive/My Drive/ayush_ranjan_project/Covid19/CT_COVID/2020.02.25.20021568-p24-111%8.png  \n",
            "  inflating: /content/drive/My Drive/ayush_ranjan_project/Covid19/__MACOSX/CT_COVID/._2020.02.25.20021568-p24-111%8.png  \n",
            "  inflating: /content/drive/My Drive/ayush_ranjan_project/Covid19/CT_COVID/2020.03.13.20035212-p23-153.png  \n",
            "  inflating: /content/drive/My Drive/ayush_ranjan_project/Covid19/__MACOSX/CT_COVID/._2020.03.13.20035212-p23-153.png  \n",
            "  inflating: /content/drive/My Drive/ayush_ranjan_project/Covid19/CT_COVID/2020.03.21.20040691-p18-6-6.png  \n",
            "  inflating: /content/drive/My Drive/ayush_ranjan_project/Covid19/__MACOSX/CT_COVID/._2020.03.21.20040691-p18-6-6.png  \n",
            "  inflating: /content/drive/My Drive/ayush_ranjan_project/Covid19/CT_COVID/2020.03.04.20030395-p27-108%7.png  \n",
            "  inflating: /content/drive/My Drive/ayush_ranjan_project/Covid19/__MACOSX/CT_COVID/._2020.03.04.20030395-p27-108%7.png  \n",
            "  inflating: /content/drive/My Drive/ayush_ranjan_project/Covid19/CT_COVID/2020.02.22.20024927-p19-68%3.png  \n",
            "  inflating: /content/drive/My Drive/ayush_ranjan_project/Covid19/__MACOSX/CT_COVID/._2020.02.22.20024927-p19-68%3.png  \n",
            "  inflating: /content/drive/My Drive/ayush_ranjan_project/Covid19/CT_COVID/2020.03.07.20031393-p7-50%2.png  \n",
            "  inflating: /content/drive/My Drive/ayush_ranjan_project/Covid19/__MACOSX/CT_COVID/._2020.03.07.20031393-p7-50%2.png  \n",
            "  inflating: /content/drive/My Drive/ayush_ranjan_project/Covid19/CT_COVID/2020.03.09.20033118-p20-93%0.png  \n",
            "  inflating: /content/drive/My Drive/ayush_ranjan_project/Covid19/__MACOSX/CT_COVID/._2020.03.09.20033118-p20-93%0.png  \n",
            "  inflating: /content/drive/My Drive/ayush_ranjan_project/Covid19/CT_COVID/2020.03.09.20033118-p20-93%1.png  \n",
            "  inflating: /content/drive/My Drive/ayush_ranjan_project/Covid19/__MACOSX/CT_COVID/._2020.03.09.20033118-p20-93%1.png  \n",
            "  inflating: /content/drive/My Drive/ayush_ranjan_project/Covid19/CT_COVID/2020.03.07.20031393-p7-50%3.png  \n",
            "  inflating: /content/drive/My Drive/ayush_ranjan_project/Covid19/__MACOSX/CT_COVID/._2020.03.07.20031393-p7-50%3.png  \n",
            "  inflating: /content/drive/My Drive/ayush_ranjan_project/Covid19/CT_COVID/2020.02.22.20024927-p19-68%2.png  \n",
            "  inflating: /content/drive/My Drive/ayush_ranjan_project/Covid19/__MACOSX/CT_COVID/._2020.02.22.20024927-p19-68%2.png  \n",
            "  inflating: /content/drive/My Drive/ayush_ranjan_project/Covid19/CT_COVID/2020.03.04.20030395-p27-108%6.png  \n",
            "  inflating: /content/drive/My Drive/ayush_ranjan_project/Covid19/__MACOSX/CT_COVID/._2020.03.04.20030395-p27-108%6.png  \n",
            "  inflating: /content/drive/My Drive/ayush_ranjan_project/Covid19/CT_COVID/2020.03.13.20035212-p23-152.png  \n",
            "  inflating: /content/drive/My Drive/ayush_ranjan_project/Covid19/__MACOSX/CT_COVID/._2020.03.13.20035212-p23-152.png  \n",
            "  inflating: /content/drive/My Drive/ayush_ranjan_project/Covid19/CT_COVID/2020.03.22.20034041-p18-92-1.png  \n",
            "  inflating: /content/drive/My Drive/ayush_ranjan_project/Covid19/__MACOSX/CT_COVID/._2020.03.22.20034041-p18-92-1.png  \n",
            "  inflating: /content/drive/My Drive/ayush_ranjan_project/Covid19/CT_COVID/2020.02.25.20021568-p24-111%9.png  \n",
            "  inflating: /content/drive/My Drive/ayush_ranjan_project/Covid19/__MACOSX/CT_COVID/._2020.02.25.20021568-p24-111%9.png  \n",
            "  inflating: /content/drive/My Drive/ayush_ranjan_project/Covid19/CT_COVID/2020.03.12.20034686-p17-91-5.png  \n",
            "  inflating: /content/drive/My Drive/ayush_ranjan_project/Covid19/__MACOSX/CT_COVID/._2020.03.12.20034686-p17-91-5.png  \n",
            "  inflating: /content/drive/My Drive/ayush_ranjan_project/Covid19/CT_COVID/Recurrence-of-positive-SARS-CoV-2-RNA-in-C_2020_International-Journal-of-Inf-p1-21%0.png  \n",
            "  inflating: /content/drive/My Drive/ayush_ranjan_project/Covid19/__MACOSX/CT_COVID/._Recurrence-of-positive-SARS-CoV-2-RNA-in-C_2020_International-Journal-of-Inf-p1-21%0.png  \n",
            "  inflating: /content/drive/My Drive/ayush_ranjan_project/Covid19/CT_COVID/2020.03.01.20029769-p21-73_1%0.png  \n",
            "  inflating: /content/drive/My Drive/ayush_ranjan_project/Covid19/__MACOSX/CT_COVID/._2020.03.01.20029769-p21-73_1%0.png  \n",
            "  inflating: /content/drive/My Drive/ayush_ranjan_project/Covid19/CT_COVID/2020.03.01.20029769-p21-73_1%2.png  \n",
            "  inflating: /content/drive/My Drive/ayush_ranjan_project/Covid19/__MACOSX/CT_COVID/._2020.03.01.20029769-p21-73_1%2.png  \n",
            "  inflating: /content/drive/My Drive/ayush_ranjan_project/Covid19/CT_COVID/2020.02.26.20027938-p6-80_2%0.png  \n",
            "  inflating: /content/drive/My Drive/ayush_ranjan_project/Covid19/__MACOSX/CT_COVID/._2020.02.26.20027938-p6-80_2%0.png  \n",
            "  inflating: /content/drive/My Drive/ayush_ranjan_project/Covid19/CT_COVID/2020.03.22.20034041-p18-92-3.png  \n",
            "  inflating: /content/drive/My Drive/ayush_ranjan_project/Covid19/__MACOSX/CT_COVID/._2020.03.22.20034041-p18-92-3.png  \n",
            "  inflating: /content/drive/My Drive/ayush_ranjan_project/Covid19/CT_COVID/2020.02.17.20024018-p17-61%4.png  \n",
            "  inflating: /content/drive/My Drive/ayush_ranjan_project/Covid19/__MACOSX/CT_COVID/._2020.02.17.20024018-p17-61%4.png  \n",
            "  inflating: /content/drive/My Drive/ayush_ranjan_project/Covid19/CT_COVID/2020.03.04.20030395-p27-108%4.png  \n",
            "  inflating: /content/drive/My Drive/ayush_ranjan_project/Covid19/__MACOSX/CT_COVID/._2020.03.04.20030395-p27-108%4.png  \n",
            "  inflating: /content/drive/My Drive/ayush_ranjan_project/Covid19/CT_COVID/2020.02.22.20024927-p19-68%0.png  \n",
            "  inflating: /content/drive/My Drive/ayush_ranjan_project/Covid19/__MACOSX/CT_COVID/._2020.02.22.20024927-p19-68%0.png  \n",
            "  inflating: /content/drive/My Drive/ayush_ranjan_project/Covid19/CT_COVID/2020.03.09.20033118-p20-93%3.png  \n",
            "  inflating: /content/drive/My Drive/ayush_ranjan_project/Covid19/__MACOSX/CT_COVID/._2020.03.09.20033118-p20-93%3.png  \n",
            "  inflating: /content/drive/My Drive/ayush_ranjan_project/Covid19/CT_COVID/2020.03.07.20031393-p7-50%1.png  \n",
            "  inflating: /content/drive/My Drive/ayush_ranjan_project/Covid19/__MACOSX/CT_COVID/._2020.03.07.20031393-p7-50%1.png  \n",
            "  inflating: /content/drive/My Drive/ayush_ranjan_project/Covid19/CT_COVID/2020.03.07.20031393-p7-50%0.png  \n",
            "  inflating: /content/drive/My Drive/ayush_ranjan_project/Covid19/__MACOSX/CT_COVID/._2020.03.07.20031393-p7-50%0.png  \n",
            "  inflating: /content/drive/My Drive/ayush_ranjan_project/Covid19/CT_COVID/2020.03.09.20033118-p20-93%2.png  \n",
            "  inflating: /content/drive/My Drive/ayush_ranjan_project/Covid19/__MACOSX/CT_COVID/._2020.03.09.20033118-p20-93%2.png  \n",
            "  inflating: /content/drive/My Drive/ayush_ranjan_project/Covid19/CT_COVID/2020.02.22.20024927-p19-68%1.png  \n",
            "  inflating: /content/drive/My Drive/ayush_ranjan_project/Covid19/__MACOSX/CT_COVID/._2020.02.22.20024927-p19-68%1.png  \n",
            "  inflating: /content/drive/My Drive/ayush_ranjan_project/Covid19/CT_COVID/2020.03.04.20030395-p27-108%5.png  \n",
            "  inflating: /content/drive/My Drive/ayush_ranjan_project/Covid19/__MACOSX/CT_COVID/._2020.03.04.20030395-p27-108%5.png  \n",
            "  inflating: /content/drive/My Drive/ayush_ranjan_project/Covid19/CT_COVID/2020.03.22.20034041-p18-92-2.png  \n",
            "  inflating: /content/drive/My Drive/ayush_ranjan_project/Covid19/__MACOSX/CT_COVID/._2020.03.22.20034041-p18-92-2.png  \n",
            "  inflating: /content/drive/My Drive/ayush_ranjan_project/Covid19/CT_COVID/2020.03.12.20034686-p17-91-6.png  \n",
            "  inflating: /content/drive/My Drive/ayush_ranjan_project/Covid19/__MACOSX/CT_COVID/._2020.03.12.20034686-p17-91-6.png  \n",
            "  inflating: /content/drive/My Drive/ayush_ranjan_project/Covid19/CT_COVID/2020.02.26.20027938-p6-80_2%1.png  \n",
            "  inflating: /content/drive/My Drive/ayush_ranjan_project/Covid19/__MACOSX/CT_COVID/._2020.02.26.20027938-p6-80_2%1.png  \n",
            "  inflating: /content/drive/My Drive/ayush_ranjan_project/Covid19/CT_COVID/2020.02.22.20024927-p20-70%0.png  \n",
            "  inflating: /content/drive/My Drive/ayush_ranjan_project/Covid19/__MACOSX/CT_COVID/._2020.02.22.20024927-p20-70%0.png  \n",
            "  inflating: /content/drive/My Drive/ayush_ranjan_project/Covid19/CT_COVID/2020.03.12.20027185-p8-217.png  \n",
            "  inflating: /content/drive/My Drive/ayush_ranjan_project/Covid19/__MACOSX/CT_COVID/._2020.03.12.20027185-p8-217.png  \n",
            "  inflating: /content/drive/My Drive/ayush_ranjan_project/Covid19/CT_COVID/2020.02.10.20021584-p6-52%9.png  \n",
            "  inflating: /content/drive/My Drive/ayush_ranjan_project/Covid19/__MACOSX/CT_COVID/._2020.02.10.20021584-p6-52%9.png  \n",
            "  inflating: /content/drive/My Drive/ayush_ranjan_project/Covid19/CT_COVID/2020.03.12.20034686-p17-91-2.png  \n",
            "  inflating: /content/drive/My Drive/ayush_ranjan_project/Covid19/__MACOSX/CT_COVID/._2020.03.12.20034686-p17-91-2.png  \n",
            "  inflating: /content/drive/My Drive/ayush_ranjan_project/Covid19/CT_COVID/2020.03.26.20041426-p11-128.png  \n",
            "  inflating: /content/drive/My Drive/ayush_ranjan_project/Covid19/__MACOSX/CT_COVID/._2020.03.26.20041426-p11-128.png  \n",
            "  inflating: /content/drive/My Drive/ayush_ranjan_project/Covid19/CT_COVID/2020.03.19.20038539-p10-57.png  \n",
            "  inflating: /content/drive/My Drive/ayush_ranjan_project/Covid19/__MACOSX/CT_COVID/._2020.03.19.20038539-p10-57.png  \n",
            "  inflating: /content/drive/My Drive/ayush_ranjan_project/Covid19/CT_COVID/2020.02.17.20024018-p17-61%1.png  \n",
            "  inflating: /content/drive/My Drive/ayush_ranjan_project/Covid19/__MACOSX/CT_COVID/._2020.02.17.20024018-p17-61%1.png  \n",
            "  inflating: /content/drive/My Drive/ayush_ranjan_project/Covid19/CT_COVID/2020.03.04.20030395-p27-108%1.png  \n",
            "  inflating: /content/drive/My Drive/ayush_ranjan_project/Covid19/__MACOSX/CT_COVID/._2020.03.04.20030395-p27-108%1.png  \n",
            "  inflating: /content/drive/My Drive/ayush_ranjan_project/Covid19/CT_COVID/2020.03.13.20035212-p23-155.png  \n",
            "  inflating: /content/drive/My Drive/ayush_ranjan_project/Covid19/__MACOSX/CT_COVID/._2020.03.13.20035212-p23-155.png  \n",
            "  inflating: /content/drive/My Drive/ayush_ranjan_project/Covid19/CT_COVID/kjr-21-e24-p5-31.png  \n",
            "  inflating: /content/drive/My Drive/ayush_ranjan_project/Covid19/__MACOSX/CT_COVID/._kjr-21-e24-p5-31.png  \n",
            "  inflating: /content/drive/My Drive/ayush_ranjan_project/Covid19/CT_COVID/2020.02.22.20024927-p19-68%5.png  \n",
            "  inflating: /content/drive/My Drive/ayush_ranjan_project/Covid19/__MACOSX/CT_COVID/._2020.02.22.20024927-p19-68%5.png  \n",
            "  inflating: /content/drive/My Drive/ayush_ranjan_project/Covid19/CT_COVID/2020.02.22.20024927-p19-68%4.png  \n",
            "  inflating: /content/drive/My Drive/ayush_ranjan_project/Covid19/__MACOSX/CT_COVID/._2020.02.22.20024927-p19-68%4.png  \n",
            "  inflating: /content/drive/My Drive/ayush_ranjan_project/Covid19/CT_COVID/2020.03.13.20035212-p23-154.png  \n",
            "  inflating: /content/drive/My Drive/ayush_ranjan_project/Covid19/__MACOSX/CT_COVID/._2020.03.13.20035212-p23-154.png  \n",
            "  inflating: /content/drive/My Drive/ayush_ranjan_project/Covid19/CT_COVID/2020.03.04.20030395-p27-108%0.png  \n",
            "  inflating: /content/drive/My Drive/ayush_ranjan_project/Covid19/__MACOSX/CT_COVID/._2020.03.04.20030395-p27-108%0.png  \n",
            "  inflating: /content/drive/My Drive/ayush_ranjan_project/Covid19/CT_COVID/2020.02.17.20024018-p17-61%0.png  \n",
            "  inflating: /content/drive/My Drive/ayush_ranjan_project/Covid19/__MACOSX/CT_COVID/._2020.02.17.20024018-p17-61%0.png  \n",
            "  inflating: /content/drive/My Drive/ayush_ranjan_project/Covid19/CT_COVID/2020.03.12.20034686-p17-91-3.png  \n",
            "  inflating: /content/drive/My Drive/ayush_ranjan_project/Covid19/__MACOSX/CT_COVID/._2020.03.12.20034686-p17-91-3.png  \n",
            "  inflating: /content/drive/My Drive/ayush_ranjan_project/Covid19/CT_COVID/2020.02.10.20021584-p6-52%8.png  \n",
            "  inflating: /content/drive/My Drive/ayush_ranjan_project/Covid19/__MACOSX/CT_COVID/._2020.02.10.20021584-p6-52%8.png  \n",
            "  inflating: /content/drive/My Drive/ayush_ranjan_project/Covid19/CT_COVID/2020.03.12.20027185-p8-216.png  \n",
            "  inflating: /content/drive/My Drive/ayush_ranjan_project/Covid19/__MACOSX/CT_COVID/._2020.03.12.20027185-p8-216.png  \n",
            "  inflating: /content/drive/My Drive/ayush_ranjan_project/Covid19/CT_COVID/2020.02.22.20024927-p20-70%1.png  \n",
            "  inflating: /content/drive/My Drive/ayush_ranjan_project/Covid19/__MACOSX/CT_COVID/._2020.02.22.20024927-p20-70%1.png  \n",
            "  inflating: /content/drive/My Drive/ayush_ranjan_project/Covid19/CT_COVID/2020.02.22.20024927-p20-70%3.png  \n",
            "  inflating: /content/drive/My Drive/ayush_ranjan_project/Covid19/__MACOSX/CT_COVID/._2020.02.22.20024927-p20-70%3.png  \n",
            "  inflating: /content/drive/My Drive/ayush_ranjan_project/Covid19/CT_COVID/2020.03.12.20034686-p17-91-1.png  \n",
            "  inflating: /content/drive/My Drive/ayush_ranjan_project/Covid19/__MACOSX/CT_COVID/._2020.03.12.20034686-p17-91-1.png  \n",
            "  inflating: /content/drive/My Drive/ayush_ranjan_project/Covid19/CT_COVID/2020.02.17.20024018-p17-61%2.png  \n",
            "  inflating: /content/drive/My Drive/ayush_ranjan_project/Covid19/__MACOSX/CT_COVID/._2020.02.17.20024018-p17-61%2.png  \n",
            "  inflating: /content/drive/My Drive/ayush_ranjan_project/Covid19/CT_COVID/2020.02.26.20026989-p34-114_1%0.png  \n",
            "  inflating: /content/drive/My Drive/ayush_ranjan_project/Covid19/__MACOSX/CT_COVID/._2020.02.26.20026989-p34-114_1%0.png  \n",
            "  inflating: /content/drive/My Drive/ayush_ranjan_project/Covid19/CT_COVID/2020.03.04.20030395-p27-108%2.png  \n",
            "  inflating: /content/drive/My Drive/ayush_ranjan_project/Covid19/__MACOSX/CT_COVID/._2020.03.04.20030395-p27-108%2.png  \n",
            "  inflating: /content/drive/My Drive/ayush_ranjan_project/Covid19/CT_COVID/2020.03.13.20035212-p23-156.png  \n",
            "  inflating: /content/drive/My Drive/ayush_ranjan_project/Covid19/__MACOSX/CT_COVID/._2020.03.13.20035212-p23-156.png  \n",
            "  inflating: /content/drive/My Drive/ayush_ranjan_project/Covid19/CT_COVID/2020.03.13.20035212-p23-157.png  \n",
            "  inflating: /content/drive/My Drive/ayush_ranjan_project/Covid19/__MACOSX/CT_COVID/._2020.03.13.20035212-p23-157.png  \n",
            "  inflating: /content/drive/My Drive/ayush_ranjan_project/Covid19/CT_COVID/2020.03.04.20030395-p27-108%3.png  \n",
            "  inflating: /content/drive/My Drive/ayush_ranjan_project/Covid19/__MACOSX/CT_COVID/._2020.03.04.20030395-p27-108%3.png  \n",
            "  inflating: /content/drive/My Drive/ayush_ranjan_project/Covid19/CT_COVID/2020.02.26.20026989-p34-114_1%1.png  \n",
            "  inflating: /content/drive/My Drive/ayush_ranjan_project/Covid19/__MACOSX/CT_COVID/._2020.02.26.20026989-p34-114_1%1.png  \n",
            "  inflating: /content/drive/My Drive/ayush_ranjan_project/Covid19/CT_COVID/2020.02.17.20024018-p17-61%3.png  \n",
            "  inflating: /content/drive/My Drive/ayush_ranjan_project/Covid19/__MACOSX/CT_COVID/._2020.02.17.20024018-p17-61%3.png  \n",
            "  inflating: /content/drive/My Drive/ayush_ranjan_project/Covid19/CT_COVID/2020.02.22.20024927-p20-70%2.png  \n",
            "  inflating: /content/drive/My Drive/ayush_ranjan_project/Covid19/__MACOSX/CT_COVID/._2020.02.22.20024927-p20-70%2.png  \n",
            "  inflating: /content/drive/My Drive/ayush_ranjan_project/Covid19/CT_COVID/2020.03.16.20036145-p19-128-3.png  \n",
            "  inflating: /content/drive/My Drive/ayush_ranjan_project/Covid19/__MACOSX/CT_COVID/._2020.03.16.20036145-p19-128-3.png  \n",
            "  inflating: /content/drive/My Drive/ayush_ranjan_project/Covid19/CT_COVID/2020.03.25.20037721-p27-174.png  \n",
            "  inflating: /content/drive/My Drive/ayush_ranjan_project/Covid19/__MACOSX/CT_COVID/._2020.03.25.20037721-p27-174.png  \n",
            "  inflating: /content/drive/My Drive/ayush_ranjan_project/Covid19/CT_COVID/Comparison-of-different-samples-for-2019-novel-cor_2020_International-Journa-p2-21%8.png  \n",
            "  inflating: /content/drive/My Drive/ayush_ranjan_project/Covid19/__MACOSX/CT_COVID/._Comparison-of-different-samples-for-2019-novel-cor_2020_International-Journa-p2-21%8.png  \n",
            "  inflating: /content/drive/My Drive/ayush_ranjan_project/Covid19/CT_COVID/PIIS0140673620303603%4.png  \n",
            "  inflating: /content/drive/My Drive/ayush_ranjan_project/Covid19/__MACOSX/CT_COVID/._PIIS0140673620303603%4.png  \n",
            "  inflating: /content/drive/My Drive/ayush_ranjan_project/Covid19/CT_COVID/2020.03.25.20043166-p17-81.png  \n",
            "  inflating: /content/drive/My Drive/ayush_ranjan_project/Covid19/__MACOSX/CT_COVID/._2020.03.25.20043166-p17-81.png  \n",
            "  inflating: /content/drive/My Drive/ayush_ranjan_project/Covid19/CT_COVID/2020.02.11.20021493-p16-109%1.png  \n",
            "  inflating: /content/drive/My Drive/ayush_ranjan_project/Covid19/__MACOSX/CT_COVID/._2020.02.11.20021493-p16-109%1.png  \n",
            "  inflating: /content/drive/My Drive/ayush_ranjan_project/Covid19/CT_COVID/2020.03.01.20029769-p21-73_2%0.png  \n",
            "  inflating: /content/drive/My Drive/ayush_ranjan_project/Covid19/__MACOSX/CT_COVID/._2020.03.01.20029769-p21-73_2%0.png  \n",
            "  inflating: /content/drive/My Drive/ayush_ranjan_project/Covid19/CT_COVID/2020.02.19.20025023-p20-93%2.png  \n",
            "  inflating: /content/drive/My Drive/ayush_ranjan_project/Covid19/__MACOSX/CT_COVID/._2020.02.19.20025023-p20-93%2.png  \n",
            "  inflating: /content/drive/My Drive/ayush_ranjan_project/Covid19/CT_COVID/2020.02.24.20027052-p8-73%2.png  \n",
            "  inflating: /content/drive/My Drive/ayush_ranjan_project/Covid19/__MACOSX/CT_COVID/._2020.02.24.20027052-p8-73%2.png  \n",
            "  inflating: /content/drive/My Drive/ayush_ranjan_project/Covid19/CT_COVID/2020.03.21.20040691-p18-67-7.png  \n",
            "  inflating: /content/drive/My Drive/ayush_ranjan_project/Covid19/__MACOSX/CT_COVID/._2020.03.21.20040691-p18-67-7.png  \n",
            "  inflating: /content/drive/My Drive/ayush_ranjan_project/Covid19/CT_COVID/2020.02.26.20027938-p6-80_3%0.png  \n",
            "  inflating: /content/drive/My Drive/ayush_ranjan_project/Covid19/__MACOSX/CT_COVID/._2020.02.26.20027938-p6-80_3%0.png  \n",
            "  inflating: /content/drive/My Drive/ayush_ranjan_project/Covid19/CT_COVID/2020.03.18.20038125-p16-56-6.png  \n",
            "  inflating: /content/drive/My Drive/ayush_ranjan_project/Covid19/__MACOSX/CT_COVID/._2020.03.18.20038125-p16-56-6.png  \n",
            "  inflating: /content/drive/My Drive/ayush_ranjan_project/Covid19/CT_COVID/2020.02.24.20027201-p19-669.png  \n",
            "  inflating: /content/drive/My Drive/ayush_ranjan_project/Covid19/__MACOSX/CT_COVID/._2020.02.24.20027201-p19-669.png  \n",
            "  inflating: /content/drive/My Drive/ayush_ranjan_project/Covid19/CT_COVID/2020.02.26.20027938-p6-80_3%1.png  \n",
            "  inflating: /content/drive/My Drive/ayush_ranjan_project/Covid19/__MACOSX/CT_COVID/._2020.02.26.20027938-p6-80_3%1.png  \n",
            "  inflating: /content/drive/My Drive/ayush_ranjan_project/Covid19/CT_COVID/2020.03.22.20040782-p24-1533-1.png  \n",
            "  inflating: /content/drive/My Drive/ayush_ranjan_project/Covid19/__MACOSX/CT_COVID/._2020.03.22.20040782-p24-1533-1.png  \n",
            "  inflating: /content/drive/My Drive/ayush_ranjan_project/Covid19/CT_COVID/2020.02.24.20027052-p8-73%3.png  \n",
            "  inflating: /content/drive/My Drive/ayush_ranjan_project/Covid19/__MACOSX/CT_COVID/._2020.02.24.20027052-p8-73%3.png  \n",
            "  inflating: /content/drive/My Drive/ayush_ranjan_project/Covid19/CT_COVID/2020.02.19.20025023-p20-93%3.png  \n",
            "  inflating: /content/drive/My Drive/ayush_ranjan_project/Covid19/__MACOSX/CT_COVID/._2020.02.19.20025023-p20-93%3.png  \n",
            "  inflating: /content/drive/My Drive/ayush_ranjan_project/Covid19/CT_COVID/2020.03.01.20029769-p21-73_2%1.png  \n",
            "  inflating: /content/drive/My Drive/ayush_ranjan_project/Covid19/__MACOSX/CT_COVID/._2020.03.01.20029769-p21-73_2%1.png  \n",
            "  inflating: /content/drive/My Drive/ayush_ranjan_project/Covid19/CT_COVID/2020.02.11.20021493-p16-109%0.png  \n",
            "  inflating: /content/drive/My Drive/ayush_ranjan_project/Covid19/__MACOSX/CT_COVID/._2020.02.11.20021493-p16-109%0.png  \n",
            "  inflating: /content/drive/My Drive/ayush_ranjan_project/Covid19/CT_COVID/2020.03.25.20043166-p17-80.png  \n",
            "  inflating: /content/drive/My Drive/ayush_ranjan_project/Covid19/__MACOSX/CT_COVID/._2020.03.25.20043166-p17-80.png  \n",
            "  inflating: /content/drive/My Drive/ayush_ranjan_project/Covid19/CT_COVID/PIIS0140673620303603%5.png  \n",
            "  inflating: /content/drive/My Drive/ayush_ranjan_project/Covid19/__MACOSX/CT_COVID/._PIIS0140673620303603%5.png  \n",
            "  inflating: /content/drive/My Drive/ayush_ranjan_project/Covid19/CT_COVID/Comparison-of-different-samples-for-2019-novel-cor_2020_International-Journa-p2-21%9.png  \n",
            "  inflating: /content/drive/My Drive/ayush_ranjan_project/Covid19/__MACOSX/CT_COVID/._Comparison-of-different-samples-for-2019-novel-cor_2020_International-Journa-p2-21%9.png  \n",
            "  inflating: /content/drive/My Drive/ayush_ranjan_project/Covid19/CT_COVID/2020.03.22.20034041-p17-80-1.png  \n",
            "  inflating: /content/drive/My Drive/ayush_ranjan_project/Covid19/__MACOSX/CT_COVID/._2020.03.22.20034041-p17-80-1.png  \n",
            "  inflating: /content/drive/My Drive/ayush_ranjan_project/Covid19/CT_COVID/2020.03.16.20036145-p19-128-2.png  \n",
            "  inflating: /content/drive/My Drive/ayush_ranjan_project/Covid19/__MACOSX/CT_COVID/._2020.03.16.20036145-p19-128-2.png  \n",
            "  inflating: /content/drive/My Drive/ayush_ranjan_project/Covid19/CT_COVID/2020.03.01.20029769-p21-73_4.png  \n",
            "  inflating: /content/drive/My Drive/ayush_ranjan_project/Covid19/__MACOSX/CT_COVID/._2020.03.01.20029769-p21-73_4.png  \n",
            "  inflating: /content/drive/My Drive/ayush_ranjan_project/Covid19/CT_COVID/PIIS0140673620303603%7.png  \n",
            "  inflating: /content/drive/My Drive/ayush_ranjan_project/Covid19/__MACOSX/CT_COVID/._PIIS0140673620303603%7.png  \n",
            "  inflating: /content/drive/My Drive/ayush_ranjan_project/Covid19/CT_COVID/2020.02.11.20021493-p16-109%2.png  \n",
            "  inflating: /content/drive/My Drive/ayush_ranjan_project/Covid19/__MACOSX/CT_COVID/._2020.02.11.20021493-p16-109%2.png  \n",
            "  inflating: /content/drive/My Drive/ayush_ranjan_project/Covid19/CT_COVID/2020.02.26.20027938-p6-80_1%1.png  \n",
            "  inflating: /content/drive/My Drive/ayush_ranjan_project/Covid19/__MACOSX/CT_COVID/._2020.02.26.20027938-p6-80_1%1.png  \n",
            "  inflating: /content/drive/My Drive/ayush_ranjan_project/Covid19/CT_COVID/2020.02.24.20027052-p8-73%1.png  \n",
            "  inflating: /content/drive/My Drive/ayush_ranjan_project/Covid19/__MACOSX/CT_COVID/._2020.02.24.20027052-p8-73%1.png  \n",
            "  inflating: /content/drive/My Drive/ayush_ranjan_project/Covid19/CT_COVID/2020.02.19.20025023-p20-93%1.png  \n",
            "  inflating: /content/drive/My Drive/ayush_ranjan_project/Covid19/__MACOSX/CT_COVID/._2020.02.19.20025023-p20-93%1.png  \n",
            "  inflating: /content/drive/My Drive/ayush_ranjan_project/Covid19/CT_COVID/2020.03.21.20040691-p18-67-4.png  \n",
            "  inflating: /content/drive/My Drive/ayush_ranjan_project/Covid19/__MACOSX/CT_COVID/._2020.03.21.20040691-p18-67-4.png  \n",
            "  inflating: /content/drive/My Drive/ayush_ranjan_project/Covid19/CT_COVID/2020.03.22.20040782-p24-1533-3.png  \n",
            "  inflating: /content/drive/My Drive/ayush_ranjan_project/Covid19/__MACOSX/CT_COVID/._2020.03.22.20040782-p24-1533-3.png  \n",
            "  inflating: /content/drive/My Drive/ayush_ranjan_project/Covid19/CT_COVID/2020.03.18.20038125-p16-56-5.png  \n",
            "  inflating: /content/drive/My Drive/ayush_ranjan_project/Covid19/__MACOSX/CT_COVID/._2020.03.18.20038125-p16-56-5.png  \n",
            "  inflating: /content/drive/My Drive/ayush_ranjan_project/Covid19/CT_COVID/2020.03.18.20038125-p16-56-4.png  \n",
            "  inflating: /content/drive/My Drive/ayush_ranjan_project/Covid19/__MACOSX/CT_COVID/._2020.03.18.20038125-p16-56-4.png  \n",
            "  inflating: /content/drive/My Drive/ayush_ranjan_project/Covid19/CT_COVID/2020.03.22.20040782-p24-1533-2.png  \n",
            "  inflating: /content/drive/My Drive/ayush_ranjan_project/Covid19/__MACOSX/CT_COVID/._2020.03.22.20040782-p24-1533-2.png  \n",
            "  inflating: /content/drive/My Drive/ayush_ranjan_project/Covid19/CT_COVID/2020.03.21.20040691-p18-67-5.png  \n",
            "  inflating: /content/drive/My Drive/ayush_ranjan_project/Covid19/__MACOSX/CT_COVID/._2020.03.21.20040691-p18-67-5.png  \n",
            "  inflating: /content/drive/My Drive/ayush_ranjan_project/Covid19/CT_COVID/2020.02.19.20025023-p20-93%0.png  \n",
            "  inflating: /content/drive/My Drive/ayush_ranjan_project/Covid19/__MACOSX/CT_COVID/._2020.02.19.20025023-p20-93%0.png  \n",
            "  inflating: /content/drive/My Drive/ayush_ranjan_project/Covid19/CT_COVID/2020.02.24.20027052-p8-73%0.png  \n",
            "  inflating: /content/drive/My Drive/ayush_ranjan_project/Covid19/__MACOSX/CT_COVID/._2020.02.24.20027052-p8-73%0.png  \n",
            "  inflating: /content/drive/My Drive/ayush_ranjan_project/Covid19/CT_COVID/2020.02.26.20027938-p6-80_1%0.png  \n",
            "  inflating: /content/drive/My Drive/ayush_ranjan_project/Covid19/__MACOSX/CT_COVID/._2020.02.26.20027938-p6-80_1%0.png  \n",
            "  inflating: /content/drive/My Drive/ayush_ranjan_project/Covid19/CT_COVID/2020.03.01.20029769-p21-73_2%2.png  \n",
            "  inflating: /content/drive/My Drive/ayush_ranjan_project/Covid19/__MACOSX/CT_COVID/._2020.03.01.20029769-p21-73_2%2.png  \n",
            "  inflating: /content/drive/My Drive/ayush_ranjan_project/Covid19/CT_COVID/med-9780198814924-chapter-17-p10-515.png  \n",
            "  inflating: /content/drive/My Drive/ayush_ranjan_project/Covid19/__MACOSX/CT_COVID/._med-9780198814924-chapter-17-p10-515.png  \n",
            "  inflating: /content/drive/My Drive/ayush_ranjan_project/Covid19/CT_COVID/PIIS0140673620303603%6.png  \n",
            "  inflating: /content/drive/My Drive/ayush_ranjan_project/Covid19/__MACOSX/CT_COVID/._PIIS0140673620303603%6.png  \n",
            "  inflating: /content/drive/My Drive/ayush_ranjan_project/Covid19/CT_COVID/2020.03.22.20034041-p17-80-2.png  \n",
            "  inflating: /content/drive/My Drive/ayush_ranjan_project/Covid19/__MACOSX/CT_COVID/._2020.03.22.20034041-p17-80-2.png  \n",
            "  inflating: /content/drive/My Drive/ayush_ranjan_project/Covid19/CT_COVID/2020.03.16.20036145-p19-128-1.png  \n",
            "  inflating: /content/drive/My Drive/ayush_ranjan_project/Covid19/__MACOSX/CT_COVID/._2020.03.16.20036145-p19-128-1.png  \n",
            "  inflating: /content/drive/My Drive/ayush_ranjan_project/Covid19/CT_COVID/2020.03.03.20030775-p12-93%1.png  \n",
            "  inflating: /content/drive/My Drive/ayush_ranjan_project/Covid19/__MACOSX/CT_COVID/._2020.03.03.20030775-p12-93%1.png  \n",
            "  inflating: /content/drive/My Drive/ayush_ranjan_project/Covid19/CT_COVID/2020.03.25.20037721-p27-172.png  \n",
            "  inflating: /content/drive/My Drive/ayush_ranjan_project/Covid19/__MACOSX/CT_COVID/._2020.03.25.20037721-p27-172.png  \n",
            "  inflating: /content/drive/My Drive/ayush_ranjan_project/Covid19/CT_COVID/2020.03.25.20043166-p17-78.png  \n",
            "  inflating: /content/drive/My Drive/ayush_ranjan_project/Covid19/__MACOSX/CT_COVID/._2020.03.25.20043166-p17-78.png  \n",
            "  inflating: /content/drive/My Drive/ayush_ranjan_project/Covid19/CT_COVID/PIIS0140673620303603%2.png  \n",
            "  inflating: /content/drive/My Drive/ayush_ranjan_project/Covid19/__MACOSX/CT_COVID/._PIIS0140673620303603%2.png  \n",
            "  inflating: /content/drive/My Drive/ayush_ranjan_project/Covid19/CT_COVID/2020.03.22.20040782-p24-1533-6.png  \n",
            "  inflating: /content/drive/My Drive/ayush_ranjan_project/Covid19/__MACOSX/CT_COVID/._2020.03.22.20040782-p24-1533-6.png  \n",
            "  inflating: /content/drive/My Drive/ayush_ranjan_project/Covid19/CT_COVID/2020.02.25.20021568-p23-108%8.png  \n",
            "  inflating: /content/drive/My Drive/ayush_ranjan_project/Covid19/__MACOSX/CT_COVID/._2020.02.25.20021568-p23-108%8.png  \n",
            "  inflating: /content/drive/My Drive/ayush_ranjan_project/Covid19/CT_COVID/2020.03.21.20040691-p18-67-1.png  \n",
            "  inflating: /content/drive/My Drive/ayush_ranjan_project/Covid19/__MACOSX/CT_COVID/._2020.03.21.20040691-p18-67-1.png  \n",
            "  inflating: /content/drive/My Drive/ayush_ranjan_project/Covid19/CT_COVID/2019-novel-Coronavirus-severe-adult-respiratory-dist_2020_International-Jour-p3-89%1.png  \n",
            "  inflating: /content/drive/My Drive/ayush_ranjan_project/Covid19/__MACOSX/CT_COVID/._2019-novel-Coronavirus-severe-adult-respiratory-dist_2020_International-Jour-p3-89%1.png  \n",
            "  inflating: /content/drive/My Drive/ayush_ranjan_project/Covid19/CT_COVID/2019-novel-Coronavirus-severe-adult-respiratory-dist_2020_International-Jour-p3-89%0.png  \n",
            "  inflating: /content/drive/My Drive/ayush_ranjan_project/Covid19/__MACOSX/CT_COVID/._2019-novel-Coronavirus-severe-adult-respiratory-dist_2020_International-Jour-p3-89%0.png  \n",
            "  inflating: /content/drive/My Drive/ayush_ranjan_project/Covid19/CT_COVID/2020.03.18.20038125-p16-56-1.png  \n",
            "  inflating: /content/drive/My Drive/ayush_ranjan_project/Covid19/__MACOSX/CT_COVID/._2020.03.18.20038125-p16-56-1.png  \n",
            "  inflating: /content/drive/My Drive/ayush_ranjan_project/Covid19/CT_COVID/2020.03.22.20040782-p24-1533-7.png  \n",
            "  inflating: /content/drive/My Drive/ayush_ranjan_project/Covid19/__MACOSX/CT_COVID/._2020.03.22.20040782-p24-1533-7.png  \n",
            "  inflating: /content/drive/My Drive/ayush_ranjan_project/Covid19/CT_COVID/2020.02.25.20021568-p23-108%9.png  \n",
            "  inflating: /content/drive/My Drive/ayush_ranjan_project/Covid19/__MACOSX/CT_COVID/._2020.02.25.20021568-p23-108%9.png  \n",
            "  inflating: /content/drive/My Drive/ayush_ranjan_project/Covid19/CT_COVID/PIIS0140673620303603%3.png  \n",
            "  inflating: /content/drive/My Drive/ayush_ranjan_project/Covid19/__MACOSX/CT_COVID/._PIIS0140673620303603%3.png  \n",
            "  inflating: /content/drive/My Drive/ayush_ranjan_project/Covid19/CT_COVID/2020.03.25.20043166-p17-79.png  \n",
            "  inflating: /content/drive/My Drive/ayush_ranjan_project/Covid19/__MACOSX/CT_COVID/._2020.03.25.20043166-p17-79.png  \n",
            "  inflating: /content/drive/My Drive/ayush_ranjan_project/Covid19/CT_COVID/2020.03.25.20037721-p27-173.png  \n",
            "  inflating: /content/drive/My Drive/ayush_ranjan_project/Covid19/__MACOSX/CT_COVID/._2020.03.25.20037721-p27-173.png  \n",
            "  inflating: /content/drive/My Drive/ayush_ranjan_project/Covid19/CT_COVID/kjr-21-e25-p1-6.png  \n",
            "  inflating: /content/drive/My Drive/ayush_ranjan_project/Covid19/__MACOSX/CT_COVID/._kjr-21-e25-p1-6.png  \n",
            "  inflating: /content/drive/My Drive/ayush_ranjan_project/Covid19/CT_COVID/2020.03.16.20036145-p19-128-4.png  \n",
            "  inflating: /content/drive/My Drive/ayush_ranjan_project/Covid19/__MACOSX/CT_COVID/._2020.03.16.20036145-p19-128-4.png  \n",
            "  inflating: /content/drive/My Drive/ayush_ranjan_project/Covid19/CT_COVID/2020.03.03.20030775-p12-93%0.png  \n",
            "  inflating: /content/drive/My Drive/ayush_ranjan_project/Covid19/__MACOSX/CT_COVID/._2020.03.03.20030775-p12-93%0.png  \n",
            "  inflating: /content/drive/My Drive/ayush_ranjan_project/Covid19/CT_COVID/2020.03.25.20037721-p27-165.png  \n",
            "  inflating: /content/drive/My Drive/ayush_ranjan_project/Covid19/__MACOSX/CT_COVID/._2020.03.25.20037721-p27-165.png  \n",
            "  inflating: /content/drive/My Drive/ayush_ranjan_project/Covid19/CT_COVID/2020.02.26.20026989-p34-114_2%1.png  \n",
            "  inflating: /content/drive/My Drive/ayush_ranjan_project/Covid19/__MACOSX/CT_COVID/._2020.02.26.20026989-p34-114_2%1.png  \n",
            "  inflating: /content/drive/My Drive/ayush_ranjan_project/Covid19/CT_COVID/PIIS0140673620303603%1.png  \n",
            "  inflating: /content/drive/My Drive/ayush_ranjan_project/Covid19/__MACOSX/CT_COVID/._PIIS0140673620303603%1.png  \n",
            "  inflating: /content/drive/My Drive/ayush_ranjan_project/Covid19/CT_COVID/PIIS0140673620301549_0%1.png  \n",
            "  inflating: /content/drive/My Drive/ayush_ranjan_project/Covid19/__MACOSX/CT_COVID/._PIIS0140673620301549_0%1.png  \n",
            "  inflating: /content/drive/My Drive/ayush_ranjan_project/Covid19/CT_COVID/2020.03.22.20040782-p24-1533-5.png  \n",
            "  inflating: /content/drive/My Drive/ayush_ranjan_project/Covid19/__MACOSX/CT_COVID/._2020.03.22.20040782-p24-1533-5.png  \n",
            "  inflating: /content/drive/My Drive/ayush_ranjan_project/Covid19/CT_COVID/2020.03.21.20040691-p18-67-2.png  \n",
            "  inflating: /content/drive/My Drive/ayush_ranjan_project/Covid19/__MACOSX/CT_COVID/._2020.03.21.20040691-p18-67-2.png  \n",
            "  inflating: /content/drive/My Drive/ayush_ranjan_project/Covid19/CT_COVID/2020.03.18.20038125-p16-56-3.png  \n",
            "  inflating: /content/drive/My Drive/ayush_ranjan_project/Covid19/__MACOSX/CT_COVID/._2020.03.18.20038125-p16-56-3.png  \n",
            "  inflating: /content/drive/My Drive/ayush_ranjan_project/Covid19/CT_COVID/2020.03.18.20038125-p16-56-2.png  \n",
            "  inflating: /content/drive/My Drive/ayush_ranjan_project/Covid19/__MACOSX/CT_COVID/._2020.03.18.20038125-p16-56-2.png  \n",
            "  inflating: /content/drive/My Drive/ayush_ranjan_project/Covid19/CT_COVID/2020.03.21.20040691-p18-67-3.png  \n",
            "  inflating: /content/drive/My Drive/ayush_ranjan_project/Covid19/__MACOSX/CT_COVID/._2020.03.21.20040691-p18-67-3.png  \n",
            "  inflating: /content/drive/My Drive/ayush_ranjan_project/Covid19/CT_COVID/2020.03.22.20040782-p24-1533-4.png  \n",
            "  inflating: /content/drive/My Drive/ayush_ranjan_project/Covid19/__MACOSX/CT_COVID/._2020.03.22.20040782-p24-1533-4.png  \n",
            "  inflating: /content/drive/My Drive/ayush_ranjan_project/Covid19/CT_COVID/PIIS0140673620301549_0%0.png  \n",
            "  inflating: /content/drive/My Drive/ayush_ranjan_project/Covid19/__MACOSX/CT_COVID/._PIIS0140673620301549_0%0.png  \n",
            "  inflating: /content/drive/My Drive/ayush_ranjan_project/Covid19/CT_COVID/PIIS0140673620303603%0.png  \n",
            "  inflating: /content/drive/My Drive/ayush_ranjan_project/Covid19/__MACOSX/CT_COVID/._PIIS0140673620303603%0.png  \n",
            "  inflating: /content/drive/My Drive/ayush_ranjan_project/Covid19/CT_COVID/2020.02.26.20026989-p34-114_2%0.png  \n",
            "  inflating: /content/drive/My Drive/ayush_ranjan_project/Covid19/__MACOSX/CT_COVID/._2020.02.26.20026989-p34-114_2%0.png  \n",
            "  inflating: /content/drive/My Drive/ayush_ranjan_project/Covid19/CT_COVID/2020.03.01.20029769-p21-73_3.png  \n",
            "  inflating: /content/drive/My Drive/ayush_ranjan_project/Covid19/__MACOSX/CT_COVID/._2020.03.01.20029769-p21-73_3.png  \n",
            "  inflating: /content/drive/My Drive/ayush_ranjan_project/Covid19/CT_COVID/2020.03.25.20037721-p27-182.png  \n",
            "  inflating: /content/drive/My Drive/ayush_ranjan_project/Covid19/__MACOSX/CT_COVID/._2020.03.25.20037721-p27-182.png  \n",
            "  inflating: /content/drive/My Drive/ayush_ranjan_project/Covid19/CT_COVID/kjr-21-e25-p1-8.png  \n",
            "  inflating: /content/drive/My Drive/ayush_ranjan_project/Covid19/__MACOSX/CT_COVID/._kjr-21-e25-p1-8.png  \n",
            "  inflating: /content/drive/My Drive/ayush_ranjan_project/Covid19/CT_COVID/Comparison-of-different-samples-for-2019-novel-cor_2020_International-Journa-p2-21%1.png  \n",
            "  inflating: /content/drive/My Drive/ayush_ranjan_project/Covid19/__MACOSX/CT_COVID/._Comparison-of-different-samples-for-2019-novel-cor_2020_International-Journa-p2-21%1.png  \n",
            "  inflating: /content/drive/My Drive/ayush_ranjan_project/Covid19/CT_COVID/2020.02.23.20026856-p17-115%4.png  \n",
            "  inflating: /content/drive/My Drive/ayush_ranjan_project/Covid19/__MACOSX/CT_COVID/._2020.02.23.20026856-p17-115%4.png  \n",
            "  inflating: /content/drive/My Drive/ayush_ranjan_project/Covid19/CT_COVID/2020.03.16.20035105-p6-64-4.png  \n",
            "  inflating: /content/drive/My Drive/ayush_ranjan_project/Covid19/__MACOSX/CT_COVID/._2020.03.16.20035105-p6-64-4.png  \n",
            "  inflating: /content/drive/My Drive/ayush_ranjan_project/Covid19/CT_COVID/impact_of_covid19_infection_on_pregnancy_outcomes_and_the_risk_of_maternaltoneonatal_intrapartum_transmission_of_covid19_during_natural_birth-p8-41%1.png  \n",
            "  inflating: /content/drive/My Drive/ayush_ranjan_project/Covid19/__MACOSX/CT_COVID/._impact_of_covid19_infection_on_pregnancy_outcomes_and_the_risk_of_maternaltoneonatal_intrapartum_transmission_of_covid19_during_natural_birth-p8-41%1.png  \n",
            "  inflating: /content/drive/My Drive/ayush_ranjan_project/Covid19/CT_COVID/bmj.m606.full-p4-22%2.png  \n",
            "  inflating: /content/drive/My Drive/ayush_ranjan_project/Covid19/__MACOSX/CT_COVID/._bmj.m606.full-p4-22%2.png  \n",
            "  inflating: /content/drive/My Drive/ayush_ranjan_project/Covid19/CT_COVID/2020.03.11.20033159-p12-45%1.png  \n",
            "  inflating: /content/drive/My Drive/ayush_ranjan_project/Covid19/__MACOSX/CT_COVID/._2020.03.11.20033159-p12-45%1.png  \n",
            "  inflating: /content/drive/My Drive/ayush_ranjan_project/Covid19/CT_COVID/2020.03.22.20040782-p25-1545.png  \n",
            "  inflating: /content/drive/My Drive/ayush_ranjan_project/Covid19/__MACOSX/CT_COVID/._2020.03.22.20040782-p25-1545.png  \n",
            "  inflating: /content/drive/My Drive/ayush_ranjan_project/Covid19/CT_COVID/2020.03.20.20037325-p23-122.png  \n",
            "  inflating: /content/drive/My Drive/ayush_ranjan_project/Covid19/__MACOSX/CT_COVID/._2020.03.20.20037325-p23-122.png  \n",
            "  inflating: /content/drive/My Drive/ayush_ranjan_project/Covid19/CT_COVID/2020.02.25.20021568-p23-108%7.png  \n",
            "  inflating: /content/drive/My Drive/ayush_ranjan_project/Covid19/__MACOSX/CT_COVID/._2020.02.25.20021568-p23-108%7.png  \n",
            "  inflating: /content/drive/My Drive/ayush_ranjan_project/Covid19/CT_COVID/Ni2020_Article_CombinationOfWesternMedicineAn-p3-10%0.png  \n",
            "  inflating: /content/drive/My Drive/ayush_ranjan_project/Covid19/__MACOSX/CT_COVID/._Ni2020_Article_CombinationOfWesternMedicineAn-p3-10%0.png  \n",
            "  inflating: /content/drive/My Drive/ayush_ranjan_project/Covid19/CT_COVID/Ni2020_Article_CombinationOfWesternMedicineAn-p3-10%1.png  \n",
            "  inflating: /content/drive/My Drive/ayush_ranjan_project/Covid19/__MACOSX/CT_COVID/._Ni2020_Article_CombinationOfWesternMedicineAn-p3-10%1.png  \n",
            "  inflating: /content/drive/My Drive/ayush_ranjan_project/Covid19/CT_COVID/PIIS0140673620302117_2.png  \n",
            "  inflating: /content/drive/My Drive/ayush_ranjan_project/Covid19/__MACOSX/CT_COVID/._PIIS0140673620302117_2.png  \n",
            "  inflating: /content/drive/My Drive/ayush_ranjan_project/Covid19/CT_COVID/2020.02.25.20021568-p23-108%6.png  \n",
            "  inflating: /content/drive/My Drive/ayush_ranjan_project/Covid19/__MACOSX/CT_COVID/._2020.02.25.20021568-p23-108%6.png  \n",
            "  inflating: /content/drive/My Drive/ayush_ranjan_project/Covid19/CT_COVID/2020.03.22.20040782-p24-1533-8.png  \n",
            "  inflating: /content/drive/My Drive/ayush_ranjan_project/Covid19/__MACOSX/CT_COVID/._2020.03.22.20040782-p24-1533-8.png  \n",
            "  inflating: /content/drive/My Drive/ayush_ranjan_project/Covid19/CT_COVID/2020.03.20.20037325-p23-123.png  \n",
            "  inflating: /content/drive/My Drive/ayush_ranjan_project/Covid19/__MACOSX/CT_COVID/._2020.03.20.20037325-p23-123.png  \n",
            "  inflating: /content/drive/My Drive/ayush_ranjan_project/Covid19/CT_COVID/2020.03.22.20040782-p25-1544.png  \n",
            "  inflating: /content/drive/My Drive/ayush_ranjan_project/Covid19/__MACOSX/CT_COVID/._2020.03.22.20040782-p25-1544.png  \n",
            "  inflating: /content/drive/My Drive/ayush_ranjan_project/Covid19/CT_COVID/2020.03.11.20033159-p12-45%0.png  \n",
            "  inflating: /content/drive/My Drive/ayush_ranjan_project/Covid19/__MACOSX/CT_COVID/._2020.03.11.20033159-p12-45%0.png  \n",
            "  inflating: /content/drive/My Drive/ayush_ranjan_project/Covid19/CT_COVID/bmj.m606.full-p4-22%3.png  \n",
            "  inflating: /content/drive/My Drive/ayush_ranjan_project/Covid19/__MACOSX/CT_COVID/._bmj.m606.full-p4-22%3.png  \n",
            "  inflating: /content/drive/My Drive/ayush_ranjan_project/Covid19/CT_COVID/2020.02.23.20026856-p17-115%5.png  \n",
            "  inflating: /content/drive/My Drive/ayush_ranjan_project/Covid19/__MACOSX/CT_COVID/._2020.02.23.20026856-p17-115%5.png  \n",
            "  inflating: /content/drive/My Drive/ayush_ranjan_project/Covid19/CT_COVID/Comparison-of-different-samples-for-2019-novel-cor_2020_International-Journa-p2-21%0.png  \n",
            "  inflating: /content/drive/My Drive/ayush_ranjan_project/Covid19/__MACOSX/CT_COVID/._Comparison-of-different-samples-for-2019-novel-cor_2020_International-Journa-p2-21%0.png  \n",
            "  inflating: /content/drive/My Drive/ayush_ranjan_project/Covid19/CT_COVID/2020.03.25.20037721-p27-181.png  \n",
            "  inflating: /content/drive/My Drive/ayush_ranjan_project/Covid19/__MACOSX/CT_COVID/._2020.03.25.20037721-p27-181.png  \n",
            "  inflating: /content/drive/My Drive/ayush_ranjan_project/Covid19/CT_COVID/2020.03.10.20032136-p34-118_1%0.png  \n",
            "  inflating: /content/drive/My Drive/ayush_ranjan_project/Covid19/__MACOSX/CT_COVID/._2020.03.10.20032136-p34-118_1%0.png  \n",
            "  inflating: /content/drive/My Drive/ayush_ranjan_project/Covid19/CT_COVID/Comparison-of-different-samples-for-2019-novel-cor_2020_International-Journa-p2-21%2.png  \n",
            "  inflating: /content/drive/My Drive/ayush_ranjan_project/Covid19/__MACOSX/CT_COVID/._Comparison-of-different-samples-for-2019-novel-cor_2020_International-Journa-p2-21%2.png  \n",
            "  inflating: /content/drive/My Drive/ayush_ranjan_project/Covid19/CT_COVID/Comparison-of-different-samples-for-2019-novel-cor_2020_International-Journa-p2-21%11.png  \n",
            "  inflating: /content/drive/My Drive/ayush_ranjan_project/Covid19/__MACOSX/CT_COVID/._Comparison-of-different-samples-for-2019-novel-cor_2020_International-Journa-p2-21%11.png  \n",
            "  inflating: /content/drive/My Drive/ayush_ranjan_project/Covid19/CT_COVID/bmj.m606.full-p4-22%1.png  \n",
            "  inflating: /content/drive/My Drive/ayush_ranjan_project/Covid19/__MACOSX/CT_COVID/._bmj.m606.full-p4-22%1.png  \n",
            "  inflating: /content/drive/My Drive/ayush_ranjan_project/Covid19/CT_COVID/2020.03.11.20033159-p12-45%2.png  \n",
            "  inflating: /content/drive/My Drive/ayush_ranjan_project/Covid19/__MACOSX/CT_COVID/._2020.03.11.20033159-p12-45%2.png  \n",
            "  inflating: /content/drive/My Drive/ayush_ranjan_project/Covid19/CT_COVID/2020.03.22.20040782-p25-1546.png  \n",
            "  inflating: /content/drive/My Drive/ayush_ranjan_project/Covid19/__MACOSX/CT_COVID/._2020.03.22.20040782-p25-1546.png  \n",
            "  inflating: /content/drive/My Drive/ayush_ranjan_project/Covid19/CT_COVID/2020.02.25.20021568-p23-108%4.png  \n",
            "  inflating: /content/drive/My Drive/ayush_ranjan_project/Covid19/__MACOSX/CT_COVID/._2020.02.25.20021568-p23-108%4.png  \n",
            "  inflating: /content/drive/My Drive/ayush_ranjan_project/Covid19/CT_COVID/2020.03.20.20037325-p23-121.png  \n",
            "  inflating: /content/drive/My Drive/ayush_ranjan_project/Covid19/__MACOSX/CT_COVID/._2020.03.20.20037325-p23-121.png  \n",
            "  inflating: /content/drive/My Drive/ayush_ranjan_project/Covid19/CT_COVID/2020.02.27.20027557-p25-137%4.png  \n",
            "  inflating: /content/drive/My Drive/ayush_ranjan_project/Covid19/__MACOSX/CT_COVID/._2020.02.27.20027557-p25-137%4.png  \n",
            "  inflating: /content/drive/My Drive/ayush_ranjan_project/Covid19/CT_COVID/2020.03.08.20031658-p15-103.png  \n",
            "  inflating: /content/drive/My Drive/ayush_ranjan_project/Covid19/__MACOSX/CT_COVID/._2020.03.08.20031658-p15-103.png  \n",
            "  inflating: /content/drive/My Drive/ayush_ranjan_project/Covid19/CT_COVID/PIIS0140673620302117_1.png  \n",
            "  inflating: /content/drive/My Drive/ayush_ranjan_project/Covid19/__MACOSX/CT_COVID/._PIIS0140673620302117_1.png  \n",
            "  inflating: /content/drive/My Drive/ayush_ranjan_project/Covid19/CT_COVID/2020.02.25.20021568-p23-108%5.png  \n",
            "  inflating: /content/drive/My Drive/ayush_ranjan_project/Covid19/__MACOSX/CT_COVID/._2020.02.25.20021568-p23-108%5.png  \n",
            "  inflating: /content/drive/My Drive/ayush_ranjan_project/Covid19/CT_COVID/2020.03.11.20033159-p12-45%3.png  \n",
            "  inflating: /content/drive/My Drive/ayush_ranjan_project/Covid19/__MACOSX/CT_COVID/._2020.03.11.20033159-p12-45%3.png  \n",
            "  inflating: /content/drive/My Drive/ayush_ranjan_project/Covid19/CT_COVID/bmj.m606.full-p4-22%0.png  \n",
            "  inflating: /content/drive/My Drive/ayush_ranjan_project/Covid19/__MACOSX/CT_COVID/._bmj.m606.full-p4-22%0.png  \n",
            "  inflating: /content/drive/My Drive/ayush_ranjan_project/Covid19/CT_COVID/impact_of_covid19_infection_on_pregnancy_outcomes_and_the_risk_of_maternaltoneonatal_intrapartum_transmission_of_covid19_during_natural_birth-p8-41%3.png  \n",
            "  inflating: /content/drive/My Drive/ayush_ranjan_project/Covid19/__MACOSX/CT_COVID/._impact_of_covid19_infection_on_pregnancy_outcomes_and_the_risk_of_maternaltoneonatal_intrapartum_transmission_of_covid19_during_natural_birth-p8-41%3.png  \n",
            "  inflating: /content/drive/My Drive/ayush_ranjan_project/Covid19/CT_COVID/kjr-21-e24-p3-16.png  \n",
            "  inflating: /content/drive/My Drive/ayush_ranjan_project/Covid19/__MACOSX/CT_COVID/._kjr-21-e24-p3-16.png  \n",
            "  inflating: /content/drive/My Drive/ayush_ranjan_project/Covid19/CT_COVID/Comparison-of-different-samples-for-2019-novel-cor_2020_International-Journa-p2-21%10.png  \n",
            "  inflating: /content/drive/My Drive/ayush_ranjan_project/Covid19/__MACOSX/CT_COVID/._Comparison-of-different-samples-for-2019-novel-cor_2020_International-Journa-p2-21%10.png  \n",
            "  inflating: /content/drive/My Drive/ayush_ranjan_project/Covid19/CT_COVID/Comparison-of-different-samples-for-2019-novel-cor_2020_International-Journa-p2-21%3.png  \n",
            "  inflating: /content/drive/My Drive/ayush_ranjan_project/Covid19/__MACOSX/CT_COVID/._Comparison-of-different-samples-for-2019-novel-cor_2020_International-Journa-p2-21%3.png  \n",
            "  inflating: /content/drive/My Drive/ayush_ranjan_project/Covid19/CT_COVID/2020.03.10.20032136-p34-118_1%1.png  \n",
            "  inflating: /content/drive/My Drive/ayush_ranjan_project/Covid19/__MACOSX/CT_COVID/._2020.03.10.20032136-p34-118_1%1.png  \n",
            "  inflating: /content/drive/My Drive/ayush_ranjan_project/Covid19/CT_COVID/Comparison-of-different-samples-for-2019-novel-cor_2020_International-Journa-p2-21%7.png  \n",
            "  inflating: /content/drive/My Drive/ayush_ranjan_project/Covid19/__MACOSX/CT_COVID/._Comparison-of-different-samples-for-2019-novel-cor_2020_International-Journa-p2-21%7.png  \n",
            "  inflating: /content/drive/My Drive/ayush_ranjan_project/Covid19/CT_COVID/Ni2020_Article_CombinationOfWesternMedicineAn-p4-13%1.png  \n",
            "  inflating: /content/drive/My Drive/ayush_ranjan_project/Covid19/__MACOSX/CT_COVID/._Ni2020_Article_CombinationOfWesternMedicineAn-p4-13%1.png  \n",
            "  inflating: /content/drive/My Drive/ayush_ranjan_project/Covid19/CT_COVID/2020.03.22.20034041-p16-66.png  \n",
            "  inflating: /content/drive/My Drive/ayush_ranjan_project/Covid19/__MACOSX/CT_COVID/._2020.03.22.20034041-p16-66.png  \n",
            "  inflating: /content/drive/My Drive/ayush_ranjan_project/Covid19/CT_COVID/2020.03.16.20035105-p6-64-2.png  \n",
            "  inflating: /content/drive/My Drive/ayush_ranjan_project/Covid19/__MACOSX/CT_COVID/._2020.03.16.20035105-p6-64-2.png  \n",
            "  inflating: /content/drive/My Drive/ayush_ranjan_project/Covid19/CT_COVID/2020.02.23.20026856-p17-115%2.png  \n",
            "  inflating: /content/drive/My Drive/ayush_ranjan_project/Covid19/__MACOSX/CT_COVID/._2020.02.23.20026856-p17-115%2.png  \n",
            "  inflating: /content/drive/My Drive/ayush_ranjan_project/Covid19/CT_COVID/ehaa254-p0-63%3.png  \n",
            "  inflating: /content/drive/My Drive/ayush_ranjan_project/Covid19/__MACOSX/CT_COVID/._ehaa254-p0-63%3.png  \n",
            "  inflating: /content/drive/My Drive/ayush_ranjan_project/Covid19/CT_COVID/2020.03.04.20031047-p12-81%0.png  \n",
            "  inflating: /content/drive/My Drive/ayush_ranjan_project/Covid19/__MACOSX/CT_COVID/._2020.03.04.20031047-p12-81%0.png  \n",
            "  inflating: /content/drive/My Drive/ayush_ranjan_project/Covid19/CT_COVID/bmj.m606.full-p4-22%4.png  \n",
            "  inflating: /content/drive/My Drive/ayush_ranjan_project/Covid19/__MACOSX/CT_COVID/._bmj.m606.full-p4-22%4.png  \n",
            "  inflating: /content/drive/My Drive/ayush_ranjan_project/Covid19/CT_COVID/2020.03.22.20040782-p25-1543.png  \n",
            "  inflating: /content/drive/My Drive/ayush_ranjan_project/Covid19/__MACOSX/CT_COVID/._2020.03.22.20040782-p25-1543.png  \n",
            "  inflating: /content/drive/My Drive/ayush_ranjan_project/Covid19/CT_COVID/2020.02.11.20022053-p12-67%0.png  \n",
            "  inflating: /content/drive/My Drive/ayush_ranjan_project/Covid19/__MACOSX/CT_COVID/._2020.02.11.20022053-p12-67%0.png  \n",
            "  inflating: /content/drive/My Drive/ayush_ranjan_project/Covid19/CT_COVID/2020.02.27.20027557-p25-137%0.png  \n",
            "  inflating: /content/drive/My Drive/ayush_ranjan_project/Covid19/__MACOSX/CT_COVID/._2020.02.27.20027557-p25-137%0.png  \n",
            "  inflating: /content/drive/My Drive/ayush_ranjan_project/Covid19/CT_COVID/2020.03.21.20040691-p18-67-8.png  \n",
            "  inflating: /content/drive/My Drive/ayush_ranjan_project/Covid19/__MACOSX/CT_COVID/._2020.03.21.20040691-p18-67-8.png  \n",
            "  inflating: /content/drive/My Drive/ayush_ranjan_project/Covid19/CT_COVID/Talaromyces-marneffei-infection-relapse-presenting-as-ost_2020_International-p1-12%1.png  \n",
            "  inflating: /content/drive/My Drive/ayush_ranjan_project/Covid19/__MACOSX/CT_COVID/._Talaromyces-marneffei-infection-relapse-presenting-as-ost_2020_International-p1-12%1.png  \n",
            "  inflating: /content/drive/My Drive/ayush_ranjan_project/Covid19/CT_COVID/2020.02.25.20021568-p23-108%1.png  \n",
            "  inflating: /content/drive/My Drive/ayush_ranjan_project/Covid19/__MACOSX/CT_COVID/._2020.02.25.20021568-p23-108%1.png  \n",
            "  inflating: /content/drive/My Drive/ayush_ranjan_project/Covid19/CT_COVID/2020.03.20.20037325-p23-124.png  \n",
            "  inflating: /content/drive/My Drive/ayush_ranjan_project/Covid19/__MACOSX/CT_COVID/._2020.03.20.20037325-p23-124.png  \n",
            "  inflating: /content/drive/My Drive/ayush_ranjan_project/Covid19/CT_COVID/2020.02.25.20021568-p23-108%0.png  \n",
            "  inflating: /content/drive/My Drive/ayush_ranjan_project/Covid19/__MACOSX/CT_COVID/._2020.02.25.20021568-p23-108%0.png  \n",
            "  inflating: /content/drive/My Drive/ayush_ranjan_project/Covid19/CT_COVID/2020.02.27.20027557-p25-137%1.png  \n",
            "  inflating: /content/drive/My Drive/ayush_ranjan_project/Covid19/__MACOSX/CT_COVID/._2020.02.27.20027557-p25-137%1.png  \n",
            "  inflating: /content/drive/My Drive/ayush_ranjan_project/Covid19/CT_COVID/Talaromyces-marneffei-infection-relapse-presenting-as-ost_2020_International-p1-12%0.png  \n",
            "  inflating: /content/drive/My Drive/ayush_ranjan_project/Covid19/__MACOSX/CT_COVID/._Talaromyces-marneffei-infection-relapse-presenting-as-ost_2020_International-p1-12%0.png  \n",
            "  inflating: /content/drive/My Drive/ayush_ranjan_project/Covid19/CT_COVID/2020.03.08.20031658-p15-106.png  \n",
            "  inflating: /content/drive/My Drive/ayush_ranjan_project/Covid19/__MACOSX/CT_COVID/._2020.03.08.20031658-p15-106.png  \n",
            "  inflating: /content/drive/My Drive/ayush_ranjan_project/Covid19/CT_COVID/2020.02.11.20022053-p12-67%1.png  \n",
            "  inflating: /content/drive/My Drive/ayush_ranjan_project/Covid19/__MACOSX/CT_COVID/._2020.02.11.20022053-p12-67%1.png  \n",
            "  inflating: /content/drive/My Drive/ayush_ranjan_project/Covid19/CT_COVID/2020.03.22.20040782-p25-1542.png  \n",
            "  inflating: /content/drive/My Drive/ayush_ranjan_project/Covid19/__MACOSX/CT_COVID/._2020.03.22.20040782-p25-1542.png  \n",
            "  inflating: /content/drive/My Drive/ayush_ranjan_project/Covid19/CT_COVID/bmj.m606.full-p4-22%5.png  \n",
            "  inflating: /content/drive/My Drive/ayush_ranjan_project/Covid19/__MACOSX/CT_COVID/._bmj.m606.full-p4-22%5.png  \n",
            "  inflating: /content/drive/My Drive/ayush_ranjan_project/Covid19/CT_COVID/2020.03.04.20031047-p12-81%1.png  \n",
            "  inflating: /content/drive/My Drive/ayush_ranjan_project/Covid19/__MACOSX/CT_COVID/._2020.03.04.20031047-p12-81%1.png  \n",
            "  inflating: /content/drive/My Drive/ayush_ranjan_project/Covid19/CT_COVID/2020.03.04.20031039-p23-97_2%2.png  \n",
            "  inflating: /content/drive/My Drive/ayush_ranjan_project/Covid19/__MACOSX/CT_COVID/._2020.03.04.20031039-p23-97_2%2.png  \n",
            "  inflating: /content/drive/My Drive/ayush_ranjan_project/Covid19/CT_COVID/ehaa254-p0-63%2.png  \n",
            "  inflating: /content/drive/My Drive/ayush_ranjan_project/Covid19/__MACOSX/CT_COVID/._ehaa254-p0-63%2.png  \n",
            "  inflating: /content/drive/My Drive/ayush_ranjan_project/Covid19/CT_COVID/2020.02.23.20026856-p17-115%3.png  \n",
            "  inflating: /content/drive/My Drive/ayush_ranjan_project/Covid19/__MACOSX/CT_COVID/._2020.02.23.20026856-p17-115%3.png  \n",
            "  inflating: /content/drive/My Drive/ayush_ranjan_project/Covid19/CT_COVID/2020.03.16.20035105-p6-64-3.png  \n",
            "  inflating: /content/drive/My Drive/ayush_ranjan_project/Covid19/__MACOSX/CT_COVID/._2020.03.16.20035105-p6-64-3.png  \n",
            "  inflating: /content/drive/My Drive/ayush_ranjan_project/Covid19/CT_COVID/2020.03.03.20030353-p17-106%2.png  \n",
            "  inflating: /content/drive/My Drive/ayush_ranjan_project/Covid19/__MACOSX/CT_COVID/._2020.03.03.20030353-p17-106%2.png  \n",
            "  inflating: /content/drive/My Drive/ayush_ranjan_project/Covid19/CT_COVID/Ni2020_Article_CombinationOfWesternMedicineAn-p4-13%0.png  \n",
            "  inflating: /content/drive/My Drive/ayush_ranjan_project/Covid19/__MACOSX/CT_COVID/._Ni2020_Article_CombinationOfWesternMedicineAn-p4-13%0.png  \n",
            "  inflating: /content/drive/My Drive/ayush_ranjan_project/Covid19/CT_COVID/Comparison-of-different-samples-for-2019-novel-cor_2020_International-Journa-p2-21%6.png  \n",
            "  inflating: /content/drive/My Drive/ayush_ranjan_project/Covid19/__MACOSX/CT_COVID/._Comparison-of-different-samples-for-2019-novel-cor_2020_International-Journa-p2-21%6.png  \n",
            "  inflating: /content/drive/My Drive/ayush_ranjan_project/Covid19/CT_COVID/2020.02.28.20029025-p23-182.png  \n",
            "  inflating: /content/drive/My Drive/ayush_ranjan_project/Covid19/__MACOSX/CT_COVID/._2020.02.28.20029025-p23-182.png  \n",
            "  inflating: /content/drive/My Drive/ayush_ranjan_project/Covid19/CT_COVID/Comparison-of-different-samples-for-2019-novel-cor_2020_International-Journa-p2-21%4.png  \n",
            "  inflating: /content/drive/My Drive/ayush_ranjan_project/Covid19/__MACOSX/CT_COVID/._Comparison-of-different-samples-for-2019-novel-cor_2020_International-Journa-p2-21%4.png  \n",
            "  inflating: /content/drive/My Drive/ayush_ranjan_project/Covid19/CT_COVID/PIIS0140673620303603%8.png  \n",
            "  inflating: /content/drive/My Drive/ayush_ranjan_project/Covid19/__MACOSX/CT_COVID/._PIIS0140673620303603%8.png  \n",
            "  inflating: /content/drive/My Drive/ayush_ranjan_project/Covid19/CT_COVID/2020.03.03.20030353-p17-106%0.png  \n",
            "  inflating: /content/drive/My Drive/ayush_ranjan_project/Covid19/__MACOSX/CT_COVID/._2020.03.03.20030353-p17-106%0.png  \n",
            "  inflating: /content/drive/My Drive/ayush_ranjan_project/Covid19/CT_COVID/2020.03.16.20035105-p6-64-1.png  \n",
            "  inflating: /content/drive/My Drive/ayush_ranjan_project/Covid19/__MACOSX/CT_COVID/._2020.03.16.20035105-p6-64-1.png  \n",
            "  inflating: /content/drive/My Drive/ayush_ranjan_project/Covid19/CT_COVID/2020.02.23.20026856-p17-115%1.png  \n",
            "  inflating: /content/drive/My Drive/ayush_ranjan_project/Covid19/__MACOSX/CT_COVID/._2020.02.23.20026856-p17-115%1.png  \n",
            "  inflating: /content/drive/My Drive/ayush_ranjan_project/Covid19/CT_COVID/2020.03.04.20031039-p23-97_2%0.png  \n",
            "  inflating: /content/drive/My Drive/ayush_ranjan_project/Covid19/__MACOSX/CT_COVID/._2020.03.04.20031039-p23-97_2%0.png  \n",
            "  inflating: /content/drive/My Drive/ayush_ranjan_project/Covid19/CT_COVID/2020.03.04.20031047-p12-81%3.png  \n",
            "  inflating: /content/drive/My Drive/ayush_ranjan_project/Covid19/__MACOSX/CT_COVID/._2020.03.04.20031047-p12-81%3.png  \n",
            "  inflating: /content/drive/My Drive/ayush_ranjan_project/Covid19/CT_COVID/bmj.m606.full-p4-22%7.png  \n",
            "  inflating: /content/drive/My Drive/ayush_ranjan_project/Covid19/__MACOSX/CT_COVID/._bmj.m606.full-p4-22%7.png  \n",
            "  inflating: /content/drive/My Drive/ayush_ranjan_project/Covid19/CT_COVID/2020.03.11.20033159-p12-45%4.png  \n",
            "  inflating: /content/drive/My Drive/ayush_ranjan_project/Covid19/__MACOSX/CT_COVID/._2020.03.11.20033159-p12-45%4.png  \n",
            "  inflating: /content/drive/My Drive/ayush_ranjan_project/Covid19/CT_COVID/2020.02.11.20022053-p12-67%3.png  \n",
            "  inflating: /content/drive/My Drive/ayush_ranjan_project/Covid19/__MACOSX/CT_COVID/._2020.02.11.20022053-p12-67%3.png  \n",
            "  inflating: /content/drive/My Drive/ayush_ranjan_project/Covid19/CT_COVID/Talaromyces-marneffei-infection-relapse-presenting-as-ost_2020_International-p1-12%2.png  \n",
            "  inflating: /content/drive/My Drive/ayush_ranjan_project/Covid19/__MACOSX/CT_COVID/._Talaromyces-marneffei-infection-relapse-presenting-as-ost_2020_International-p1-12%2.png  \n",
            "  inflating: /content/drive/My Drive/ayush_ranjan_project/Covid19/CT_COVID/2020.02.27.20027557-p25-137%3.png  \n",
            "  inflating: /content/drive/My Drive/ayush_ranjan_project/Covid19/__MACOSX/CT_COVID/._2020.02.27.20027557-p25-137%3.png  \n",
            "  inflating: /content/drive/My Drive/ayush_ranjan_project/Covid19/CT_COVID/2020.03.08.20031658-p15-104.png  \n",
            "  inflating: /content/drive/My Drive/ayush_ranjan_project/Covid19/__MACOSX/CT_COVID/._2020.03.08.20031658-p15-104.png  \n",
            "  inflating: /content/drive/My Drive/ayush_ranjan_project/Covid19/CT_COVID/2020.02.25.20021568-p23-108%2.png  \n",
            "  inflating: /content/drive/My Drive/ayush_ranjan_project/Covid19/__MACOSX/CT_COVID/._2020.02.25.20021568-p23-108%2.png  \n",
            "  inflating: /content/drive/My Drive/ayush_ranjan_project/Covid19/CT_COVID/2020.02.24.20027201-p19-670.png  \n",
            "  inflating: /content/drive/My Drive/ayush_ranjan_project/Covid19/__MACOSX/CT_COVID/._2020.02.24.20027201-p19-670.png  \n",
            "  inflating: /content/drive/My Drive/ayush_ranjan_project/Covid19/CT_COVID/2020.02.25.20021568-p23-108%3.png  \n",
            "  inflating: /content/drive/My Drive/ayush_ranjan_project/Covid19/__MACOSX/CT_COVID/._2020.02.25.20021568-p23-108%3.png  \n",
            "  inflating: /content/drive/My Drive/ayush_ranjan_project/Covid19/CT_COVID/2020.03.08.20031658-p15-105.png  \n",
            "  inflating: /content/drive/My Drive/ayush_ranjan_project/Covid19/__MACOSX/CT_COVID/._2020.03.08.20031658-p15-105.png  \n",
            "  inflating: /content/drive/My Drive/ayush_ranjan_project/Covid19/CT_COVID/Talaromyces-marneffei-infection-relapse-presenting-as-ost_2020_International-p1-12%3.png  \n",
            "  inflating: /content/drive/My Drive/ayush_ranjan_project/Covid19/__MACOSX/CT_COVID/._Talaromyces-marneffei-infection-relapse-presenting-as-ost_2020_International-p1-12%3.png  \n",
            "  inflating: /content/drive/My Drive/ayush_ranjan_project/Covid19/CT_COVID/2020.02.27.20027557-p25-137%2.png  \n",
            "  inflating: /content/drive/My Drive/ayush_ranjan_project/Covid19/__MACOSX/CT_COVID/._2020.02.27.20027557-p25-137%2.png  \n",
            "  inflating: /content/drive/My Drive/ayush_ranjan_project/Covid19/CT_COVID/2020.02.11.20022053-p12-67%2.png  \n",
            "  inflating: /content/drive/My Drive/ayush_ranjan_project/Covid19/__MACOSX/CT_COVID/._2020.02.11.20022053-p12-67%2.png  \n",
            "  inflating: /content/drive/My Drive/ayush_ranjan_project/Covid19/CT_COVID/2020.03.11.20033159-p12-45%5.png  \n",
            "  inflating: /content/drive/My Drive/ayush_ranjan_project/Covid19/__MACOSX/CT_COVID/._2020.03.11.20033159-p12-45%5.png  \n",
            "  inflating: /content/drive/My Drive/ayush_ranjan_project/Covid19/CT_COVID/2020.03.22.20040782-p25-1541.png  \n",
            "  inflating: /content/drive/My Drive/ayush_ranjan_project/Covid19/__MACOSX/CT_COVID/._2020.03.22.20040782-p25-1541.png  \n",
            "  inflating: /content/drive/My Drive/ayush_ranjan_project/Covid19/CT_COVID/bmj.m606.full-p4-22%6.png  \n",
            "  inflating: /content/drive/My Drive/ayush_ranjan_project/Covid19/__MACOSX/CT_COVID/._bmj.m606.full-p4-22%6.png  \n",
            "  inflating: /content/drive/My Drive/ayush_ranjan_project/Covid19/CT_COVID/impact_of_covid19_infection_on_pregnancy_outcomes_and_the_risk_of_maternaltoneonatal_intrapartum_transmission_of_covid19_during_natural_birth-p8-41%5.png  \n",
            "  inflating: /content/drive/My Drive/ayush_ranjan_project/Covid19/__MACOSX/CT_COVID/._impact_of_covid19_infection_on_pregnancy_outcomes_and_the_risk_of_maternaltoneonatal_intrapartum_transmission_of_covid19_during_natural_birth-p8-41%5.png  \n",
            "  inflating: /content/drive/My Drive/ayush_ranjan_project/Covid19/CT_COVID/2020.03.04.20031047-p12-81%2.png  \n",
            "  inflating: /content/drive/My Drive/ayush_ranjan_project/Covid19/__MACOSX/CT_COVID/._2020.03.04.20031047-p12-81%2.png  \n",
            "  inflating: /content/drive/My Drive/ayush_ranjan_project/Covid19/CT_COVID/2020.03.04.20031039-p23-97_2%1.png  \n",
            "  inflating: /content/drive/My Drive/ayush_ranjan_project/Covid19/__MACOSX/CT_COVID/._2020.03.04.20031039-p23-97_2%1.png  \n",
            "  inflating: /content/drive/My Drive/ayush_ranjan_project/Covid19/CT_COVID/2020.02.23.20026856-p17-115%0.png  \n",
            "  inflating: /content/drive/My Drive/ayush_ranjan_project/Covid19/__MACOSX/CT_COVID/._2020.02.23.20026856-p17-115%0.png  \n",
            "  inflating: /content/drive/My Drive/ayush_ranjan_project/Covid19/CT_COVID/2020.03.03.20030353-p17-106%1.png  \n",
            "  inflating: /content/drive/My Drive/ayush_ranjan_project/Covid19/__MACOSX/CT_COVID/._2020.03.03.20030353-p17-106%1.png  \n",
            "  inflating: /content/drive/My Drive/ayush_ranjan_project/Covid19/CT_COVID/Comparison-of-different-samples-for-2019-novel-cor_2020_International-Journa-p2-21%5.png  \n",
            "  inflating: /content/drive/My Drive/ayush_ranjan_project/Covid19/__MACOSX/CT_COVID/._Comparison-of-different-samples-for-2019-novel-cor_2020_International-Journa-p2-21%5.png  \n",
            "  inflating: /content/drive/My Drive/ayush_ranjan_project/Covid19/CT_COVID/2020.02.28.20029025-p23-183.png  \n",
            "  inflating: /content/drive/My Drive/ayush_ranjan_project/Covid19/__MACOSX/CT_COVID/._2020.02.28.20029025-p23-183.png  \n",
            "  inflating: /content/drive/My Drive/ayush_ranjan_project/Covid19/CT_COVID/2020.03.04.20026005-p12-1946%1.png  \n",
            "  inflating: /content/drive/My Drive/ayush_ranjan_project/Covid19/__MACOSX/CT_COVID/._2020.03.04.20026005-p12-1946%1.png  \n",
            "  inflating: /content/drive/My Drive/ayush_ranjan_project/Covid19/CT_COVID/2020.03.12.20027185-p8-218.png  \n",
            "  inflating: /content/drive/My Drive/ayush_ranjan_project/Covid19/__MACOSX/CT_COVID/._2020.03.12.20027185-p8-218.png  \n",
            "  inflating: /content/drive/My Drive/ayush_ranjan_project/Covid19/CT_COVID/2020.02.25.20021568-p24-111%1.png  \n",
            "  inflating: /content/drive/My Drive/ayush_ranjan_project/Covid19/__MACOSX/CT_COVID/._2020.02.25.20021568-p24-111%1.png  \n",
            "  inflating: /content/drive/My Drive/ayush_ranjan_project/Covid19/CT_COVID/2020.02.10.20021584-p6-52%6.png  \n",
            "  inflating: /content/drive/My Drive/ayush_ranjan_project/Covid19/__MACOSX/CT_COVID/._2020.02.10.20021584-p6-52%6.png  \n",
            "  inflating: /content/drive/My Drive/ayush_ranjan_project/Covid19/CT_COVID/2020.03.26.20041426-p11-133.png  \n",
            "  inflating: /content/drive/My Drive/ayush_ranjan_project/Covid19/__MACOSX/CT_COVID/._2020.03.26.20041426-p11-133.png  \n",
            "  inflating: /content/drive/My Drive/ayush_ranjan_project/Covid19/CT_COVID/2019-novel-Coronavirus-severe-adult-respiratory-dist_2020_International-Jour-p3-91.png  \n",
            "  inflating: /content/drive/My Drive/ayush_ranjan_project/Covid19/__MACOSX/CT_COVID/._2019-novel-Coronavirus-severe-adult-respiratory-dist_2020_International-Jour-p3-91.png  \n",
            "  inflating: /content/drive/My Drive/ayush_ranjan_project/Covid19/CT_COVID/2020.03.26.20041426-p11-127.png  \n",
            "  inflating: /content/drive/My Drive/ayush_ranjan_project/Covid19/__MACOSX/CT_COVID/._2020.03.26.20041426-p11-127.png  \n",
            "  inflating: /content/drive/My Drive/ayush_ranjan_project/Covid19/CT_COVID/2020.03.19.20038539-p10-58.png  \n",
            "  inflating: /content/drive/My Drive/ayush_ranjan_project/Covid19/__MACOSX/CT_COVID/._2020.03.19.20038539-p10-58.png  \n",
            "  inflating: /content/drive/My Drive/ayush_ranjan_project/Covid19/CT_COVID/2020.01.24.919183-p27-134.png  \n",
            "  inflating: /content/drive/My Drive/ayush_ranjan_project/Covid19/__MACOSX/CT_COVID/._2020.01.24.919183-p27-134.png  \n",
            "  inflating: /content/drive/My Drive/ayush_ranjan_project/Covid19/CT_COVID/2020.03.03.20030775-p10-88%1.png  \n",
            "  inflating: /content/drive/My Drive/ayush_ranjan_project/Covid19/__MACOSX/CT_COVID/._2020.03.03.20030775-p10-88%1.png  \n",
            "  inflating: /content/drive/My Drive/ayush_ranjan_project/Covid19/CT_COVID/2020.03.04.20031047-p13-84%1.png  \n",
            "  inflating: /content/drive/My Drive/ayush_ranjan_project/Covid19/__MACOSX/CT_COVID/._2020.03.04.20031047-p13-84%1.png  \n",
            "  inflating: /content/drive/My Drive/ayush_ranjan_project/Covid19/CT_COVID/2020.02.10.20021584-p6-52%14.png  \n",
            "  inflating: /content/drive/My Drive/ayush_ranjan_project/Covid19/__MACOSX/CT_COVID/._2020.02.10.20021584-p6-52%14.png  \n",
            "  inflating: /content/drive/My Drive/ayush_ranjan_project/Covid19/CT_COVID/2020.02.10.20021584-p6-52%15.png  \n",
            "  inflating: /content/drive/My Drive/ayush_ranjan_project/Covid19/__MACOSX/CT_COVID/._2020.02.10.20021584-p6-52%15.png  \n",
            "  inflating: /content/drive/My Drive/ayush_ranjan_project/Covid19/CT_COVID/2020.03.03.20030775-p10-88%0.png  \n",
            "  inflating: /content/drive/My Drive/ayush_ranjan_project/Covid19/__MACOSX/CT_COVID/._2020.03.03.20030775-p10-88%0.png  \n",
            "  inflating: /content/drive/My Drive/ayush_ranjan_project/Covid19/CT_COVID/2020.03.04.20031047-p13-84%0.png  \n",
            "  inflating: /content/drive/My Drive/ayush_ranjan_project/Covid19/__MACOSX/CT_COVID/._2020.03.04.20031047-p13-84%0.png  \n",
            "  inflating: /content/drive/My Drive/ayush_ranjan_project/Covid19/CT_COVID/2020.01.24.919183-p27-135.png  \n",
            "  inflating: /content/drive/My Drive/ayush_ranjan_project/Covid19/__MACOSX/CT_COVID/._2020.01.24.919183-p27-135.png  \n",
            "  inflating: /content/drive/My Drive/ayush_ranjan_project/Covid19/CT_COVID/kjr-21-e24-p2-8.png  \n",
            "  inflating: /content/drive/My Drive/ayush_ranjan_project/Covid19/__MACOSX/CT_COVID/._kjr-21-e24-p2-8.png  \n",
            "  inflating: /content/drive/My Drive/ayush_ranjan_project/Covid19/CT_COVID/2020.03.19.20038539-p10-59.png  \n",
            "  inflating: /content/drive/My Drive/ayush_ranjan_project/Covid19/__MACOSX/CT_COVID/._2020.03.19.20038539-p10-59.png  \n",
            "  inflating: /content/drive/My Drive/ayush_ranjan_project/Covid19/CT_COVID/2020.03.26.20041426-p11-126.png  \n",
            "  inflating: /content/drive/My Drive/ayush_ranjan_project/Covid19/__MACOSX/CT_COVID/._2020.03.26.20041426-p11-126.png  \n",
            "  inflating: /content/drive/My Drive/ayush_ranjan_project/Covid19/CT_COVID/2020.03.26.20041426-p11-132.png  \n",
            "  inflating: /content/drive/My Drive/ayush_ranjan_project/Covid19/__MACOSX/CT_COVID/._2020.03.26.20041426-p11-132.png  \n",
            "  inflating: /content/drive/My Drive/ayush_ranjan_project/Covid19/CT_COVID/2020.02.25.20021568-p24-111%0.png  \n",
            "  inflating: /content/drive/My Drive/ayush_ranjan_project/Covid19/__MACOSX/CT_COVID/._2020.02.25.20021568-p24-111%0.png  \n",
            "  inflating: /content/drive/My Drive/ayush_ranjan_project/Covid19/CT_COVID/2020.02.10.20021584-p6-52%7.png  \n",
            "  inflating: /content/drive/My Drive/ayush_ranjan_project/Covid19/__MACOSX/CT_COVID/._2020.02.10.20021584-p6-52%7.png  \n",
            "  inflating: /content/drive/My Drive/ayush_ranjan_project/Covid19/CT_COVID/kjr-21-e25-p1-10.png  \n",
            "  inflating: /content/drive/My Drive/ayush_ranjan_project/Covid19/__MACOSX/CT_COVID/._kjr-21-e25-p1-10.png  \n",
            "  inflating: /content/drive/My Drive/ayush_ranjan_project/Covid19/CT_COVID/2020.03.04.20026005-p12-1946%0.png  \n",
            "  inflating: /content/drive/My Drive/ayush_ranjan_project/Covid19/__MACOSX/CT_COVID/._2020.03.04.20026005-p12-1946%0.png  \n",
            "  inflating: /content/drive/My Drive/ayush_ranjan_project/Covid19/CT_COVID/2020.03.04.20026005-p12-1946%2.png  \n",
            "  inflating: /content/drive/My Drive/ayush_ranjan_project/Covid19/__MACOSX/CT_COVID/._2020.03.04.20026005-p12-1946%2.png  \n",
            "  inflating: /content/drive/My Drive/ayush_ranjan_project/Covid19/CT_COVID/kjr-21-e25-p1-12.png  \n",
            "  inflating: /content/drive/My Drive/ayush_ranjan_project/Covid19/__MACOSX/CT_COVID/._kjr-21-e25-p1-12.png  \n",
            "  inflating: /content/drive/My Drive/ayush_ranjan_project/Covid19/CT_COVID/2020.02.10.20021584-p6-52%5.png  \n",
            "  inflating: /content/drive/My Drive/ayush_ranjan_project/Covid19/__MACOSX/CT_COVID/._2020.02.10.20021584-p6-52%5.png  \n",
            "  inflating: /content/drive/My Drive/ayush_ranjan_project/Covid19/CT_COVID/2020.02.25.20021568-p24-111%2.png  \n",
            "  inflating: /content/drive/My Drive/ayush_ranjan_project/Covid19/__MACOSX/CT_COVID/._2020.02.25.20021568-p24-111%2.png  \n",
            "  inflating: /content/drive/My Drive/ayush_ranjan_project/Covid19/CT_COVID/2020.03.26.20041426-p11-124.png  \n",
            "  inflating: /content/drive/My Drive/ayush_ranjan_project/Covid19/__MACOSX/CT_COVID/._2020.03.26.20041426-p11-124.png  \n",
            "  inflating: /content/drive/My Drive/ayush_ranjan_project/Covid19/CT_COVID/2020.03.26.20041426-p11-130.png  \n",
            "  inflating: /content/drive/My Drive/ayush_ranjan_project/Covid19/__MACOSX/CT_COVID/._2020.03.26.20041426-p11-130.png  \n",
            "  inflating: /content/drive/My Drive/ayush_ranjan_project/Covid19/CT_COVID/2020.02.25.20021568-p23-108%15.png  \n",
            "  inflating: /content/drive/My Drive/ayush_ranjan_project/Covid19/__MACOSX/CT_COVID/._2020.02.25.20021568-p23-108%15.png  \n",
            "  inflating: /content/drive/My Drive/ayush_ranjan_project/Covid19/CT_COVID/2020.03.10.20032136-p34-118_2%1.png  \n",
            "  inflating: /content/drive/My Drive/ayush_ranjan_project/Covid19/__MACOSX/CT_COVID/._2020.03.10.20032136-p34-118_2%1.png  \n",
            "  inflating: /content/drive/My Drive/ayush_ranjan_project/Covid19/CT_COVID/2020.03.18.20038125-p15-54-2.png  \n",
            "  inflating: /content/drive/My Drive/ayush_ranjan_project/Covid19/__MACOSX/CT_COVID/._2020.03.18.20038125-p15-54-2.png  \n",
            "  inflating: /content/drive/My Drive/ayush_ranjan_project/Covid19/CT_COVID/kjr-21-e24-p5-29.png  \n",
            "  inflating: /content/drive/My Drive/ayush_ranjan_project/Covid19/__MACOSX/CT_COVID/._kjr-21-e24-p5-29.png  \n",
            "  inflating: /content/drive/My Drive/ayush_ranjan_project/Covid19/CT_COVID/2020.03.04.20031047-p13-84%2.png  \n",
            "  inflating: /content/drive/My Drive/ayush_ranjan_project/Covid19/__MACOSX/CT_COVID/._2020.03.04.20031047-p13-84%2.png  \n",
            "  inflating: /content/drive/My Drive/ayush_ranjan_project/Covid19/CT_COVID/2020.03.13.20035212-p23-159.png  \n",
            "  inflating: /content/drive/My Drive/ayush_ranjan_project/Covid19/__MACOSX/CT_COVID/._2020.03.13.20035212-p23-159.png  \n",
            "  inflating: /content/drive/My Drive/ayush_ranjan_project/Covid19/CT_COVID/2020.03.13.20035212-p23-158.png  \n",
            "  inflating: /content/drive/My Drive/ayush_ranjan_project/Covid19/__MACOSX/CT_COVID/._2020.03.13.20035212-p23-158.png  \n",
            "  inflating: /content/drive/My Drive/ayush_ranjan_project/Covid19/CT_COVID/2020.03.04.20031047-p13-84%3.png  \n",
            "  inflating: /content/drive/My Drive/ayush_ranjan_project/Covid19/__MACOSX/CT_COVID/._2020.03.04.20031047-p13-84%3.png  \n",
            "  inflating: /content/drive/My Drive/ayush_ranjan_project/Covid19/CT_COVID/2020.03.10.20032136-p34-118_2%0.png  \n",
            "  inflating: /content/drive/My Drive/ayush_ranjan_project/Covid19/__MACOSX/CT_COVID/._2020.03.10.20032136-p34-118_2%0.png  \n",
            "  inflating: /content/drive/My Drive/ayush_ranjan_project/Covid19/CT_COVID/2020.02.25.20021568-p23-108%14.png  \n",
            "  inflating: /content/drive/My Drive/ayush_ranjan_project/Covid19/__MACOSX/CT_COVID/._2020.02.25.20021568-p23-108%14.png  \n",
            "  inflating: /content/drive/My Drive/ayush_ranjan_project/Covid19/CT_COVID/2020.03.26.20041426-p11-131.png  \n",
            "  inflating: /content/drive/My Drive/ayush_ranjan_project/Covid19/__MACOSX/CT_COVID/._2020.03.26.20041426-p11-131.png  \n",
            "  inflating: /content/drive/My Drive/ayush_ranjan_project/Covid19/CT_COVID/2020.03.26.20041426-p11-125.png  \n",
            "  inflating: /content/drive/My Drive/ayush_ranjan_project/Covid19/__MACOSX/CT_COVID/._2020.03.26.20041426-p11-125.png  \n",
            "  inflating: /content/drive/My Drive/ayush_ranjan_project/Covid19/CT_COVID/2020.02.10.20021584-p6-52%4.png  \n",
            "  inflating: /content/drive/My Drive/ayush_ranjan_project/Covid19/__MACOSX/CT_COVID/._2020.02.10.20021584-p6-52%4.png  \n",
            "  inflating: /content/drive/My Drive/ayush_ranjan_project/Covid19/CT_COVID/2020.02.25.20021568-p24-111%3.png  \n",
            "  inflating: /content/drive/My Drive/ayush_ranjan_project/Covid19/__MACOSX/CT_COVID/._2020.02.25.20021568-p24-111%3.png  \n",
            "  inflating: /content/drive/My Drive/ayush_ranjan_project/Covid19/CT_COVID/2020.03.26.20041426-p11-119.png  \n",
            "  inflating: /content/drive/My Drive/ayush_ranjan_project/Covid19/__MACOSX/CT_COVID/._2020.03.26.20041426-p11-119.png  \n",
            "  inflating: /content/drive/My Drive/ayush_ranjan_project/Covid19/CT_COVID/2020.03.04.20026005-p12-1946%3.png  \n",
            "  inflating: /content/drive/My Drive/ayush_ranjan_project/Covid19/__MACOSX/CT_COVID/._2020.03.04.20026005-p12-1946%3.png  \n",
            "  inflating: /content/drive/My Drive/ayush_ranjan_project/Covid19/CT_COVID/2020.03.30.20047985-p9-56%1.png  \n",
            "  inflating: /content/drive/My Drive/ayush_ranjan_project/Covid19/__MACOSX/CT_COVID/._2020.03.30.20047985-p9-56%1.png  \n",
            "  inflating: /content/drive/My Drive/ayush_ranjan_project/Covid19/CT_COVID/2020.03.04.20031039-p23-97_1%2.png  \n",
            "  inflating: /content/drive/My Drive/ayush_ranjan_project/Covid19/__MACOSX/CT_COVID/._2020.03.04.20031039-p23-97_1%2.png  \n",
            "  inflating: /content/drive/My Drive/ayush_ranjan_project/Covid19/CT_COVID/2020.03.04.20031047-p14-87%0.png  \n",
            "  inflating: /content/drive/My Drive/ayush_ranjan_project/Covid19/__MACOSX/CT_COVID/._2020.03.04.20031047-p14-87%0.png  \n",
            "  inflating: /content/drive/My Drive/ayush_ranjan_project/Covid19/CT_COVID/2020.03.26.20041426-p11-121.png  \n",
            "  inflating: /content/drive/My Drive/ayush_ranjan_project/Covid19/__MACOSX/CT_COVID/._2020.03.26.20041426-p11-121.png  \n",
            "  inflating: /content/drive/My Drive/ayush_ranjan_project/Covid19/CT_COVID/2020.02.25.20027763-p15-53%0.png  \n",
            "  inflating: /content/drive/My Drive/ayush_ranjan_project/Covid19/__MACOSX/CT_COVID/._2020.02.25.20027763-p15-53%0.png  \n",
            "  inflating: /content/drive/My Drive/ayush_ranjan_project/Covid19/CT_COVID/2020.02.13.20022673-p13-77%0.png  \n",
            "  inflating: /content/drive/My Drive/ayush_ranjan_project/Covid19/__MACOSX/CT_COVID/._2020.02.13.20022673-p13-77%0.png  \n",
            "  inflating: /content/drive/My Drive/ayush_ranjan_project/Covid19/CT_COVID/2020.02.25.20021568-p24-111%7.png  \n",
            "  inflating: /content/drive/My Drive/ayush_ranjan_project/Covid19/__MACOSX/CT_COVID/._2020.02.25.20021568-p24-111%7.png  \n",
            "  inflating: /content/drive/My Drive/ayush_ranjan_project/Covid19/CT_COVID/2020.02.10.20021584-p6-52%0.png  \n",
            "  inflating: /content/drive/My Drive/ayush_ranjan_project/Covid19/__MACOSX/CT_COVID/._2020.02.10.20021584-p6-52%0.png  \n",
            "  inflating: /content/drive/My Drive/ayush_ranjan_project/Covid19/CT_COVID/2020.03.19.20038539-p10-62.png  \n",
            "  inflating: /content/drive/My Drive/ayush_ranjan_project/Covid19/__MACOSX/CT_COVID/._2020.03.19.20038539-p10-62.png  \n",
            "  inflating: /content/drive/My Drive/ayush_ranjan_project/Covid19/CT_COVID/2020.02.25.20021568-p23-108%10.png  \n",
            "  inflating: /content/drive/My Drive/ayush_ranjan_project/Covid19/__MACOSX/CT_COVID/._2020.02.25.20021568-p23-108%10.png  \n",
            "  inflating: /content/drive/My Drive/ayush_ranjan_project/Covid19/CT_COVID/PIIS0140673620301549_2.png  \n",
            "  inflating: /content/drive/My Drive/ayush_ranjan_project/Covid19/__MACOSX/CT_COVID/._PIIS0140673620301549_2.png  \n",
            "  inflating: /content/drive/My Drive/ayush_ranjan_project/Covid19/CT_COVID/2020.01.24.919183-p27-132.png  \n",
            "  inflating: /content/drive/My Drive/ayush_ranjan_project/Covid19/__MACOSX/CT_COVID/._2020.01.24.919183-p27-132.png  \n",
            "  inflating: /content/drive/My Drive/ayush_ranjan_project/Covid19/CT_COVID/2020.03.04.20030395-p27-108%8.png  \n",
            "  inflating: /content/drive/My Drive/ayush_ranjan_project/Covid19/__MACOSX/CT_COVID/._2020.03.04.20030395-p27-108%8.png  \n",
            "  inflating: /content/drive/My Drive/ayush_ranjan_project/Covid19/CT_COVID/2020.03.13.20035212-p23-160.png  \n",
            "  inflating: /content/drive/My Drive/ayush_ranjan_project/Covid19/__MACOSX/CT_COVID/._2020.03.13.20035212-p23-160.png  \n",
            "  inflating: /content/drive/My Drive/ayush_ranjan_project/Covid19/CT_COVID/2020.02.10.20021584-p6-52%12.png  \n",
            "  inflating: /content/drive/My Drive/ayush_ranjan_project/Covid19/__MACOSX/CT_COVID/._2020.02.10.20021584-p6-52%12.png  \n",
            "  inflating: /content/drive/My Drive/ayush_ranjan_project/Covid19/CT_COVID/2020.02.10.20021584-p6-52%13.png  \n",
            "  inflating: /content/drive/My Drive/ayush_ranjan_project/Covid19/__MACOSX/CT_COVID/._2020.02.10.20021584-p6-52%13.png  \n",
            "  inflating: /content/drive/My Drive/ayush_ranjan_project/Covid19/CT_COVID/2020.03.13.20035212-p23-161.png  \n",
            "  inflating: /content/drive/My Drive/ayush_ranjan_project/Covid19/__MACOSX/CT_COVID/._2020.03.13.20035212-p23-161.png  \n",
            "  inflating: /content/drive/My Drive/ayush_ranjan_project/Covid19/CT_COVID/2020.01.24.919183-p27-133.png  \n",
            "  inflating: /content/drive/My Drive/ayush_ranjan_project/Covid19/__MACOSX/CT_COVID/._2020.01.24.919183-p27-133.png  \n",
            "  inflating: /content/drive/My Drive/ayush_ranjan_project/Covid19/CT_COVID/2020.02.22.20024927-p18-66%2.png  \n",
            "  inflating: /content/drive/My Drive/ayush_ranjan_project/Covid19/__MACOSX/CT_COVID/._2020.02.22.20024927-p18-66%2.png  \n",
            "  inflating: /content/drive/My Drive/ayush_ranjan_project/Covid19/CT_COVID/2020.03.18.20038125-p15-54-6.png  \n",
            "  inflating: /content/drive/My Drive/ayush_ranjan_project/Covid19/__MACOSX/CT_COVID/._2020.03.18.20038125-p15-54-6.png  \n",
            "  inflating: /content/drive/My Drive/ayush_ranjan_project/Covid19/CT_COVID/2020.02.25.20021568-p23-108%11.png  \n",
            "  inflating: /content/drive/My Drive/ayush_ranjan_project/Covid19/__MACOSX/CT_COVID/._2020.02.25.20021568-p23-108%11.png  \n",
            "  inflating: /content/drive/My Drive/ayush_ranjan_project/Covid19/CT_COVID/2020.03.03.20030775-p11-91.png  \n",
            "  inflating: /content/drive/My Drive/ayush_ranjan_project/Covid19/__MACOSX/CT_COVID/._2020.03.03.20030775-p11-91.png  \n",
            "  inflating: /content/drive/My Drive/ayush_ranjan_project/Covid19/CT_COVID/2020.02.25.20021568-p24-111%6.png  \n",
            "  inflating: /content/drive/My Drive/ayush_ranjan_project/Covid19/__MACOSX/CT_COVID/._2020.02.25.20021568-p24-111%6.png  \n",
            "  inflating: /content/drive/My Drive/ayush_ranjan_project/Covid19/CT_COVID/2020.02.10.20021584-p6-52%1.png  \n",
            "  inflating: /content/drive/My Drive/ayush_ranjan_project/Covid19/__MACOSX/CT_COVID/._2020.02.10.20021584-p6-52%1.png  \n",
            "  inflating: /content/drive/My Drive/ayush_ranjan_project/Covid19/CT_COVID/2020.02.13.20022673-p13-77%1.png  \n",
            "  inflating: /content/drive/My Drive/ayush_ranjan_project/Covid19/__MACOSX/CT_COVID/._2020.02.13.20022673-p13-77%1.png  \n",
            "  inflating: /content/drive/My Drive/ayush_ranjan_project/Covid19/CT_COVID/2020.02.25.20027763-p15-53%1.png  \n",
            "  inflating: /content/drive/My Drive/ayush_ranjan_project/Covid19/__MACOSX/CT_COVID/._2020.02.25.20027763-p15-53%1.png  \n",
            "  inflating: /content/drive/My Drive/ayush_ranjan_project/Covid19/CT_COVID/2020.03.26.20041426-p11-120.png  \n",
            "  inflating: /content/drive/My Drive/ayush_ranjan_project/Covid19/__MACOSX/CT_COVID/._2020.03.26.20041426-p11-120.png  \n",
            "  inflating: /content/drive/My Drive/ayush_ranjan_project/Covid19/CT_COVID/2020.03.04.20031047-p14-87%1.png  \n",
            "  inflating: /content/drive/My Drive/ayush_ranjan_project/Covid19/__MACOSX/CT_COVID/._2020.03.04.20031047-p14-87%1.png  \n",
            "  inflating: /content/drive/My Drive/ayush_ranjan_project/Covid19/CT_COVID/2020.03.30.20047985-p9-56%0.png  \n",
            "  inflating: /content/drive/My Drive/ayush_ranjan_project/Covid19/__MACOSX/CT_COVID/._2020.03.30.20047985-p9-56%0.png  \n",
            "  inflating: /content/drive/My Drive/ayush_ranjan_project/Covid19/CT_COVID/kjr-21-e25-p1-14.png  \n",
            "  inflating: /content/drive/My Drive/ayush_ranjan_project/Covid19/__MACOSX/CT_COVID/._kjr-21-e25-p1-14.png  \n",
            "  inflating: /content/drive/My Drive/ayush_ranjan_project/Covid19/CT_COVID/2020.03.04.20031039-p23-97_1%1.png  \n",
            "  inflating: /content/drive/My Drive/ayush_ranjan_project/Covid19/__MACOSX/CT_COVID/._2020.03.04.20031039-p23-97_1%1.png  \n",
            "  inflating: /content/drive/My Drive/ayush_ranjan_project/Covid19/CT_COVID/2020.03.30.20047985-p9-56%2.png  \n",
            "  inflating: /content/drive/My Drive/ayush_ranjan_project/Covid19/__MACOSX/CT_COVID/._2020.03.30.20047985-p9-56%2.png  \n",
            "  inflating: /content/drive/My Drive/ayush_ranjan_project/Covid19/CT_COVID/2020.03.04.20026005-p12-1946%4.png  \n",
            "  inflating: /content/drive/My Drive/ayush_ranjan_project/Covid19/__MACOSX/CT_COVID/._2020.03.04.20026005-p12-1946%4.png  \n",
            "  inflating: /content/drive/My Drive/ayush_ranjan_project/Covid19/CT_COVID/2020.03.12.20027185-p8-221.png  \n",
            "  inflating: /content/drive/My Drive/ayush_ranjan_project/Covid19/__MACOSX/CT_COVID/._2020.03.12.20027185-p8-221.png  \n",
            "  inflating: /content/drive/My Drive/ayush_ranjan_project/Covid19/CT_COVID/2020.03.26.20041426-p11-122.png  \n",
            "  inflating: /content/drive/My Drive/ayush_ranjan_project/Covid19/__MACOSX/CT_COVID/._2020.03.26.20041426-p11-122.png  \n",
            "  inflating: /content/drive/My Drive/ayush_ranjan_project/Covid19/CT_COVID/2020.02.10.20021584-p6-52%3.png  \n",
            "  inflating: /content/drive/My Drive/ayush_ranjan_project/Covid19/__MACOSX/CT_COVID/._2020.02.10.20021584-p6-52%3.png  \n",
            "  inflating: /content/drive/My Drive/ayush_ranjan_project/Covid19/CT_COVID/2020.02.25.20021568-p24-111%4.png  \n",
            "  inflating: /content/drive/My Drive/ayush_ranjan_project/Covid19/__MACOSX/CT_COVID/._2020.02.25.20021568-p24-111%4.png  \n",
            "  inflating: /content/drive/My Drive/ayush_ranjan_project/Covid19/CT_COVID/2020.02.25.20021568-p23-108%13.png  \n",
            "  inflating: /content/drive/My Drive/ayush_ranjan_project/Covid19/__MACOSX/CT_COVID/._2020.02.25.20021568-p23-108%13.png  \n",
            "  inflating: /content/drive/My Drive/ayush_ranjan_project/Covid19/CT_COVID/2020.03.19.20038539-p10-61.png  \n",
            "  inflating: /content/drive/My Drive/ayush_ranjan_project/Covid19/__MACOSX/CT_COVID/._2020.03.19.20038539-p10-61.png  \n",
            "  inflating: /content/drive/My Drive/ayush_ranjan_project/Covid19/CT_COVID/2020.03.18.20038125-p15-54-4.png  \n",
            "  inflating: /content/drive/My Drive/ayush_ranjan_project/Covid19/__MACOSX/CT_COVID/._2020.03.18.20038125-p15-54-4.png  \n",
            "  inflating: /content/drive/My Drive/ayush_ranjan_project/Covid19/CT_COVID/PIIS0140673620301549_1.png  \n",
            "  inflating: /content/drive/My Drive/ayush_ranjan_project/Covid19/__MACOSX/CT_COVID/._PIIS0140673620301549_1.png  \n",
            "  inflating: /content/drive/My Drive/ayush_ranjan_project/Covid19/CT_COVID/2020.03.04.20031047-p13-84%4.png  \n",
            "  inflating: /content/drive/My Drive/ayush_ranjan_project/Covid19/__MACOSX/CT_COVID/._2020.03.04.20031047-p13-84%4.png  \n",
            "  inflating: /content/drive/My Drive/ayush_ranjan_project/Covid19/CT_COVID/2020.02.22.20024927-p18-66%0.png  \n",
            "  inflating: /content/drive/My Drive/ayush_ranjan_project/Covid19/__MACOSX/CT_COVID/._2020.02.22.20024927-p18-66%0.png  \n",
            "  inflating: /content/drive/My Drive/ayush_ranjan_project/Covid19/CT_COVID/2020.03.13.20035212-p23-163.png  \n",
            "  inflating: /content/drive/My Drive/ayush_ranjan_project/Covid19/__MACOSX/CT_COVID/._2020.03.13.20035212-p23-163.png  \n",
            "  inflating: /content/drive/My Drive/ayush_ranjan_project/Covid19/CT_COVID/2020.02.10.20021584-p6-52%11.png  \n",
            "  inflating: /content/drive/My Drive/ayush_ranjan_project/Covid19/__MACOSX/CT_COVID/._2020.02.10.20021584-p6-52%11.png  \n",
            "  inflating: /content/drive/My Drive/ayush_ranjan_project/Covid19/CT_COVID/2020.02.10.20021584-p6-52%10.png  \n",
            "  inflating: /content/drive/My Drive/ayush_ranjan_project/Covid19/__MACOSX/CT_COVID/._2020.02.10.20021584-p6-52%10.png  \n",
            "  inflating: /content/drive/My Drive/ayush_ranjan_project/Covid19/CT_COVID/2020.03.13.20035212-p23-162.png  \n",
            "  inflating: /content/drive/My Drive/ayush_ranjan_project/Covid19/__MACOSX/CT_COVID/._2020.03.13.20035212-p23-162.png  \n",
            "  inflating: /content/drive/My Drive/ayush_ranjan_project/Covid19/CT_COVID/2020.03.04.20031047-p13-84%5.png  \n",
            "  inflating: /content/drive/My Drive/ayush_ranjan_project/Covid19/__MACOSX/CT_COVID/._2020.03.04.20031047-p13-84%5.png  \n",
            "  inflating: /content/drive/My Drive/ayush_ranjan_project/Covid19/CT_COVID/2020.02.22.20024927-p18-66%1.png  \n",
            "  inflating: /content/drive/My Drive/ayush_ranjan_project/Covid19/__MACOSX/CT_COVID/._2020.02.22.20024927-p18-66%1.png  \n",
            "  inflating: /content/drive/My Drive/ayush_ranjan_project/Covid19/CT_COVID/2020.03.18.20038125-p15-54-5.png  \n",
            "  inflating: /content/drive/My Drive/ayush_ranjan_project/Covid19/__MACOSX/CT_COVID/._2020.03.18.20038125-p15-54-5.png  \n",
            "  inflating: /content/drive/My Drive/ayush_ranjan_project/Covid19/CT_COVID/2020.03.19.20038539-p10-60.png  \n",
            "  inflating: /content/drive/My Drive/ayush_ranjan_project/Covid19/__MACOSX/CT_COVID/._2020.03.19.20038539-p10-60.png  \n",
            "  inflating: /content/drive/My Drive/ayush_ranjan_project/Covid19/CT_COVID/2020.02.25.20021568-p23-108%12.png  \n",
            "  inflating: /content/drive/My Drive/ayush_ranjan_project/Covid19/__MACOSX/CT_COVID/._2020.02.25.20021568-p23-108%12.png  \n",
            "  inflating: /content/drive/My Drive/ayush_ranjan_project/Covid19/CT_COVID/2020.02.10.20021584-p6-52%2.png  \n",
            "  inflating: /content/drive/My Drive/ayush_ranjan_project/Covid19/__MACOSX/CT_COVID/._2020.02.10.20021584-p6-52%2.png  \n",
            "  inflating: /content/drive/My Drive/ayush_ranjan_project/Covid19/CT_COVID/2020.02.25.20021568-p24-111%5.png  \n",
            "  inflating: /content/drive/My Drive/ayush_ranjan_project/Covid19/__MACOSX/CT_COVID/._2020.02.25.20021568-p24-111%5.png  \n",
            "  inflating: /content/drive/My Drive/ayush_ranjan_project/Covid19/CT_COVID/2020.03.26.20041426-p11-123.png  \n",
            "  inflating: /content/drive/My Drive/ayush_ranjan_project/Covid19/__MACOSX/CT_COVID/._2020.03.26.20041426-p11-123.png  \n",
            "  inflating: /content/drive/My Drive/ayush_ranjan_project/Covid19/CT_COVID/2020.02.13.20022673-p13-77%2.png  \n",
            "  inflating: /content/drive/My Drive/ayush_ranjan_project/Covid19/__MACOSX/CT_COVID/._2020.02.13.20022673-p13-77%2.png  \n",
            "  inflating: /content/drive/My Drive/ayush_ranjan_project/Covid19/CT_COVID/2020.03.04.20026005-p12-1946%5.png  \n",
            "  inflating: /content/drive/My Drive/ayush_ranjan_project/Covid19/__MACOSX/CT_COVID/._2020.03.04.20026005-p12-1946%5.png  \n",
            "  inflating: /content/drive/My Drive/ayush_ranjan_project/Covid19/CT_COVID/2020.03.04.20031039-p23-97_1%0.png  \n",
            "  inflating: /content/drive/My Drive/ayush_ranjan_project/Covid19/__MACOSX/CT_COVID/._2020.03.04.20031039-p23-97_1%0.png  \n",
            "  inflating: /content/drive/My Drive/ayush_ranjan_project/Covid19/CT_COVID/2020.03.30.20047985-p9-56%3.png  \n",
            "  inflating: /content/drive/My Drive/ayush_ranjan_project/Covid19/__MACOSX/CT_COVID/._2020.03.30.20047985-p9-56%3.png  \n",
            "  inflating: /content/drive/My Drive/ayush_ranjan_project/Covid19/__MACOSX/._CT_COVID  \n"
          ],
          "name": "stdout"
        }
      ]
    },
    {
      "cell_type": "code",
      "metadata": {
        "id": "gfN3NhnXe9bZ",
        "colab_type": "code",
        "outputId": "3e583009-a3dd-4e22-f024-a401e4998a2e",
        "colab": {
          "base_uri": "https://localhost:8080/",
          "height": 1000
        }
      },
      "source": [
        "! unzip CT_NonCOVID.zip -d '/content/drive/My Drive/ayush_ranjan_project/Covid19'"
      ],
      "execution_count": 0,
      "outputs": [
        {
          "output_type": "stream",
          "text": [
            "Archive:  CT_NonCOVID.zip\n",
            "  inflating: /content/drive/My Drive/ayush_ranjan_project/Covid19/CT_NonCOVID/0.jpg  \n",
            "  inflating: /content/drive/My Drive/ayush_ranjan_project/Covid19/CT_NonCOVID/1%0.jpg  \n",
            "  inflating: /content/drive/My Drive/ayush_ranjan_project/Covid19/CT_NonCOVID/1%1.jpg  \n",
            "  inflating: /content/drive/My Drive/ayush_ranjan_project/Covid19/CT_NonCOVID/1%2.jpg  \n",
            "  inflating: /content/drive/My Drive/ayush_ranjan_project/Covid19/CT_NonCOVID/10%0.jpg  \n",
            "  inflating: /content/drive/My Drive/ayush_ranjan_project/Covid19/CT_NonCOVID/10%1.jpg  \n",
            "  inflating: /content/drive/My Drive/ayush_ranjan_project/Covid19/CT_NonCOVID/10%2.jpg  \n",
            "  inflating: /content/drive/My Drive/ayush_ranjan_project/Covid19/CT_NonCOVID/102.png  \n",
            "  inflating: /content/drive/My Drive/ayush_ranjan_project/Covid19/CT_NonCOVID/1029.png  \n",
            "  inflating: /content/drive/My Drive/ayush_ranjan_project/Covid19/CT_NonCOVID/103.png  \n",
            "  inflating: /content/drive/My Drive/ayush_ranjan_project/Covid19/CT_NonCOVID/1030.png  \n",
            "  inflating: /content/drive/My Drive/ayush_ranjan_project/Covid19/CT_NonCOVID/104.png  \n",
            "  inflating: /content/drive/My Drive/ayush_ranjan_project/Covid19/CT_NonCOVID/1046.png  \n",
            "  inflating: /content/drive/My Drive/ayush_ranjan_project/Covid19/CT_NonCOVID/1047.png  \n",
            "  inflating: /content/drive/My Drive/ayush_ranjan_project/Covid19/CT_NonCOVID/1048.png  \n",
            "  inflating: /content/drive/My Drive/ayush_ranjan_project/Covid19/CT_NonCOVID/1049.png  \n",
            "  inflating: /content/drive/My Drive/ayush_ranjan_project/Covid19/CT_NonCOVID/1050.png  \n",
            "  inflating: /content/drive/My Drive/ayush_ranjan_project/Covid19/CT_NonCOVID/1058.png  \n",
            "  inflating: /content/drive/My Drive/ayush_ranjan_project/Covid19/CT_NonCOVID/1059.png  \n",
            "  inflating: /content/drive/My Drive/ayush_ranjan_project/Covid19/CT_NonCOVID/1060.png  \n",
            "  inflating: /content/drive/My Drive/ayush_ranjan_project/Covid19/CT_NonCOVID/1061.png  \n",
            "  inflating: /content/drive/My Drive/ayush_ranjan_project/Covid19/CT_NonCOVID/1062.png  \n",
            "  inflating: /content/drive/My Drive/ayush_ranjan_project/Covid19/CT_NonCOVID/1065.png  \n",
            "  inflating: /content/drive/My Drive/ayush_ranjan_project/Covid19/CT_NonCOVID/1070.png  \n",
            "  inflating: /content/drive/My Drive/ayush_ranjan_project/Covid19/CT_NonCOVID/1071.png  \n",
            "  inflating: /content/drive/My Drive/ayush_ranjan_project/Covid19/CT_NonCOVID/1072.png  \n",
            "  inflating: /content/drive/My Drive/ayush_ranjan_project/Covid19/CT_NonCOVID/1078.png  \n",
            "  inflating: /content/drive/My Drive/ayush_ranjan_project/Covid19/CT_NonCOVID/1079.png  \n",
            "  inflating: /content/drive/My Drive/ayush_ranjan_project/Covid19/CT_NonCOVID/1093.png  \n",
            "  inflating: /content/drive/My Drive/ayush_ranjan_project/Covid19/CT_NonCOVID/1094.png  \n",
            "  inflating: /content/drive/My Drive/ayush_ranjan_project/Covid19/CT_NonCOVID/1098.png  \n",
            "  inflating: /content/drive/My Drive/ayush_ranjan_project/Covid19/CT_NonCOVID/1099.png  \n",
            "  inflating: /content/drive/My Drive/ayush_ranjan_project/Covid19/CT_NonCOVID/11%0.jpg  \n",
            "  inflating: /content/drive/My Drive/ayush_ranjan_project/Covid19/CT_NonCOVID/11%1.jpg  \n",
            "  inflating: /content/drive/My Drive/ayush_ranjan_project/Covid19/CT_NonCOVID/11%2.jpg  \n",
            "  inflating: /content/drive/My Drive/ayush_ranjan_project/Covid19/CT_NonCOVID/1100.png  \n",
            "  inflating: /content/drive/My Drive/ayush_ranjan_project/Covid19/CT_NonCOVID/1101.png  \n",
            "  inflating: /content/drive/My Drive/ayush_ranjan_project/Covid19/CT_NonCOVID/1115.png  \n",
            "  inflating: /content/drive/My Drive/ayush_ranjan_project/Covid19/CT_NonCOVID/112.png  \n",
            "  inflating: /content/drive/My Drive/ayush_ranjan_project/Covid19/CT_NonCOVID/1123.png  \n",
            "  inflating: /content/drive/My Drive/ayush_ranjan_project/Covid19/CT_NonCOVID/1124.png  \n",
            "  inflating: /content/drive/My Drive/ayush_ranjan_project/Covid19/CT_NonCOVID/114.png  \n",
            "  inflating: /content/drive/My Drive/ayush_ranjan_project/Covid19/CT_NonCOVID/115.png  \n",
            "  inflating: /content/drive/My Drive/ayush_ranjan_project/Covid19/CT_NonCOVID/116.png  \n",
            "  inflating: /content/drive/My Drive/ayush_ranjan_project/Covid19/CT_NonCOVID/1164.png  \n",
            "  inflating: /content/drive/My Drive/ayush_ranjan_project/Covid19/CT_NonCOVID/117.png  \n",
            "  inflating: /content/drive/My Drive/ayush_ranjan_project/Covid19/CT_NonCOVID/118.png  \n",
            "  inflating: /content/drive/My Drive/ayush_ranjan_project/Covid19/CT_NonCOVID/12.jpg  \n",
            "  inflating: /content/drive/My Drive/ayush_ranjan_project/Covid19/CT_NonCOVID/120.png  \n",
            "  inflating: /content/drive/My Drive/ayush_ranjan_project/Covid19/CT_NonCOVID/1210.png  \n",
            "  inflating: /content/drive/My Drive/ayush_ranjan_project/Covid19/CT_NonCOVID/1211.png  \n",
            "  inflating: /content/drive/My Drive/ayush_ranjan_project/Covid19/CT_NonCOVID/1212.png  \n",
            "  inflating: /content/drive/My Drive/ayush_ranjan_project/Covid19/CT_NonCOVID/1213.png  \n",
            "  inflating: /content/drive/My Drive/ayush_ranjan_project/Covid19/CT_NonCOVID/1214.png  \n",
            "  inflating: /content/drive/My Drive/ayush_ranjan_project/Covid19/CT_NonCOVID/1215.png  \n",
            "  inflating: /content/drive/My Drive/ayush_ranjan_project/Covid19/CT_NonCOVID/1216.png  \n",
            "  inflating: /content/drive/My Drive/ayush_ranjan_project/Covid19/CT_NonCOVID/1217.png  \n",
            "  inflating: /content/drive/My Drive/ayush_ranjan_project/Covid19/CT_NonCOVID/1218.png  \n",
            "  inflating: /content/drive/My Drive/ayush_ranjan_project/Covid19/CT_NonCOVID/1221.png  \n",
            "  inflating: /content/drive/My Drive/ayush_ranjan_project/Covid19/CT_NonCOVID/1238.png  \n",
            "  inflating: /content/drive/My Drive/ayush_ranjan_project/Covid19/CT_NonCOVID/1239.png  \n",
            "  inflating: /content/drive/My Drive/ayush_ranjan_project/Covid19/CT_NonCOVID/1240.png  \n",
            "  inflating: /content/drive/My Drive/ayush_ranjan_project/Covid19/CT_NonCOVID/1261.png  \n",
            "  inflating: /content/drive/My Drive/ayush_ranjan_project/Covid19/CT_NonCOVID/1262.png  \n",
            "  inflating: /content/drive/My Drive/ayush_ranjan_project/Covid19/CT_NonCOVID/1263.png  \n",
            "  inflating: /content/drive/My Drive/ayush_ranjan_project/Covid19/CT_NonCOVID/1264.png  \n",
            "  inflating: /content/drive/My Drive/ayush_ranjan_project/Covid19/CT_NonCOVID/1277.png  \n",
            "  inflating: /content/drive/My Drive/ayush_ranjan_project/Covid19/CT_NonCOVID/1297.png  \n",
            "  inflating: /content/drive/My Drive/ayush_ranjan_project/Covid19/CT_NonCOVID/1298.png  \n",
            "  inflating: /content/drive/My Drive/ayush_ranjan_project/Covid19/CT_NonCOVID/13.jpg  \n",
            "  inflating: /content/drive/My Drive/ayush_ranjan_project/Covid19/CT_NonCOVID/1305.png  \n",
            "  inflating: /content/drive/My Drive/ayush_ranjan_project/Covid19/CT_NonCOVID/1306.png  \n",
            "  inflating: /content/drive/My Drive/ayush_ranjan_project/Covid19/CT_NonCOVID/1307.png  \n",
            "  inflating: /content/drive/My Drive/ayush_ranjan_project/Covid19/CT_NonCOVID/1308.png  \n",
            "  inflating: /content/drive/My Drive/ayush_ranjan_project/Covid19/CT_NonCOVID/1309.png  \n",
            "  inflating: /content/drive/My Drive/ayush_ranjan_project/Covid19/CT_NonCOVID/1310.png  \n",
            "  inflating: /content/drive/My Drive/ayush_ranjan_project/Covid19/CT_NonCOVID/1312.png  \n",
            "  inflating: /content/drive/My Drive/ayush_ranjan_project/Covid19/CT_NonCOVID/1313.png  \n",
            "  inflating: /content/drive/My Drive/ayush_ranjan_project/Covid19/CT_NonCOVID/1328.png  \n",
            "  inflating: /content/drive/My Drive/ayush_ranjan_project/Covid19/CT_NonCOVID/1330.png  \n",
            "  inflating: /content/drive/My Drive/ayush_ranjan_project/Covid19/CT_NonCOVID/1331.png  \n",
            "  inflating: /content/drive/My Drive/ayush_ranjan_project/Covid19/CT_NonCOVID/1332.png  \n",
            "  inflating: /content/drive/My Drive/ayush_ranjan_project/Covid19/CT_NonCOVID/1333.png  \n",
            "  inflating: /content/drive/My Drive/ayush_ranjan_project/Covid19/CT_NonCOVID/1335.png  \n",
            "  inflating: /content/drive/My Drive/ayush_ranjan_project/Covid19/CT_NonCOVID/1336.png  \n",
            "  inflating: /content/drive/My Drive/ayush_ranjan_project/Covid19/CT_NonCOVID/14%0.jpg  \n",
            "  inflating: /content/drive/My Drive/ayush_ranjan_project/Covid19/CT_NonCOVID/14%1.jpg  \n",
            "  inflating: /content/drive/My Drive/ayush_ranjan_project/Covid19/CT_NonCOVID/14%2.jpg  \n",
            "  inflating: /content/drive/My Drive/ayush_ranjan_project/Covid19/CT_NonCOVID/14%3.jpg  \n",
            "  inflating: /content/drive/My Drive/ayush_ranjan_project/Covid19/CT_NonCOVID/14.png  \n",
            "  inflating: /content/drive/My Drive/ayush_ranjan_project/Covid19/CT_NonCOVID/1428.png  \n",
            "  inflating: /content/drive/My Drive/ayush_ranjan_project/Covid19/CT_NonCOVID/1463.png  \n",
            "  inflating: /content/drive/My Drive/ayush_ranjan_project/Covid19/CT_NonCOVID/1497.png  \n",
            "  inflating: /content/drive/My Drive/ayush_ranjan_project/Covid19/CT_NonCOVID/1498.png  \n",
            "  inflating: /content/drive/My Drive/ayush_ranjan_project/Covid19/CT_NonCOVID/1499.png  \n",
            "  inflating: /content/drive/My Drive/ayush_ranjan_project/Covid19/CT_NonCOVID/15%0.jpg  \n",
            "  inflating: /content/drive/My Drive/ayush_ranjan_project/Covid19/CT_NonCOVID/15%1.jpg  \n",
            "  inflating: /content/drive/My Drive/ayush_ranjan_project/Covid19/CT_NonCOVID/15%2.jpg  \n",
            "  inflating: /content/drive/My Drive/ayush_ranjan_project/Covid19/CT_NonCOVID/15%3.jpg  \n",
            "  inflating: /content/drive/My Drive/ayush_ranjan_project/Covid19/CT_NonCOVID/15.png  \n",
            "  inflating: /content/drive/My Drive/ayush_ranjan_project/Covid19/CT_NonCOVID/1500.png  \n",
            "  inflating: /content/drive/My Drive/ayush_ranjan_project/Covid19/CT_NonCOVID/1501.png  \n",
            "  inflating: /content/drive/My Drive/ayush_ranjan_project/Covid19/CT_NonCOVID/1561.png  \n",
            "  inflating: /content/drive/My Drive/ayush_ranjan_project/Covid19/CT_NonCOVID/1562.png  \n",
            "  inflating: /content/drive/My Drive/ayush_ranjan_project/Covid19/CT_NonCOVID/1575.png  \n",
            "  inflating: /content/drive/My Drive/ayush_ranjan_project/Covid19/CT_NonCOVID/1576.png  \n",
            "  inflating: /content/drive/My Drive/ayush_ranjan_project/Covid19/CT_NonCOVID/1577.png  \n",
            "  inflating: /content/drive/My Drive/ayush_ranjan_project/Covid19/CT_NonCOVID/158.png  \n",
            "  inflating: /content/drive/My Drive/ayush_ranjan_project/Covid19/CT_NonCOVID/16.jpg  \n",
            "  inflating: /content/drive/My Drive/ayush_ranjan_project/Covid19/CT_NonCOVID/1638.png  \n",
            "  inflating: /content/drive/My Drive/ayush_ranjan_project/Covid19/CT_NonCOVID/166.png  \n",
            "  inflating: /content/drive/My Drive/ayush_ranjan_project/Covid19/CT_NonCOVID/167.png  \n",
            "  inflating: /content/drive/My Drive/ayush_ranjan_project/Covid19/CT_NonCOVID/17%0.jpg  \n",
            "  inflating: /content/drive/My Drive/ayush_ranjan_project/Covid19/CT_NonCOVID/17%1.jpg  \n",
            "  inflating: /content/drive/My Drive/ayush_ranjan_project/Covid19/CT_NonCOVID/1702.png  \n",
            "  inflating: /content/drive/My Drive/ayush_ranjan_project/Covid19/CT_NonCOVID/171.png  \n",
            "  inflating: /content/drive/My Drive/ayush_ranjan_project/Covid19/CT_NonCOVID/174.png  \n",
            "  inflating: /content/drive/My Drive/ayush_ranjan_project/Covid19/CT_NonCOVID/176.png  \n",
            "  inflating: /content/drive/My Drive/ayush_ranjan_project/Covid19/CT_NonCOVID/177.png  \n",
            "  inflating: /content/drive/My Drive/ayush_ranjan_project/Covid19/CT_NonCOVID/18%0.jpg  \n",
            "  inflating: /content/drive/My Drive/ayush_ranjan_project/Covid19/CT_NonCOVID/18%1.jpg  \n",
            "  inflating: /content/drive/My Drive/ayush_ranjan_project/Covid19/CT_NonCOVID/18%2.jpg  \n",
            "  inflating: /content/drive/My Drive/ayush_ranjan_project/Covid19/CT_NonCOVID/18%3.jpg  \n",
            "  inflating: /content/drive/My Drive/ayush_ranjan_project/Covid19/CT_NonCOVID/1814.png  \n",
            "  inflating: /content/drive/My Drive/ayush_ranjan_project/Covid19/CT_NonCOVID/1845.png  \n",
            "  inflating: /content/drive/My Drive/ayush_ranjan_project/Covid19/CT_NonCOVID/1846.png  \n",
            "  inflating: /content/drive/My Drive/ayush_ranjan_project/Covid19/CT_NonCOVID/1857.png  \n",
            "  inflating: /content/drive/My Drive/ayush_ranjan_project/Covid19/CT_NonCOVID/1858.png  \n",
            "  inflating: /content/drive/My Drive/ayush_ranjan_project/Covid19/CT_NonCOVID/1859.png  \n",
            "  inflating: /content/drive/My Drive/ayush_ranjan_project/Covid19/CT_NonCOVID/1868.png  \n",
            "  inflating: /content/drive/My Drive/ayush_ranjan_project/Covid19/CT_NonCOVID/1876.png  \n",
            "  inflating: /content/drive/My Drive/ayush_ranjan_project/Covid19/CT_NonCOVID/1877.png  \n",
            "  inflating: /content/drive/My Drive/ayush_ranjan_project/Covid19/CT_NonCOVID/1888.png  \n",
            "  inflating: /content/drive/My Drive/ayush_ranjan_project/Covid19/CT_NonCOVID/1889.png  \n",
            "  inflating: /content/drive/My Drive/ayush_ranjan_project/Covid19/CT_NonCOVID/19%0.jpg  \n",
            "  inflating: /content/drive/My Drive/ayush_ranjan_project/Covid19/CT_NonCOVID/19%1.jpg  \n",
            "  inflating: /content/drive/My Drive/ayush_ranjan_project/Covid19/CT_NonCOVID/1919.png  \n",
            "  inflating: /content/drive/My Drive/ayush_ranjan_project/Covid19/CT_NonCOVID/1920.png  \n",
            "  inflating: /content/drive/My Drive/ayush_ranjan_project/Covid19/CT_NonCOVID/1921.png  \n",
            "  inflating: /content/drive/My Drive/ayush_ranjan_project/Covid19/CT_NonCOVID/1922.png  \n",
            "  inflating: /content/drive/My Drive/ayush_ranjan_project/Covid19/CT_NonCOVID/1923.png  \n",
            "  inflating: /content/drive/My Drive/ayush_ranjan_project/Covid19/CT_NonCOVID/1924.png  \n",
            "  inflating: /content/drive/My Drive/ayush_ranjan_project/Covid19/CT_NonCOVID/1952.png  \n",
            "  inflating: /content/drive/My Drive/ayush_ranjan_project/Covid19/CT_NonCOVID/2%0.jpg  \n",
            "  inflating: /content/drive/My Drive/ayush_ranjan_project/Covid19/CT_NonCOVID/2%1.jpg  \n",
            "  inflating: /content/drive/My Drive/ayush_ranjan_project/Covid19/CT_NonCOVID/2%2.jpg  \n",
            "  inflating: /content/drive/My Drive/ayush_ranjan_project/Covid19/CT_NonCOVID/2%3.jpg  \n",
            "  inflating: /content/drive/My Drive/ayush_ranjan_project/Covid19/CT_NonCOVID/20.jpg  \n",
            "  inflating: /content/drive/My Drive/ayush_ranjan_project/Covid19/CT_NonCOVID/2007.png  \n",
            "  inflating: /content/drive/My Drive/ayush_ranjan_project/Covid19/CT_NonCOVID/2039.png  \n",
            "  inflating: /content/drive/My Drive/ayush_ranjan_project/Covid19/CT_NonCOVID/2040.png  \n",
            "  inflating: /content/drive/My Drive/ayush_ranjan_project/Covid19/CT_NonCOVID/2041.png  \n",
            "  inflating: /content/drive/My Drive/ayush_ranjan_project/Covid19/CT_NonCOVID/21%0.jpg  \n",
            "  inflating: /content/drive/My Drive/ayush_ranjan_project/Covid19/CT_NonCOVID/21%1.jpg  \n",
            "  inflating: /content/drive/My Drive/ayush_ranjan_project/Covid19/CT_NonCOVID/2108.png  \n",
            "  inflating: /content/drive/My Drive/ayush_ranjan_project/Covid19/CT_NonCOVID/2138.png  \n",
            "  inflating: /content/drive/My Drive/ayush_ranjan_project/Covid19/CT_NonCOVID/2139.png  \n",
            "  inflating: /content/drive/My Drive/ayush_ranjan_project/Covid19/CT_NonCOVID/2140.png  \n",
            "  inflating: /content/drive/My Drive/ayush_ranjan_project/Covid19/CT_NonCOVID/2141.png  \n",
            "  inflating: /content/drive/My Drive/ayush_ranjan_project/Covid19/CT_NonCOVID/2142.png  \n",
            "  inflating: /content/drive/My Drive/ayush_ranjan_project/Covid19/CT_NonCOVID/2143.png  \n",
            "  inflating: /content/drive/My Drive/ayush_ranjan_project/Covid19/CT_NonCOVID/2144.png  \n",
            "  inflating: /content/drive/My Drive/ayush_ranjan_project/Covid19/CT_NonCOVID/2145.png  \n",
            "  inflating: /content/drive/My Drive/ayush_ranjan_project/Covid19/CT_NonCOVID/22%0.jpg  \n",
            "  inflating: /content/drive/My Drive/ayush_ranjan_project/Covid19/CT_NonCOVID/22%1.jpg  \n",
            "  inflating: /content/drive/My Drive/ayush_ranjan_project/Covid19/CT_NonCOVID/2237.png  \n",
            "  inflating: /content/drive/My Drive/ayush_ranjan_project/Covid19/CT_NonCOVID/226.png  \n",
            "  inflating: /content/drive/My Drive/ayush_ranjan_project/Covid19/CT_NonCOVID/227.png  \n",
            "  inflating: /content/drive/My Drive/ayush_ranjan_project/Covid19/CT_NonCOVID/23.png  \n",
            "  inflating: /content/drive/My Drive/ayush_ranjan_project/Covid19/CT_NonCOVID/2341.png  \n",
            "  inflating: /content/drive/My Drive/ayush_ranjan_project/Covid19/CT_NonCOVID/24.png  \n",
            "  inflating: /content/drive/My Drive/ayush_ranjan_project/Covid19/CT_NonCOVID/25%0.jpg  \n",
            "  inflating: /content/drive/My Drive/ayush_ranjan_project/Covid19/CT_NonCOVID/25%1.jpg  \n",
            "  inflating: /content/drive/My Drive/ayush_ranjan_project/Covid19/CT_NonCOVID/25%2.jpg  \n",
            "  inflating: /content/drive/My Drive/ayush_ranjan_project/Covid19/CT_NonCOVID/25%3.jpg  \n",
            "  inflating: /content/drive/My Drive/ayush_ranjan_project/Covid19/CT_NonCOVID/25.png  \n",
            "  inflating: /content/drive/My Drive/ayush_ranjan_project/Covid19/CT_NonCOVID/26%0.jpg  \n",
            "  inflating: /content/drive/My Drive/ayush_ranjan_project/Covid19/CT_NonCOVID/26%1.jpg  \n",
            "  inflating: /content/drive/My Drive/ayush_ranjan_project/Covid19/CT_NonCOVID/26%2.jpg  \n",
            "  inflating: /content/drive/My Drive/ayush_ranjan_project/Covid19/CT_NonCOVID/26%3.jpg  \n",
            "  inflating: /content/drive/My Drive/ayush_ranjan_project/Covid19/CT_NonCOVID/26.png  \n",
            "  inflating: /content/drive/My Drive/ayush_ranjan_project/Covid19/CT_NonCOVID/27.jpg  \n",
            "  inflating: /content/drive/My Drive/ayush_ranjan_project/Covid19/CT_NonCOVID/28.jpg  \n",
            "  inflating: /content/drive/My Drive/ayush_ranjan_project/Covid19/CT_NonCOVID/29%0.jpg  \n",
            "  inflating: /content/drive/My Drive/ayush_ranjan_project/Covid19/CT_NonCOVID/29%1.jpg  \n",
            "  inflating: /content/drive/My Drive/ayush_ranjan_project/Covid19/CT_NonCOVID/29%2.jpg  \n",
            "  inflating: /content/drive/My Drive/ayush_ranjan_project/Covid19/CT_NonCOVID/29%3.jpg  \n",
            "  inflating: /content/drive/My Drive/ayush_ranjan_project/Covid19/CT_NonCOVID/294.png  \n",
            "  inflating: /content/drive/My Drive/ayush_ranjan_project/Covid19/CT_NonCOVID/3.jpg  \n",
            "  inflating: /content/drive/My Drive/ayush_ranjan_project/Covid19/CT_NonCOVID/30%0.jpg  \n",
            "  inflating: /content/drive/My Drive/ayush_ranjan_project/Covid19/CT_NonCOVID/30%1.jpg  \n",
            "  inflating: /content/drive/My Drive/ayush_ranjan_project/Covid19/CT_NonCOVID/30%2.jpg  \n",
            "  inflating: /content/drive/My Drive/ayush_ranjan_project/Covid19/CT_NonCOVID/30%3.jpg  \n",
            "  inflating: /content/drive/My Drive/ayush_ranjan_project/Covid19/CT_NonCOVID/30%4.jpg  \n",
            "  inflating: /content/drive/My Drive/ayush_ranjan_project/Covid19/CT_NonCOVID/30%5.jpg  \n",
            "  inflating: /content/drive/My Drive/ayush_ranjan_project/Covid19/CT_NonCOVID/31.jpg  \n",
            "  inflating: /content/drive/My Drive/ayush_ranjan_project/Covid19/CT_NonCOVID/32%0.jpg  \n",
            "  inflating: /content/drive/My Drive/ayush_ranjan_project/Covid19/CT_NonCOVID/32%1.jpg  \n",
            "  inflating: /content/drive/My Drive/ayush_ranjan_project/Covid19/CT_NonCOVID/33%0.jpg  \n",
            "  inflating: /content/drive/My Drive/ayush_ranjan_project/Covid19/CT_NonCOVID/33%1.jpg  \n",
            "  inflating: /content/drive/My Drive/ayush_ranjan_project/Covid19/CT_NonCOVID/33.png  \n",
            "  inflating: /content/drive/My Drive/ayush_ranjan_project/Covid19/CT_NonCOVID/34.jpg  \n",
            "  inflating: /content/drive/My Drive/ayush_ranjan_project/Covid19/CT_NonCOVID/35%0.jpg  \n",
            "  inflating: /content/drive/My Drive/ayush_ranjan_project/Covid19/CT_NonCOVID/35%1.jpg  \n",
            "  inflating: /content/drive/My Drive/ayush_ranjan_project/Covid19/CT_NonCOVID/35%2.jpg  \n",
            "  inflating: /content/drive/My Drive/ayush_ranjan_project/Covid19/CT_NonCOVID/354.png  \n",
            "  inflating: /content/drive/My Drive/ayush_ranjan_project/Covid19/CT_NonCOVID/36%0.jpg  \n",
            "  inflating: /content/drive/My Drive/ayush_ranjan_project/Covid19/CT_NonCOVID/36%1.jpg  \n",
            "  inflating: /content/drive/My Drive/ayush_ranjan_project/Covid19/CT_NonCOVID/361.png  \n",
            "  inflating: /content/drive/My Drive/ayush_ranjan_project/Covid19/CT_NonCOVID/37%0.jpg  \n",
            "  inflating: /content/drive/My Drive/ayush_ranjan_project/Covid19/CT_NonCOVID/37%1.jpg  \n",
            "  inflating: /content/drive/My Drive/ayush_ranjan_project/Covid19/CT_NonCOVID/37%2.jpg  \n",
            "  inflating: /content/drive/My Drive/ayush_ranjan_project/Covid19/CT_NonCOVID/37%3.jpg  \n",
            "  inflating: /content/drive/My Drive/ayush_ranjan_project/Covid19/CT_NonCOVID/37%4.jpg  \n",
            "  inflating: /content/drive/My Drive/ayush_ranjan_project/Covid19/CT_NonCOVID/378.png  \n",
            "  inflating: /content/drive/My Drive/ayush_ranjan_project/Covid19/CT_NonCOVID/38%0.jpg  \n",
            "  inflating: /content/drive/My Drive/ayush_ranjan_project/Covid19/CT_NonCOVID/38%1.jpg  \n",
            "  inflating: /content/drive/My Drive/ayush_ranjan_project/Covid19/CT_NonCOVID/38%2.jpg  \n",
            "  inflating: /content/drive/My Drive/ayush_ranjan_project/Covid19/CT_NonCOVID/381.png  \n",
            "  inflating: /content/drive/My Drive/ayush_ranjan_project/Covid19/CT_NonCOVID/382.png  \n",
            "  inflating: /content/drive/My Drive/ayush_ranjan_project/Covid19/CT_NonCOVID/383.png  \n",
            "  inflating: /content/drive/My Drive/ayush_ranjan_project/Covid19/CT_NonCOVID/385.png  \n",
            "  inflating: /content/drive/My Drive/ayush_ranjan_project/Covid19/CT_NonCOVID/39%0.jpg  \n",
            "  inflating: /content/drive/My Drive/ayush_ranjan_project/Covid19/CT_NonCOVID/39%1.jpg  \n",
            "  inflating: /content/drive/My Drive/ayush_ranjan_project/Covid19/CT_NonCOVID/39%2.jpg  \n",
            "  inflating: /content/drive/My Drive/ayush_ranjan_project/Covid19/CT_NonCOVID/39%3.jpg  \n",
            "  inflating: /content/drive/My Drive/ayush_ranjan_project/Covid19/CT_NonCOVID/39%4.jpg  \n",
            "  inflating: /content/drive/My Drive/ayush_ranjan_project/Covid19/CT_NonCOVID/39%5.jpg  \n",
            "  inflating: /content/drive/My Drive/ayush_ranjan_project/Covid19/CT_NonCOVID/39%6.jpg  \n",
            "  inflating: /content/drive/My Drive/ayush_ranjan_project/Covid19/CT_NonCOVID/39%7.jpg  \n",
            "  inflating: /content/drive/My Drive/ayush_ranjan_project/Covid19/CT_NonCOVID/39%8.jpg  \n",
            "  inflating: /content/drive/My Drive/ayush_ranjan_project/Covid19/CT_NonCOVID/4%1.jpg  \n",
            "  inflating: /content/drive/My Drive/ayush_ranjan_project/Covid19/CT_NonCOVID/4%3.jpg  \n",
            "  inflating: /content/drive/My Drive/ayush_ranjan_project/Covid19/CT_NonCOVID/4%5.jpg  \n",
            "  inflating: /content/drive/My Drive/ayush_ranjan_project/Covid19/CT_NonCOVID/4%7.jpg  \n",
            "  inflating: /content/drive/My Drive/ayush_ranjan_project/Covid19/CT_NonCOVID/40%0.jpg  \n",
            "  inflating: /content/drive/My Drive/ayush_ranjan_project/Covid19/CT_NonCOVID/40%1.jpg  \n",
            "  inflating: /content/drive/My Drive/ayush_ranjan_project/Covid19/CT_NonCOVID/41.jpg  \n",
            "  inflating: /content/drive/My Drive/ayush_ranjan_project/Covid19/CT_NonCOVID/412.png  \n",
            "  inflating: /content/drive/My Drive/ayush_ranjan_project/Covid19/CT_NonCOVID/413.png  \n",
            "  inflating: /content/drive/My Drive/ayush_ranjan_project/Covid19/CT_NonCOVID/414.png  \n",
            "  inflating: /content/drive/My Drive/ayush_ranjan_project/Covid19/CT_NonCOVID/42.jpg  \n",
            "  inflating: /content/drive/My Drive/ayush_ranjan_project/Covid19/CT_NonCOVID/43%1.jpg  \n",
            "  inflating: /content/drive/My Drive/ayush_ranjan_project/Covid19/CT_NonCOVID/43%2.jpg  \n",
            "  inflating: /content/drive/My Drive/ayush_ranjan_project/Covid19/CT_NonCOVID/43%3.jpg  \n",
            "  inflating: /content/drive/My Drive/ayush_ranjan_project/Covid19/CT_NonCOVID/43.png  \n",
            "  inflating: /content/drive/My Drive/ayush_ranjan_project/Covid19/CT_NonCOVID/44%0.jpg  \n",
            "  inflating: /content/drive/My Drive/ayush_ranjan_project/Covid19/CT_NonCOVID/44%1.jpg  \n",
            "  inflating: /content/drive/My Drive/ayush_ranjan_project/Covid19/CT_NonCOVID/44.png  \n",
            "  inflating: /content/drive/My Drive/ayush_ranjan_project/Covid19/CT_NonCOVID/45.jpg  \n",
            "  inflating: /content/drive/My Drive/ayush_ranjan_project/Covid19/CT_NonCOVID/452.png  \n",
            "  inflating: /content/drive/My Drive/ayush_ranjan_project/Covid19/CT_NonCOVID/46.jpg  \n",
            "  inflating: /content/drive/My Drive/ayush_ranjan_project/Covid19/CT_NonCOVID/47.jpg  \n",
            "  inflating: /content/drive/My Drive/ayush_ranjan_project/Covid19/CT_NonCOVID/48.jpg  \n",
            "  inflating: /content/drive/My Drive/ayush_ranjan_project/Covid19/CT_NonCOVID/486.png  \n",
            "  inflating: /content/drive/My Drive/ayush_ranjan_project/Covid19/CT_NonCOVID/487.png  \n",
            "  inflating: /content/drive/My Drive/ayush_ranjan_project/Covid19/CT_NonCOVID/49%0.jpg  \n",
            "  inflating: /content/drive/My Drive/ayush_ranjan_project/Covid19/CT_NonCOVID/49%1.jpg  \n",
            "  inflating: /content/drive/My Drive/ayush_ranjan_project/Covid19/CT_NonCOVID/5%0.jpg  \n",
            "  inflating: /content/drive/My Drive/ayush_ranjan_project/Covid19/CT_NonCOVID/5%1.jpg  \n",
            "  inflating: /content/drive/My Drive/ayush_ranjan_project/Covid19/CT_NonCOVID/5%2.jpg  \n",
            "  inflating: /content/drive/My Drive/ayush_ranjan_project/Covid19/CT_NonCOVID/5%3.jpg  \n",
            "  inflating: /content/drive/My Drive/ayush_ranjan_project/Covid19/CT_NonCOVID/5%4.jpg  \n",
            "  inflating: /content/drive/My Drive/ayush_ranjan_project/Covid19/CT_NonCOVID/5%5.jpg  \n",
            "  inflating: /content/drive/My Drive/ayush_ranjan_project/Covid19/CT_NonCOVID/5%6.jpg  \n",
            "  inflating: /content/drive/My Drive/ayush_ranjan_project/Covid19/CT_NonCOVID/5%7.jpg  \n",
            "  inflating: /content/drive/My Drive/ayush_ranjan_project/Covid19/CT_NonCOVID/50.jpg  \n",
            "  inflating: /content/drive/My Drive/ayush_ranjan_project/Covid19/CT_NonCOVID/51%0.jpg  \n",
            "  inflating: /content/drive/My Drive/ayush_ranjan_project/Covid19/CT_NonCOVID/51%1.jpg  \n",
            "  inflating: /content/drive/My Drive/ayush_ranjan_project/Covid19/CT_NonCOVID/51%2.jpg  \n",
            "  inflating: /content/drive/My Drive/ayush_ranjan_project/Covid19/CT_NonCOVID/51%3.jpg  \n",
            "  inflating: /content/drive/My Drive/ayush_ranjan_project/Covid19/CT_NonCOVID/52%0.jpg  \n",
            "  inflating: /content/drive/My Drive/ayush_ranjan_project/Covid19/CT_NonCOVID/52%1.jpg  \n",
            "  inflating: /content/drive/My Drive/ayush_ranjan_project/Covid19/CT_NonCOVID/53.jpg  \n",
            "  inflating: /content/drive/My Drive/ayush_ranjan_project/Covid19/CT_NonCOVID/54%0.jpg  \n",
            "  inflating: /content/drive/My Drive/ayush_ranjan_project/Covid19/CT_NonCOVID/54%1.jpg  \n",
            "  inflating: /content/drive/My Drive/ayush_ranjan_project/Covid19/CT_NonCOVID/54%2.jpg  \n",
            "  inflating: /content/drive/My Drive/ayush_ranjan_project/Covid19/CT_NonCOVID/54%3.jpg  \n",
            "  inflating: /content/drive/My Drive/ayush_ranjan_project/Covid19/CT_NonCOVID/56%0.jpg  \n",
            "  inflating: /content/drive/My Drive/ayush_ranjan_project/Covid19/CT_NonCOVID/56%1.jpg  \n",
            "  inflating: /content/drive/My Drive/ayush_ranjan_project/Covid19/CT_NonCOVID/57%0.jpg  \n",
            "  inflating: /content/drive/My Drive/ayush_ranjan_project/Covid19/CT_NonCOVID/575.png  \n",
            "  inflating: /content/drive/My Drive/ayush_ranjan_project/Covid19/CT_NonCOVID/576.png  \n",
            "  inflating: /content/drive/My Drive/ayush_ranjan_project/Covid19/CT_NonCOVID/577.png  \n",
            "  inflating: /content/drive/My Drive/ayush_ranjan_project/Covid19/CT_NonCOVID/578.png  \n",
            "  inflating: /content/drive/My Drive/ayush_ranjan_project/Covid19/CT_NonCOVID/579.png  \n",
            "  inflating: /content/drive/My Drive/ayush_ranjan_project/Covid19/CT_NonCOVID/580.png  \n",
            "  inflating: /content/drive/My Drive/ayush_ranjan_project/Covid19/CT_NonCOVID/583.png  \n",
            "  inflating: /content/drive/My Drive/ayush_ranjan_project/Covid19/CT_NonCOVID/584.png  \n",
            "  inflating: /content/drive/My Drive/ayush_ranjan_project/Covid19/CT_NonCOVID/585.png  \n",
            "  inflating: /content/drive/My Drive/ayush_ranjan_project/Covid19/CT_NonCOVID/586.png  \n",
            "  inflating: /content/drive/My Drive/ayush_ranjan_project/Covid19/CT_NonCOVID/587.png  \n",
            "  inflating: /content/drive/My Drive/ayush_ranjan_project/Covid19/CT_NonCOVID/59%0.jpg  \n",
            "  inflating: /content/drive/My Drive/ayush_ranjan_project/Covid19/CT_NonCOVID/59.png  \n",
            "  inflating: /content/drive/My Drive/ayush_ranjan_project/Covid19/CT_NonCOVID/590.png  \n",
            "  inflating: /content/drive/My Drive/ayush_ranjan_project/Covid19/CT_NonCOVID/591.png  \n",
            "  inflating: /content/drive/My Drive/ayush_ranjan_project/Covid19/CT_NonCOVID/592.png  \n",
            "  inflating: /content/drive/My Drive/ayush_ranjan_project/Covid19/CT_NonCOVID/6%0.jpg  \n",
            "  inflating: /content/drive/My Drive/ayush_ranjan_project/Covid19/CT_NonCOVID/6%1.jpg  \n",
            "  inflating: /content/drive/My Drive/ayush_ranjan_project/Covid19/CT_NonCOVID/6%2.jpg  \n",
            "  inflating: /content/drive/My Drive/ayush_ranjan_project/Covid19/CT_NonCOVID/6%3.jpg  \n",
            "  inflating: /content/drive/My Drive/ayush_ranjan_project/Covid19/CT_NonCOVID/60.jpg  \n",
            "  inflating: /content/drive/My Drive/ayush_ranjan_project/Covid19/CT_NonCOVID/62.jpg  \n",
            "  inflating: /content/drive/My Drive/ayush_ranjan_project/Covid19/CT_NonCOVID/63%0.jpg  \n",
            "  inflating: /content/drive/My Drive/ayush_ranjan_project/Covid19/CT_NonCOVID/63%1.jpg  \n",
            "  inflating: /content/drive/My Drive/ayush_ranjan_project/Covid19/CT_NonCOVID/63%2.jpg  \n",
            "  inflating: /content/drive/My Drive/ayush_ranjan_project/Covid19/CT_NonCOVID/63%3.jpg  \n",
            "  inflating: /content/drive/My Drive/ayush_ranjan_project/Covid19/CT_NonCOVID/63%4.jpg  \n",
            "  inflating: /content/drive/My Drive/ayush_ranjan_project/Covid19/CT_NonCOVID/63%5.jpg  \n",
            "  inflating: /content/drive/My Drive/ayush_ranjan_project/Covid19/CT_NonCOVID/63%6.jpg  \n",
            "  inflating: /content/drive/My Drive/ayush_ranjan_project/Covid19/CT_NonCOVID/63%7.jpg  \n",
            "  inflating: /content/drive/My Drive/ayush_ranjan_project/Covid19/CT_NonCOVID/64.jpg  \n",
            "  inflating: /content/drive/My Drive/ayush_ranjan_project/Covid19/CT_NonCOVID/65%0.jpg  \n",
            "  inflating: /content/drive/My Drive/ayush_ranjan_project/Covid19/CT_NonCOVID/65%1.jpg  \n",
            "  inflating: /content/drive/My Drive/ayush_ranjan_project/Covid19/CT_NonCOVID/65%2.jpg  \n",
            "  inflating: /content/drive/My Drive/ayush_ranjan_project/Covid19/CT_NonCOVID/65%3.jpg  \n",
            "  inflating: /content/drive/My Drive/ayush_ranjan_project/Covid19/CT_NonCOVID/65%4.jpg  \n",
            "  inflating: /content/drive/My Drive/ayush_ranjan_project/Covid19/CT_NonCOVID/658.png  \n",
            "  inflating: /content/drive/My Drive/ayush_ranjan_project/Covid19/CT_NonCOVID/66.jpg  \n",
            "  inflating: /content/drive/My Drive/ayush_ranjan_project/Covid19/CT_NonCOVID/660.png  \n",
            "  inflating: /content/drive/My Drive/ayush_ranjan_project/Covid19/CT_NonCOVID/661.png  \n",
            "  inflating: /content/drive/My Drive/ayush_ranjan_project/Covid19/CT_NonCOVID/662.png  \n",
            "  inflating: /content/drive/My Drive/ayush_ranjan_project/Covid19/CT_NonCOVID/663.png  \n",
            "  inflating: /content/drive/My Drive/ayush_ranjan_project/Covid19/CT_NonCOVID/67%0.jpg  \n",
            "  inflating: /content/drive/My Drive/ayush_ranjan_project/Covid19/CT_NonCOVID/67%1.jpg  \n",
            "  inflating: /content/drive/My Drive/ayush_ranjan_project/Covid19/CT_NonCOVID/67%2.jpg  \n",
            "  inflating: /content/drive/My Drive/ayush_ranjan_project/Covid19/CT_NonCOVID/672.png  \n",
            "  inflating: /content/drive/My Drive/ayush_ranjan_project/Covid19/CT_NonCOVID/673.png  \n",
            "  inflating: /content/drive/My Drive/ayush_ranjan_project/Covid19/CT_NonCOVID/68.jpg  \n",
            "  inflating: /content/drive/My Drive/ayush_ranjan_project/Covid19/CT_NonCOVID/69%0.jpg  \n",
            "  inflating: /content/drive/My Drive/ayush_ranjan_project/Covid19/CT_NonCOVID/69%1.jpg  \n",
            "  inflating: /content/drive/My Drive/ayush_ranjan_project/Covid19/CT_NonCOVID/7.jpg  \n",
            "  inflating: /content/drive/My Drive/ayush_ranjan_project/Covid19/CT_NonCOVID/70%0.jpg  \n",
            "  inflating: /content/drive/My Drive/ayush_ranjan_project/Covid19/CT_NonCOVID/70%1.jpg  \n",
            "  inflating: /content/drive/My Drive/ayush_ranjan_project/Covid19/CT_NonCOVID/704.png  \n",
            "  inflating: /content/drive/My Drive/ayush_ranjan_project/Covid19/CT_NonCOVID/705.png  \n",
            "  inflating: /content/drive/My Drive/ayush_ranjan_project/Covid19/CT_NonCOVID/706.png  \n",
            "  inflating: /content/drive/My Drive/ayush_ranjan_project/Covid19/CT_NonCOVID/709.png  \n",
            "  inflating: /content/drive/My Drive/ayush_ranjan_project/Covid19/CT_NonCOVID/71%0.jpg  \n",
            "  inflating: /content/drive/My Drive/ayush_ranjan_project/Covid19/CT_NonCOVID/71%1.jpg  \n",
            "  inflating: /content/drive/My Drive/ayush_ranjan_project/Covid19/CT_NonCOVID/72.jpg  \n",
            "  inflating: /content/drive/My Drive/ayush_ranjan_project/Covid19/CT_NonCOVID/73.jpg  \n",
            "  inflating: /content/drive/My Drive/ayush_ranjan_project/Covid19/CT_NonCOVID/74.jpg  \n",
            "  inflating: /content/drive/My Drive/ayush_ranjan_project/Covid19/CT_NonCOVID/75%0.jpg  \n",
            "  inflating: /content/drive/My Drive/ayush_ranjan_project/Covid19/CT_NonCOVID/75%1.jpg  \n",
            "  inflating: /content/drive/My Drive/ayush_ranjan_project/Covid19/CT_NonCOVID/753.png  \n",
            "  inflating: /content/drive/My Drive/ayush_ranjan_project/Covid19/CT_NonCOVID/754.png  \n",
            "  inflating: /content/drive/My Drive/ayush_ranjan_project/Covid19/CT_NonCOVID/76%0.jpg  \n",
            "  inflating: /content/drive/My Drive/ayush_ranjan_project/Covid19/CT_NonCOVID/76%1.jpg  \n",
            "  inflating: /content/drive/My Drive/ayush_ranjan_project/Covid19/CT_NonCOVID/76%2.jpg  \n",
            "  inflating: /content/drive/My Drive/ayush_ranjan_project/Covid19/CT_NonCOVID/77.jpg  \n",
            "  inflating: /content/drive/My Drive/ayush_ranjan_project/Covid19/CT_NonCOVID/78.jpg  \n",
            "  inflating: /content/drive/My Drive/ayush_ranjan_project/Covid19/CT_NonCOVID/781.png  \n",
            "  inflating: /content/drive/My Drive/ayush_ranjan_project/Covid19/CT_NonCOVID/782.png  \n",
            "  inflating: /content/drive/My Drive/ayush_ranjan_project/Covid19/CT_NonCOVID/79.jpg  \n",
            "  inflating: /content/drive/My Drive/ayush_ranjan_project/Covid19/CT_NonCOVID/8.jpg  \n",
            "  inflating: /content/drive/My Drive/ayush_ranjan_project/Covid19/CT_NonCOVID/80%0.jpg  \n",
            "  inflating: /content/drive/My Drive/ayush_ranjan_project/Covid19/CT_NonCOVID/80%1.jpg  \n",
            "  inflating: /content/drive/My Drive/ayush_ranjan_project/Covid19/CT_NonCOVID/81%0.jpg  \n",
            "  inflating: /content/drive/My Drive/ayush_ranjan_project/Covid19/CT_NonCOVID/81%1.jpg  \n",
            "  inflating: /content/drive/My Drive/ayush_ranjan_project/Covid19/CT_NonCOVID/81%2.jpg  \n",
            "  inflating: /content/drive/My Drive/ayush_ranjan_project/Covid19/CT_NonCOVID/81%3.jpg  \n",
            "  inflating: /content/drive/My Drive/ayush_ranjan_project/Covid19/CT_NonCOVID/81.png  \n",
            "  inflating: /content/drive/My Drive/ayush_ranjan_project/Covid19/CT_NonCOVID/82%0.jpg  \n",
            "  inflating: /content/drive/My Drive/ayush_ranjan_project/Covid19/CT_NonCOVID/82%1.jpg  \n",
            "  inflating: /content/drive/My Drive/ayush_ranjan_project/Covid19/CT_NonCOVID/82%2.jpg  \n",
            "  inflating: /content/drive/My Drive/ayush_ranjan_project/Covid19/CT_NonCOVID/82%3.jpg  \n",
            "  inflating: /content/drive/My Drive/ayush_ranjan_project/Covid19/CT_NonCOVID/82.png  \n",
            "  inflating: /content/drive/My Drive/ayush_ranjan_project/Covid19/CT_NonCOVID/83%0.jpg  \n",
            "  inflating: /content/drive/My Drive/ayush_ranjan_project/Covid19/CT_NonCOVID/83%1.jpg  \n",
            "  inflating: /content/drive/My Drive/ayush_ranjan_project/Covid19/CT_NonCOVID/83%2.jpg  \n",
            "  inflating: /content/drive/My Drive/ayush_ranjan_project/Covid19/CT_NonCOVID/83%3.jpg  \n",
            "  inflating: /content/drive/My Drive/ayush_ranjan_project/Covid19/CT_NonCOVID/84%0.jpg  \n",
            "  inflating: /content/drive/My Drive/ayush_ranjan_project/Covid19/CT_NonCOVID/84%1.jpg  \n",
            "  inflating: /content/drive/My Drive/ayush_ranjan_project/Covid19/CT_NonCOVID/84%2.jpg  \n",
            "  inflating: /content/drive/My Drive/ayush_ranjan_project/Covid19/CT_NonCOVID/84%3.jpg  \n",
            "  inflating: /content/drive/My Drive/ayush_ranjan_project/Covid19/CT_NonCOVID/848.png  \n",
            "  inflating: /content/drive/My Drive/ayush_ranjan_project/Covid19/CT_NonCOVID/849.png  \n",
            "  inflating: /content/drive/My Drive/ayush_ranjan_project/Covid19/CT_NonCOVID/85%0.jpg  \n",
            "  inflating: /content/drive/My Drive/ayush_ranjan_project/Covid19/CT_NonCOVID/85%1.jpg  \n",
            "  inflating: /content/drive/My Drive/ayush_ranjan_project/Covid19/CT_NonCOVID/86.jpg  \n",
            "  inflating: /content/drive/My Drive/ayush_ranjan_project/Covid19/CT_NonCOVID/88.jpg  \n",
            "  inflating: /content/drive/My Drive/ayush_ranjan_project/Covid19/CT_NonCOVID/887.png  \n",
            "  inflating: /content/drive/My Drive/ayush_ranjan_project/Covid19/CT_NonCOVID/889.png  \n",
            "  inflating: /content/drive/My Drive/ayush_ranjan_project/Covid19/CT_NonCOVID/89%2.jpg  \n",
            "  inflating: /content/drive/My Drive/ayush_ranjan_project/Covid19/CT_NonCOVID/89%3.jpg  \n",
            "  inflating: /content/drive/My Drive/ayush_ranjan_project/Covid19/CT_NonCOVID/890.png  \n",
            "  inflating: /content/drive/My Drive/ayush_ranjan_project/Covid19/CT_NonCOVID/9.jpg  \n",
            "  inflating: /content/drive/My Drive/ayush_ranjan_project/Covid19/CT_NonCOVID/90.jpg  \n",
            "  inflating: /content/drive/My Drive/ayush_ranjan_project/Covid19/CT_NonCOVID/91%0.jpg  \n",
            "  inflating: /content/drive/My Drive/ayush_ranjan_project/Covid19/CT_NonCOVID/91%1.jpg  \n",
            "  inflating: /content/drive/My Drive/ayush_ranjan_project/Covid19/CT_NonCOVID/921.png  \n",
            "  inflating: /content/drive/My Drive/ayush_ranjan_project/Covid19/CT_NonCOVID/956.png  \n",
            "  inflating: /content/drive/My Drive/ayush_ranjan_project/Covid19/CT_NonCOVID/957.png  \n",
            "  inflating: /content/drive/My Drive/ayush_ranjan_project/Covid19/CT_NonCOVID/969.png  \n",
            "  inflating: /content/drive/My Drive/ayush_ranjan_project/Covid19/CT_NonCOVID/996.png  \n",
            "  inflating: /content/drive/My Drive/ayush_ranjan_project/Covid19/CT_NonCOVID/997.png  \n"
          ],
          "name": "stdout"
        }
      ]
    },
    {
      "cell_type": "code",
      "metadata": {
        "id": "udJO2O-2fkpF",
        "colab_type": "code",
        "colab": {}
      },
      "source": [
        "corona_patients = '/content/drive/My Drive/ayush_ranjan_project/Covid19/CT_COVID'"
      ],
      "execution_count": 0,
      "outputs": []
    },
    {
      "cell_type": "code",
      "metadata": {
        "id": "HoBWleT58kjy",
        "colab_type": "code",
        "colab": {}
      },
      "source": [
        "non_corona_patients = '/content/drive/My Drive/ayush_ranjan_project/Covid19/CT_NonCOVID'"
      ],
      "execution_count": 0,
      "outputs": []
    },
    {
      "cell_type": "code",
      "metadata": {
        "id": "yT1pTXQF8pgb",
        "colab_type": "code",
        "colab": {}
      },
      "source": [
        "import os \n",
        "# Let's create a directory wherer we will copy the images into train .test and validation.\n",
        "base_dir = '/content/drive/My Drive/ayush_ranjan_project/Covid19/Dataset'\n",
        "os.mkdir(base_dir)"
      ],
      "execution_count": 0,
      "outputs": []
    },
    {
      "cell_type": "code",
      "metadata": {
        "id": "yeNo10Ga87P7",
        "colab_type": "code",
        "colab": {}
      },
      "source": [
        "#Now let's create the sub directories inside our main directory \n",
        "train_dir = os.path.join(base_dir, 'train')\n",
        "os.mkdir(train_dir)\n",
        "validation_dir = os.path.join(base_dir, 'validation')\n",
        "os.mkdir(validation_dir)\n",
        "test_dir = os.path.join(base_dir, 'test')\n",
        "os.mkdir(test_dir)"
      ],
      "execution_count": 0,
      "outputs": []
    },
    {
      "cell_type": "code",
      "metadata": {
        "id": "c2DUycGg9ZI5",
        "colab_type": "code",
        "colab": {}
      },
      "source": [
        "#Now let's create the subfolders inside the subfolder ...Let's start with the train directory \n",
        "train_corona_positive_dir = os.path.join(train_dir, 'corona positive')\n",
        "os.mkdir(train_corona_positive_dir)\n",
        "train_corona_negative_dir = os.path.join(train_dir, 'corona_negative')\n",
        "os.mkdir(train_corona_negative_dir)"
      ],
      "execution_count": 0,
      "outputs": []
    },
    {
      "cell_type": "code",
      "metadata": {
        "id": "9SldWvLP984E",
        "colab_type": "code",
        "colab": {}
      },
      "source": [
        "#Now the validation directory \n",
        "valid_corona_positive_dir = os.path.join(validation_dir, 'corona positive')\n",
        "os.mkdir(valid_corona_positive_dir)\n",
        "valid_corona_negative_dir = os.path.join(validation_dir, 'corona_negative')\n",
        "os.mkdir(valid_corona_negative_dir)"
      ],
      "execution_count": 0,
      "outputs": []
    },
    {
      "cell_type": "code",
      "metadata": {
        "id": "ouiyTTsA-SFV",
        "colab_type": "code",
        "colab": {}
      },
      "source": [
        "#Now the test directory \n",
        "test_corona_positive_dir = os.path.join(test_dir, 'corona positive')\n",
        "os.mkdir(test_corona_positive_dir)\n",
        "test_corona_negative_dir = os.path.join(test_dir, 'corona_negative')\n",
        "os.mkdir(test_corona_negative_dir)"
      ],
      "execution_count": 0,
      "outputs": []
    },
    {
      "cell_type": "code",
      "metadata": {
        "id": "bHoR7ViX-dkM",
        "colab_type": "code",
        "outputId": "1226d170-ac8d-4cdb-f158-2662bf6783ed",
        "colab": {
          "base_uri": "https://localhost:8080/",
          "height": 34
        }
      },
      "source": [
        "import os \n",
        "len(os.listdir(corona_patients))\n",
        "#So there are 349 images of corona +ve peoples "
      ],
      "execution_count": 0,
      "outputs": [
        {
          "output_type": "execute_result",
          "data": {
            "text/plain": [
              "349"
            ]
          },
          "metadata": {
            "tags": []
          },
          "execution_count": 6
        }
      ]
    },
    {
      "cell_type": "code",
      "metadata": {
        "id": "LaDcY6BuB1DD",
        "colab_type": "code",
        "colab": {}
      },
      "source": [
        "test_positive = '/content/drive/My Drive/ayush_ranjan_project/Covid19/Dataset/test/corona positive'"
      ],
      "execution_count": 0,
      "outputs": []
    },
    {
      "cell_type": "code",
      "metadata": {
        "id": "mUBoEs4BB77n",
        "colab_type": "code",
        "colab": {}
      },
      "source": [
        "train_positive ='/content/drive/My Drive/ayush_ranjan_project/Covid19/Dataset/train/corona positive' "
      ],
      "execution_count": 0,
      "outputs": []
    },
    {
      "cell_type": "code",
      "metadata": {
        "id": "QGiZSdjaCDW6",
        "colab_type": "code",
        "colab": {}
      },
      "source": [
        "valid_positive = '/content/drive/My Drive/ayush_ranjan_project/Covid19/Dataset/validation/corona positive'"
      ],
      "execution_count": 0,
      "outputs": []
    },
    {
      "cell_type": "code",
      "metadata": {
        "id": "7P55KU9SCJpK",
        "colab_type": "code",
        "colab": {}
      },
      "source": [
        "#Now let's start with the basic ...we use 200 images for training , 75 for testing and 75 for validation ."
      ],
      "execution_count": 0,
      "outputs": []
    },
    {
      "cell_type": "code",
      "metadata": {
        "id": "V9JGhwttDcWY",
        "colab_type": "code",
        "colab": {}
      },
      "source": [
        "positive = os.listdir(corona_patients)\n",
        "#now postive is a list containing all the +ve patatient images "
      ],
      "execution_count": 0,
      "outputs": []
    },
    {
      "cell_type": "code",
      "metadata": {
        "id": "tl1q9o42DyMn",
        "colab_type": "code",
        "colab": {}
      },
      "source": [
        "positive_199 =[]\n",
        "for i in range(0,200):\n",
        "  positive_199.append(positive[i])\n"
      ],
      "execution_count": 0,
      "outputs": []
    },
    {
      "cell_type": "code",
      "metadata": {
        "id": "rZqZOGWlEml0",
        "colab_type": "code",
        "outputId": "12c60bae-31a5-45ef-d0d3-94caea373d94",
        "colab": {
          "base_uri": "https://localhost:8080/",
          "height": 34
        }
      },
      "source": [
        "len(positive_199)"
      ],
      "execution_count": 0,
      "outputs": [
        {
          "output_type": "execute_result",
          "data": {
            "text/plain": [
              "200"
            ]
          },
          "metadata": {
            "tags": []
          },
          "execution_count": 13
        }
      ]
    },
    {
      "cell_type": "code",
      "metadata": {
        "id": "phNurNGtEu60",
        "colab_type": "code",
        "colab": {}
      },
      "source": [
        "positive_75 = []\n",
        "for i in range(201,276):\n",
        "  positive_75.append(positive[i])"
      ],
      "execution_count": 0,
      "outputs": []
    },
    {
      "cell_type": "code",
      "metadata": {
        "id": "-PrphXn7FFc4",
        "colab_type": "code",
        "outputId": "033375bc-fdfa-46e7-b502-0a6fdbbd6986",
        "colab": {
          "base_uri": "https://localhost:8080/",
          "height": 34
        }
      },
      "source": [
        "len(positive_75)"
      ],
      "execution_count": 0,
      "outputs": [
        {
          "output_type": "execute_result",
          "data": {
            "text/plain": [
              "75"
            ]
          },
          "metadata": {
            "tags": []
          },
          "execution_count": 16
        }
      ]
    },
    {
      "cell_type": "code",
      "metadata": {
        "id": "osJ-Y6sVFNse",
        "colab_type": "code",
        "colab": {}
      },
      "source": [
        "positive_74 =[]\n",
        "for i in range(276,349):\n",
        "  positive_74.append(positive[i])"
      ],
      "execution_count": 0,
      "outputs": []
    },
    {
      "cell_type": "code",
      "metadata": {
        "id": "GcsMiFQIFflT",
        "colab_type": "code",
        "outputId": "13778aae-e345-4202-eead-089129971fa7",
        "colab": {
          "base_uri": "https://localhost:8080/",
          "height": 34
        }
      },
      "source": [
        "len(positive_74)"
      ],
      "execution_count": 0,
      "outputs": [
        {
          "output_type": "execute_result",
          "data": {
            "text/plain": [
              "73"
            ]
          },
          "metadata": {
            "tags": []
          },
          "execution_count": 23
        }
      ]
    },
    {
      "cell_type": "code",
      "metadata": {
        "id": "8izanb7lGcRX",
        "colab_type": "code",
        "colab": {}
      },
      "source": [
        "import shutil"
      ],
      "execution_count": 0,
      "outputs": []
    },
    {
      "cell_type": "code",
      "metadata": {
        "id": "I20fXrkBF_6N",
        "colab_type": "code",
        "colab": {}
      },
      "source": [
        "for i in positive_199:\n",
        "    src = os.path.join(corona_patients, i)\n",
        "    dst = os.path.join(train_positive, i)\n",
        "    shutil.copyfile(src, dst)\n"
      ],
      "execution_count": 0,
      "outputs": []
    },
    {
      "cell_type": "code",
      "metadata": {
        "id": "4OqAt_47GkkL",
        "colab_type": "code",
        "colab": {}
      },
      "source": [
        "for i in positive_75:\n",
        "    src = os.path.join(corona_patients, i)\n",
        "    dst = os.path.join(valid_positive, i)\n",
        "    shutil.copyfile(src, dst)\n"
      ],
      "execution_count": 0,
      "outputs": []
    },
    {
      "cell_type": "code",
      "metadata": {
        "id": "EzrP7zyfG7dA",
        "colab_type": "code",
        "colab": {}
      },
      "source": [
        "\n",
        "for i in positive_74:\n",
        "    src = os.path.join(corona_patients, i)\n",
        "    dst = os.path.join(test_positive, i)\n",
        "    shutil.copyfile(src, dst)\n"
      ],
      "execution_count": 0,
      "outputs": []
    },
    {
      "cell_type": "code",
      "metadata": {
        "id": "dB8Oqv9_HcE2",
        "colab_type": "code",
        "outputId": "ee905cad-fbd0-4ac2-b1ca-5e61f0694d4f",
        "colab": {
          "base_uri": "https://localhost:8080/",
          "height": 34
        }
      },
      "source": [
        "len(os.listdir(non_corona_patients))"
      ],
      "execution_count": 0,
      "outputs": [
        {
          "output_type": "execute_result",
          "data": {
            "text/plain": [
              "397"
            ]
          },
          "metadata": {
            "tags": []
          },
          "execution_count": 7
        }
      ]
    },
    {
      "cell_type": "code",
      "metadata": {
        "id": "02MPklj_ILU0",
        "colab_type": "code",
        "colab": {}
      },
      "source": [
        "negative = os.listdir(non_corona_patients)"
      ],
      "execution_count": 0,
      "outputs": []
    },
    {
      "cell_type": "code",
      "metadata": {
        "id": "SXpTCDEtHtZk",
        "colab_type": "code",
        "colab": {}
      },
      "source": [
        "test_negative = '/content/drive/My Drive/ayush_ranjan_project/Covid19/Dataset/test/corona_negative '\n",
        "train_negative =' /content/drive/My Drive/ayush_ranjan_project/Covid19/Dataset/train/corona_negative'\n",
        "valid_negative = ' /content/drive/My Drive/ayush_ranjan_project/Covid19/Dataset/validation/corona_negative'"
      ],
      "execution_count": 0,
      "outputs": []
    },
    {
      "cell_type": "code",
      "metadata": {
        "id": "IyOUhHJ2H9Sf",
        "colab_type": "code",
        "colab": {}
      },
      "source": [
        "negative_200 =[]\n",
        "for i in range(0,200):\n",
        "  negative_200.append(negative[i])\n"
      ],
      "execution_count": 0,
      "outputs": []
    },
    {
      "cell_type": "code",
      "metadata": {
        "id": "OpsFL0GmcNin",
        "colab_type": "code",
        "outputId": "4e05cfff-776c-4f77-b923-b0578f148704",
        "colab": {
          "base_uri": "https://localhost:8080/",
          "height": 34
        }
      },
      "source": [
        "negative_200[0]"
      ],
      "execution_count": 0,
      "outputs": [
        {
          "output_type": "execute_result",
          "data": {
            "text/plain": [
              "'709.png'"
            ]
          },
          "metadata": {
            "tags": []
          },
          "execution_count": 15
        }
      ]
    },
    {
      "cell_type": "code",
      "metadata": {
        "id": "Ck52x2Wccv7t",
        "colab_type": "code",
        "outputId": "d6cdf9fd-ac88-4409-aec2-18e9a5d91839",
        "colab": {
          "base_uri": "https://localhost:8080/",
          "height": 34
        }
      },
      "source": [
        "non_corona_patients"
      ],
      "execution_count": 0,
      "outputs": [
        {
          "output_type": "execute_result",
          "data": {
            "text/plain": [
              "'/content/drive/My Drive/ayush_ranjan_project/Covid19/CT_NonCOVID'"
            ]
          },
          "metadata": {
            "tags": []
          },
          "execution_count": 17
        }
      ]
    },
    {
      "cell_type": "code",
      "metadata": {
        "id": "QwGxfG5QcUwL",
        "colab_type": "code",
        "colab": {}
      },
      "source": [
        "for i in negative_200:\n",
        "    src = os.path.join('/content/drive/My Drive/ayush_ranjan_project/Covid19/CT_NonCOVID', i)\n",
        "    dst = os.path.join('/content/drive/My Drive/ayush_ranjan_project/Covid19/Dataset/train/corona_negative', i)\n",
        "    shutil.copyfile(src,dst)\n"
      ],
      "execution_count": 0,
      "outputs": []
    },
    {
      "cell_type": "code",
      "metadata": {
        "id": "2Yqu-WB0IU_C",
        "colab_type": "code",
        "colab": {}
      },
      "source": [
        "negative_99 = []\n",
        "for i in range(201,300):\n",
        "  negative_99.append(negative[i])"
      ],
      "execution_count": 0,
      "outputs": []
    },
    {
      "cell_type": "code",
      "metadata": {
        "id": "SBcc2EUEIzzb",
        "colab_type": "code",
        "outputId": "bd5749fc-9860-4a68-9ab1-85ea253018e7",
        "colab": {
          "base_uri": "https://localhost:8080/",
          "height": 34
        }
      },
      "source": [
        "len(negative_200)"
      ],
      "execution_count": 0,
      "outputs": [
        {
          "output_type": "execute_result",
          "data": {
            "text/plain": [
              "200"
            ]
          },
          "metadata": {
            "tags": []
          },
          "execution_count": 12
        }
      ]
    },
    {
      "cell_type": "code",
      "metadata": {
        "id": "ucWhCgYrfTng",
        "colab_type": "code",
        "colab": {}
      },
      "source": [
        "negative_98 = []\n",
        "for i in range(301,397):\n",
        "  negative_98.append(negative[i])"
      ],
      "execution_count": 0,
      "outputs": []
    },
    {
      "cell_type": "code",
      "metadata": {
        "id": "oSM-WFNLgNxy",
        "colab_type": "code",
        "outputId": "8ef49368-44e2-4295-a60b-2ebe2afdb51e",
        "colab": {
          "base_uri": "https://localhost:8080/",
          "height": 34
        }
      },
      "source": [
        "len(negative_98)"
      ],
      "execution_count": 0,
      "outputs": [
        {
          "output_type": "execute_result",
          "data": {
            "text/plain": [
              "96"
            ]
          },
          "metadata": {
            "tags": []
          },
          "execution_count": 28
        }
      ]
    },
    {
      "cell_type": "code",
      "metadata": {
        "id": "SWvGD_ESSGw0",
        "colab_type": "code",
        "colab": {}
      },
      "source": [
        "import shutil"
      ],
      "execution_count": 0,
      "outputs": []
    },
    {
      "cell_type": "code",
      "metadata": {
        "id": "uQGsAATEJ4YO",
        "colab_type": "code",
        "colab": {}
      },
      "source": [
        "for i in negative_99:\n",
        "    src = os.path.join('/content/drive/My Drive/ayush_ranjan_project/Covid19/CT_NonCOVID', i)\n",
        "    dst = os.path.join('/content/drive/My Drive/ayush_ranjan_project/Covid19/Dataset/validation/corona_negative', i)\n",
        "    shutil.copyfile(src, dst)"
      ],
      "execution_count": 0,
      "outputs": []
    },
    {
      "cell_type": "code",
      "metadata": {
        "id": "THPsu8YQKGtG",
        "colab_type": "code",
        "colab": {}
      },
      "source": [
        "for i in negative_98:\n",
        "    src = os.path.join('/content/drive/My Drive/ayush_ranjan_project/Covid19/CT_NonCOVID', i)\n",
        "    dst = os.path.join('/content/drive/My Drive/ayush_ranjan_project/Covid19/Dataset/test/corona_negative', i)\n",
        "    shutil.copyfile(src, dst)"
      ],
      "execution_count": 0,
      "outputs": []
    },
    {
      "cell_type": "code",
      "metadata": {
        "id": "PTxKhAULiemF",
        "colab_type": "code",
        "colab": {}
      },
      "source": [
        "# HERE WE COMPLETE THE DATASET SPLITTING \n",
        "# Now Let's build a network "
      ],
      "execution_count": 0,
      "outputs": []
    },
    {
      "cell_type": "code",
      "metadata": {
        "id": "u-oyPEjdi_Gu",
        "colab_type": "code",
        "colab": {
          "base_uri": "https://localhost:8080/",
          "height": 34
        },
        "outputId": "2e530035-e110-486e-c1b7-8256bbd34973"
      },
      "source": [
        "from keras import layers\n",
        "from keras import models\n",
        "model = models.Sequential()\n",
        "model.add(layers.Conv2D(32, (3, 3), activation='relu',\n",
        "                        input_shape=(150, 150, 3)))\n",
        "model.add(layers.MaxPooling2D((2, 2)))\n",
        "model.add(layers.Conv2D(64, (3, 3), activation='relu'))\n",
        "model.add(layers.MaxPooling2D((2, 2)))\n",
        "model.add(layers.Conv2D(128, (3, 3), activation='relu'))\n",
        "model.add(layers.MaxPooling2D((2, 2)))\n",
        "model.add(layers.Conv2D(128, (3, 3), activation='relu'))\n",
        "model.add(layers.MaxPooling2D((2, 2)))\n",
        "model.add(layers.Flatten())\n",
        "model.add(layers.Dense(512, activation='relu'))\n",
        "model.add(layers.Dense(1, activation='sigmoid'))\n"
      ],
      "execution_count": 1,
      "outputs": [
        {
          "output_type": "stream",
          "text": [
            "Using TensorFlow backend.\n"
          ],
          "name": "stderr"
        }
      ]
    },
    {
      "cell_type": "code",
      "metadata": {
        "id": "0K_BALWcinUh",
        "colab_type": "code",
        "outputId": "dd6f619b-db5c-4eef-f106-b6de40dd7027",
        "colab": {
          "base_uri": "https://localhost:8080/",
          "height": 527
        }
      },
      "source": [
        "model.summary()"
      ],
      "execution_count": 2,
      "outputs": [
        {
          "output_type": "stream",
          "text": [
            "Model: \"sequential_1\"\n",
            "_________________________________________________________________\n",
            "Layer (type)                 Output Shape              Param #   \n",
            "=================================================================\n",
            "conv2d_1 (Conv2D)            (None, 148, 148, 32)      896       \n",
            "_________________________________________________________________\n",
            "max_pooling2d_1 (MaxPooling2 (None, 74, 74, 32)        0         \n",
            "_________________________________________________________________\n",
            "conv2d_2 (Conv2D)            (None, 72, 72, 64)        18496     \n",
            "_________________________________________________________________\n",
            "max_pooling2d_2 (MaxPooling2 (None, 36, 36, 64)        0         \n",
            "_________________________________________________________________\n",
            "conv2d_3 (Conv2D)            (None, 34, 34, 128)       73856     \n",
            "_________________________________________________________________\n",
            "max_pooling2d_3 (MaxPooling2 (None, 17, 17, 128)       0         \n",
            "_________________________________________________________________\n",
            "conv2d_4 (Conv2D)            (None, 15, 15, 128)       147584    \n",
            "_________________________________________________________________\n",
            "max_pooling2d_4 (MaxPooling2 (None, 7, 7, 128)         0         \n",
            "_________________________________________________________________\n",
            "flatten_1 (Flatten)          (None, 6272)              0         \n",
            "_________________________________________________________________\n",
            "dense_1 (Dense)              (None, 512)               3211776   \n",
            "_________________________________________________________________\n",
            "dense_2 (Dense)              (None, 1)                 513       \n",
            "=================================================================\n",
            "Total params: 3,453,121\n",
            "Trainable params: 3,453,121\n",
            "Non-trainable params: 0\n",
            "_________________________________________________________________\n"
          ],
          "name": "stdout"
        }
      ]
    },
    {
      "cell_type": "code",
      "metadata": {
        "id": "Peuv6f4wjkbK",
        "colab_type": "code",
        "colab": {}
      },
      "source": [
        "from keras import optimizers\n",
        "model.compile(loss='binary_crossentropy',\n",
        "                      optimizer=optimizers.RMSprop(lr=0.001),\n",
        "                      metrics=['acc'])\n"
      ],
      "execution_count": 0,
      "outputs": []
    },
    {
      "cell_type": "code",
      "metadata": {
        "id": "CbMpOuUijsDE",
        "colab_type": "code",
        "colab": {}
      },
      "source": [
        "#  Rescale the pixel values (between 0 and 255) to the [0, 1] interval (as you know,neural networks prefer to deal with small input values).\n",
        "from keras.preprocessing.image import ImageDataGenerator\n",
        "train_datagen = ImageDataGenerator(rescale=1./255)\n",
        "test_datagen = ImageDataGenerator(rescale=1./255)"
      ],
      "execution_count": 0,
      "outputs": []
    },
    {
      "cell_type": "code",
      "metadata": {
        "id": "JFn_EYIFkjFF",
        "colab_type": "code",
        "outputId": "7266db1b-f226-4c00-d339-55d5e0d25df2",
        "colab": {
          "base_uri": "https://localhost:8080/",
          "height": 34
        }
      },
      "source": [
        "train_generator = train_datagen.flow_from_directory('/content/drive/My Drive/ayush_ranjan_project/Covid19/Dataset/train', target_size=(150, 150),\n",
        "                      batch_size=20,\n",
        "                      class_mode='binary')"
      ],
      "execution_count": 5,
      "outputs": [
        {
          "output_type": "stream",
          "text": [
            "Found 400 images belonging to 2 classes.\n"
          ],
          "name": "stdout"
        }
      ]
    },
    {
      "cell_type": "code",
      "metadata": {
        "id": "pRYp1GAglCAI",
        "colab_type": "code",
        "outputId": "b30bf8ff-57a2-452f-9f1d-663ca5a86c67",
        "colab": {
          "base_uri": "https://localhost:8080/",
          "height": 34
        }
      },
      "source": [
        "validation_generator = test_datagen.flow_from_directory(\n",
        "        '/content/drive/My Drive/ayush_ranjan_project/Covid19/Dataset/validation',target_size=(150, 150),\n",
        "        batch_size=20,\n",
        "        class_mode='binary')"
      ],
      "execution_count": 6,
      "outputs": [
        {
          "output_type": "stream",
          "text": [
            "Found 174 images belonging to 2 classes.\n"
          ],
          "name": "stdout"
        }
      ]
    },
    {
      "cell_type": "code",
      "metadata": {
        "id": "uv3TEt1RnsYv",
        "colab_type": "code",
        "outputId": "73259474-9973-40e4-ad21-6ae18cc9856d",
        "colab": {
          "base_uri": "https://localhost:8080/",
          "height": 34
        }
      },
      "source": [
        "import tensorflow as tf\n",
        "tf.test.gpu_device_name()\n"
      ],
      "execution_count": 7,
      "outputs": [
        {
          "output_type": "execute_result",
          "data": {
            "text/plain": [
              "'/device:GPU:0'"
            ]
          },
          "metadata": {
            "tags": []
          },
          "execution_count": 7
        }
      ]
    },
    {
      "cell_type": "code",
      "metadata": {
        "id": "hOjYb8lMlL7a",
        "colab_type": "code",
        "outputId": "9d69b741-2b10-4949-eaaa-ef6ae154ad22",
        "colab": {
          "base_uri": "https://localhost:8080/",
          "height": 377
        }
      },
      "source": [
        "history = model.fit_generator(\n",
        "      train_generator,\n",
        "      steps_per_epoch=100,\n",
        "      epochs=10,\n",
        "      validation_data=validation_generator,\n",
        "      validation_steps=50)"
      ],
      "execution_count": 8,
      "outputs": [
        {
          "output_type": "stream",
          "text": [
            "Epoch 1/10\n",
            "100/100 [==============================] - 353s 4s/step - loss: 0.7215 - acc: 0.5725 - val_loss: 0.6324 - val_acc: 0.7010\n",
            "Epoch 2/10\n",
            "100/100 [==============================] - 15s 152ms/step - loss: 0.5499 - acc: 0.6990 - val_loss: 0.4647 - val_acc: 0.7189\n",
            "Epoch 3/10\n",
            "100/100 [==============================] - 15s 151ms/step - loss: 0.3418 - acc: 0.8375 - val_loss: 0.4989 - val_acc: 0.7670\n",
            "Epoch 4/10\n",
            "100/100 [==============================] - 16s 156ms/step - loss: 0.1865 - acc: 0.9375 - val_loss: 0.6478 - val_acc: 0.7728\n",
            "Epoch 5/10\n",
            "100/100 [==============================] - 15s 150ms/step - loss: 0.1001 - acc: 0.9815 - val_loss: 1.1724 - val_acc: 0.8041\n",
            "Epoch 6/10\n",
            "100/100 [==============================] - 15s 151ms/step - loss: 0.0621 - acc: 0.9875 - val_loss: 2.2043 - val_acc: 0.8112\n",
            "Epoch 7/10\n",
            "100/100 [==============================] - 15s 147ms/step - loss: 1.8685e-04 - acc: 1.0000 - val_loss: 0.9397 - val_acc: 0.7773\n",
            "Epoch 8/10\n",
            "100/100 [==============================] - 15s 151ms/step - loss: 0.0362 - acc: 0.9945 - val_loss: 0.6052 - val_acc: 0.8122\n",
            "Epoch 9/10\n",
            "100/100 [==============================] - 15s 151ms/step - loss: 4.0548e-06 - acc: 1.0000 - val_loss: 1.7325 - val_acc: 0.8039\n",
            "Epoch 10/10\n",
            "100/100 [==============================] - 15s 147ms/step - loss: 1.7913e-08 - acc: 1.0000 - val_loss: 5.1180 - val_acc: 0.8041\n"
          ],
          "name": "stdout"
        }
      ]
    },
    {
      "cell_type": "code",
      "metadata": {
        "id": "DNjAww1qqmcb",
        "colab_type": "code",
        "outputId": "a0c93c24-28d1-45e5-b3a7-e884974e3ed7",
        "colab": {
          "base_uri": "https://localhost:8080/",
          "height": 545
        }
      },
      "source": [
        "import matplotlib.pyplot as plt\n",
        "acc = history.history['acc']\n",
        "val_acc = history.history['val_acc']\n",
        "loss = history.history['loss']\n",
        "val_loss = history.history['val_loss']\n",
        "epochs = range(1, len(acc) + 1)\n",
        "plt.plot(epochs, acc, 'bo', label='Training acc')\n",
        "plt.plot(epochs, val_acc, 'b', label='Validation acc')\n",
        "plt.title('Training and validation accuracy')\n",
        "plt.legend()\n",
        "plt.figure()\n",
        "plt.plot(epochs, loss, 'bo', label='Training loss')\n",
        "plt.plot(epochs, val_loss, 'b', label='Validation loss')\n",
        "plt.title('Training and validation loss')\n",
        "plt.legend()\n",
        "plt.show()"
      ],
      "execution_count": 9,
      "outputs": [
        {
          "output_type": "display_data",
          "data": {
            "image/png": "[encoded data removed]",
            "text/plain": [
              "<Figure size 432x288 with 1 Axes>"
            ]
          },
          "metadata": {
            "tags": [],
            "needs_background": "light"
          }
        },
        {
          "output_type": "display_data",
          "data": {
            "image/png": "[encoded data removed]",
            "text/plain": [
              "<Figure size 432x288 with 1 Axes>"
            ]
          },
          "metadata": {
            "tags": [],
            "needs_background": "light"
          }
        }
      ]
    },
    {
      "cell_type": "code",
      "metadata": {
        "id": "rDnTXsGztd4l",
        "colab_type": "code",
        "colab": {}
      },
      "source": [
        "model.save('corona_virus_1.h5')"
      ],
      "execution_count": 0,
      "outputs": []
    },
    {
      "cell_type": "code",
      "metadata": {
        "id": "VYMgZ-CpulYG",
        "colab_type": "code",
        "outputId": "983f071c-921f-4428-b01e-64fcf19f83b0",
        "colab": {
          "base_uri": "https://localhost:8080/",
          "height": 51
        }
      },
      "source": [
        "\n",
        "test_generator = test_datagen.flow_from_directory(\n",
        "        '/content/drive/My Drive/ayush_ranjan_project/Covid19/Dataset/test',\n",
        "        target_size=(150, 150),\n",
        "        batch_size=20,\n",
        "        class_mode='binary')\n",
        "test_loss, test_acc = model.evaluate_generator(test_generator, steps=50)\n",
        "print('test acc:', test_acc)\n"
      ],
      "execution_count": 11,
      "outputs": [
        {
          "output_type": "stream",
          "text": [
            "Found 169 images belonging to 2 classes.\n",
            "test acc: 0.7269841432571411\n"
          ],
          "name": "stdout"
        }
      ]
    },
    {
      "cell_type": "code",
      "metadata": {
        "id": "HQvgPC05xOn0",
        "colab_type": "code",
        "colab": {}
      },
      "source": [
        "# Now from graph we see that the training accuracy tends to go 100% while validation accuracy remains somewhat 82-23% this is due to overfitting .\n",
        "# validation loss is lowest in 5th epoch and then increases while training loss reaches 0 .\n",
        "# Now let's try data augmentation to tackle overfitting ."
      ],
      "execution_count": 0,
      "outputs": []
    },
    {
      "cell_type": "code",
      "metadata": {
        "id": "wlg7-Fr6yQLm",
        "colab_type": "code",
        "colab": {}
      },
      "source": [
        "datagen = ImageDataGenerator(\n",
        "      rotation_range=40,\n",
        "      width_shift_range=0.2,\n",
        "      height_shift_range=0.2,\n",
        "      shear_range=0.2,\n",
        "      zoom_range=0.2,\n",
        "      horizontal_flip=True,\n",
        "      fill_mode='nearest')\n"
      ],
      "execution_count": 0,
      "outputs": []
    },
    {
      "cell_type": "code",
      "metadata": {
        "id": "D3tKvUQzyi_A",
        "colab_type": "code",
        "colab": {}
      },
      "source": [
        "test_datagen = ImageDataGenerator(rescale=1./255)\n",
        "# validation set  shouldn't be augmented "
      ],
      "execution_count": 0,
      "outputs": []
    },
    {
      "cell_type": "code",
      "metadata": {
        "id": "wJg4eGgJyn45",
        "colab_type": "code",
        "outputId": "481b92a9-cf1c-415b-e522-f8f8f5caba72",
        "colab": {
          "base_uri": "https://localhost:8080/",
          "height": 34
        }
      },
      "source": [
        "train_generator = train_datagen.flow_from_directory('/content/drive/My Drive/ayush_ranjan_project/Covid19/Dataset/train', target_size=(150, 150),\n",
        "                      batch_size=20,\n",
        "                      class_mode='binary')"
      ],
      "execution_count": 14,
      "outputs": [
        {
          "output_type": "stream",
          "text": [
            "Found 400 images belonging to 2 classes.\n"
          ],
          "name": "stdout"
        }
      ]
    },
    {
      "cell_type": "code",
      "metadata": {
        "id": "p_kWwoc-y9Nf",
        "colab_type": "code",
        "outputId": "f2af93c8-389d-4d6d-d119-e8f420634c24",
        "colab": {
          "base_uri": "https://localhost:8080/",
          "height": 377
        }
      },
      "source": [
        "history = model.fit_generator(\n",
        "      train_generator,\n",
        "      steps_per_epoch=100,\n",
        "      epochs=10,\n",
        "      validation_data=validation_generator,\n",
        "      validation_steps=50)"
      ],
      "execution_count": 15,
      "outputs": [
        {
          "output_type": "stream",
          "text": [
            "Epoch 1/10\n",
            "100/100 [==============================] - 16s 164ms/step - loss: 1.7501e-09 - acc: 1.0000 - val_loss: 5.7351 - val_acc: 0.7959\n",
            "Epoch 2/10\n",
            "100/100 [==============================] - 15s 151ms/step - loss: 1.3604e-09 - acc: 1.0000 - val_loss: 0.3892 - val_acc: 0.8050\n",
            "Epoch 3/10\n",
            "100/100 [==============================] - 15s 148ms/step - loss: 1.2076e-09 - acc: 1.0000 - val_loss: 1.7165 - val_acc: 0.7918\n",
            "Epoch 4/10\n",
            "100/100 [==============================] - 15s 146ms/step - loss: 1.4688e-09 - acc: 1.0000 - val_loss: 2.1302 - val_acc: 0.7905\n",
            "Epoch 5/10\n",
            "100/100 [==============================] - 15s 150ms/step - loss: 9.6800e-10 - acc: 1.0000 - val_loss: 2.4126 - val_acc: 0.7969\n",
            "Epoch 6/10\n",
            "100/100 [==============================] - 15s 148ms/step - loss: 1.0297e-09 - acc: 1.0000 - val_loss: 0.9308 - val_acc: 0.7915\n",
            "Epoch 7/10\n",
            "100/100 [==============================] - 15s 149ms/step - loss: 1.1986e-09 - acc: 1.0000 - val_loss: 4.0391 - val_acc: 0.7918\n",
            "Epoch 8/10\n",
            "100/100 [==============================] - 15s 149ms/step - loss: 1.3493e-09 - acc: 1.0000 - val_loss: 2.6289 - val_acc: 0.7863\n",
            "Epoch 9/10\n",
            "100/100 [==============================] - 15s 149ms/step - loss: 1.4802e-09 - acc: 1.0000 - val_loss: 3.4763 - val_acc: 0.7884\n",
            "Epoch 10/10\n",
            "100/100 [==============================] - 15s 146ms/step - loss: 1.2848e-09 - acc: 1.0000 - val_loss: 4.2615 - val_acc: 0.7897\n"
          ],
          "name": "stdout"
        }
      ]
    },
    {
      "cell_type": "code",
      "metadata": {
        "id": "zxAJX6rS0meB",
        "colab_type": "code",
        "outputId": "98a872dc-5180-4429-b293-a0b665fde906",
        "colab": {
          "base_uri": "https://localhost:8080/",
          "height": 545
        }
      },
      "source": [
        "acc = history.history['acc']\n",
        "val_acc = history.history['val_acc']\n",
        "loss = history.history['loss']\n",
        "val_loss = history.history['val_loss']\n",
        "epochs = range(1, len(acc) + 1)\n",
        "plt.plot(epochs, acc, 'bo', label='Training acc')\n",
        "plt.plot(epochs, val_acc, 'b', label='Validation acc')\n",
        "plt.title('Training and validation accuracy')\n",
        "plt.legend()\n",
        "plt.figure()\n",
        "plt.plot(epochs, loss, 'bo', label='Training loss')\n",
        "plt.plot(epochs, val_loss, 'b', label='Validation loss')\n",
        "plt.title('Training and validation loss')\n",
        "plt.legend()\n",
        "plt.show()"
      ],
      "execution_count": 17,
      "outputs": [
        {
          "output_type": "display_data",
          "data": {
            "image/png": "[encoded data removed]",
            "text/plain": [
              "<Figure size 432x288 with 1 Axes>"
            ]
          },
          "metadata": {
            "tags": [],
            "needs_background": "light"
          }
        },
        {
          "output_type": "display_data",
          "data": {
            "image/png": "[encoded data removed]",
            "text/plain": [
              "<Figure size 432x288 with 1 Axes>"
            ]
          },
          "metadata": {
            "tags": [],
            "needs_background": "light"
          }
        }
      ]
    },
    {
      "cell_type": "code",
      "metadata": {
        "id": "WLC5PjfJ0tPP",
        "colab_type": "code",
        "colab": {}
      },
      "source": [
        "# This shows that the overfitting has infact increased . Lets add dropout to remove the overfitting "
      ],
      "execution_count": 0,
      "outputs": []
    },
    {
      "cell_type": "code",
      "metadata": {
        "id": "Lxh6Gjsf0WXN",
        "colab_type": "code",
        "colab": {}
      },
      "source": [
        "model = models.Sequential()\n",
        "model.add(layers.Conv2D(32, (3, 3), activation='relu',\n",
        "                        input_shape=(150, 150, 3)))\n",
        "model.add(layers.MaxPooling2D((2, 2)))\n",
        "model.add(layers.Conv2D(64, (3, 3), activation='relu'))\n",
        "model.add(layers.MaxPooling2D((2, 2)))\n",
        "model.add(layers.Conv2D(128, (3, 3), activation='relu'))\n",
        "model.add(layers.MaxPooling2D((2, 2)))\n",
        "model.add(layers.Conv2D(128, (3, 3), activation='relu'))\n",
        "model.add(layers.MaxPooling2D((2, 2)))\n",
        "model.add(layers.Flatten())\n",
        "model.add(layers.Dropout(0.5))\n",
        "model.add(layers.Dense(512, activation='relu'))\n",
        "model.add(layers.Dense(1, activation='sigmoid'))\n"
      ],
      "execution_count": 0,
      "outputs": []
    },
    {
      "cell_type": "code",
      "metadata": {
        "id": "AZmn2_tS1Aa_",
        "colab_type": "code",
        "colab": {}
      },
      "source": [
        "model.compile(loss='binary_crossentropy',\n",
        "              optimizer=optimizers.RMSprop(lr=0.001),\n",
        "              metrics=['acc'])\n"
      ],
      "execution_count": 0,
      "outputs": []
    },
    {
      "cell_type": "code",
      "metadata": {
        "id": "e1K7NMmGAfcj",
        "colab_type": "code",
        "outputId": "1adccae1-3f70-4fb7-aadb-8914c7d281a9",
        "colab": {
          "base_uri": "https://localhost:8080/",
          "height": 377
        }
      },
      "source": [
        "history = model.fit_generator(\n",
        "      train_generator,\n",
        "      steps_per_epoch=100,\n",
        "      epochs=10,\n",
        "      validation_data=validation_generator,\n",
        "      validation_steps=50)"
      ],
      "execution_count": 20,
      "outputs": [
        {
          "output_type": "stream",
          "text": [
            "Epoch 1/10\n",
            "100/100 [==============================] - 16s 157ms/step - loss: 0.7224 - acc: 0.5590 - val_loss: 0.6395 - val_acc: 0.6897\n",
            "Epoch 2/10\n",
            "100/100 [==============================] - 15s 150ms/step - loss: 0.5744 - acc: 0.6710 - val_loss: 0.5127 - val_acc: 0.7448\n",
            "Epoch 3/10\n",
            "100/100 [==============================] - 15s 148ms/step - loss: 0.4517 - acc: 0.7765 - val_loss: 0.7202 - val_acc: 0.7876\n",
            "Epoch 4/10\n",
            "100/100 [==============================] - 15s 149ms/step - loss: 0.2983 - acc: 0.8605 - val_loss: 0.1916 - val_acc: 0.7521\n",
            "Epoch 5/10\n",
            "100/100 [==============================] - 15s 146ms/step - loss: 0.1872 - acc: 0.9270 - val_loss: 0.5568 - val_acc: 0.8155\n",
            "Epoch 6/10\n",
            "100/100 [==============================] - 15s 154ms/step - loss: 0.1274 - acc: 0.9500 - val_loss: 0.5111 - val_acc: 0.7894\n",
            "Epoch 7/10\n",
            "100/100 [==============================] - 15s 147ms/step - loss: 0.0901 - acc: 0.9695 - val_loss: 1.4161 - val_acc: 0.8021\n",
            "Epoch 8/10\n",
            "100/100 [==============================] - 15s 150ms/step - loss: 0.0736 - acc: 0.9770 - val_loss: 1.0971 - val_acc: 0.7894\n",
            "Epoch 9/10\n",
            "100/100 [==============================] - 15s 146ms/step - loss: 0.0666 - acc: 0.9780 - val_loss: 0.6450 - val_acc: 0.8299\n",
            "Epoch 10/10\n",
            "100/100 [==============================] - 15s 146ms/step - loss: 0.0507 - acc: 0.9845 - val_loss: 0.8350 - val_acc: 0.7969\n"
          ],
          "name": "stdout"
        }
      ]
    },
    {
      "cell_type": "code",
      "metadata": {
        "id": "GuezvUhQ1RnM",
        "colab_type": "code",
        "outputId": "3ca1d589-ab39-4ba2-b415-62b56f82e81e",
        "colab": {
          "base_uri": "https://localhost:8080/",
          "height": 545
        }
      },
      "source": [
        "acc = history.history['acc']\n",
        "val_acc = history.history['val_acc']\n",
        "loss = history.history['loss']\n",
        "val_loss = history.history['val_loss']\n",
        "epochs = range(1, len(acc) + 1)\n",
        "plt.plot(epochs, acc, 'bo', label='Training acc')\n",
        "plt.plot(epochs, val_acc, 'b', label='Validation acc')\n",
        "plt.title('Training and validation accuracy')\n",
        "plt.legend()\n",
        "plt.figure()\n",
        "plt.plot(epochs, loss, 'bo', label='Training loss')\n",
        "plt.plot(epochs, val_loss, 'b', label='Validation loss')\n",
        "plt.title('Training and validation loss')\n",
        "plt.legend()\n",
        "plt.show()"
      ],
      "execution_count": 21,
      "outputs": [
        {
          "output_type": "display_data",
          "data": {
            "image/png": "[encoded data removed]",
            "text/plain": [
              "<Figure size 432x288 with 1 Axes>"
            ]
          },
          "metadata": {
            "tags": [],
            "needs_background": "light"
          }
        },
        {
          "output_type": "display_data",
          "data": {
            "image/png": "[encoded data removed]",
            "text/plain": [
              "<Figure size 432x288 with 1 Axes>"
            ]
          },
          "metadata": {
            "tags": [],
            "needs_background": "light"
          }
        }
      ]
    },
    {
      "cell_type": "code",
      "metadata": {
        "id": "-HwdksEO1YE-",
        "colab_type": "code",
        "outputId": "a722028c-9737-4a9c-9e41-71d53f97ead8",
        "colab": {
          "base_uri": "https://localhost:8080/",
          "height": 34
        }
      },
      "source": [
        "test_loss, test_acc = model.evaluate_generator(test_generator, steps=50)\n",
        "print('test acc:', test_acc)"
      ],
      "execution_count": 23,
      "outputs": [
        {
          "output_type": "stream",
          "text": [
            "test acc: 0.6730158925056458\n"
          ],
          "name": "stdout"
        }
      ]
    },
    {
      "cell_type": "code",
      "metadata": {
        "id": "2BlM3NM017Dc",
        "colab_type": "code",
        "colab": {}
      },
      "source": [
        ""
      ],
      "execution_count": 0,
      "outputs": []
    },
    {
      "cell_type": "code",
      "metadata": {
        "id": "B_92c6D0-Z1h",
        "colab_type": "code",
        "colab": {}
      },
      "source": [
        ""
      ],
      "execution_count": 0,
      "outputs": []
    }
  ]
}